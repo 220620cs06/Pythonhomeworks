{
  "nbformat": 4,
  "nbformat_minor": 0,
  "metadata": {
    "colab": {
      "provenance": []
    },
    "kernelspec": {
      "name": "python3",
      "display_name": "Python 3"
    },
    "language_info": {
      "name": "python"
    }
  },
  "cells": [
    {
      "cell_type": "code",
      "source": [
        "!pip install requests"
      ],
      "metadata": {
        "colab": {
          "base_uri": "https://localhost:8080/"
        },
        "id": "wRdaiOuRO_7X",
        "outputId": "b9878c39-ae6c-45f4-869d-e5d390f5f498"
      },
      "execution_count": 2,
      "outputs": [
        {
          "output_type": "stream",
          "name": "stdout",
          "text": [
            "Requirement already satisfied: requests in /usr/local/lib/python3.11/dist-packages (2.32.3)\n",
            "Requirement already satisfied: charset-normalizer<4,>=2 in /usr/local/lib/python3.11/dist-packages (from requests) (3.4.2)\n",
            "Requirement already satisfied: idna<4,>=2.5 in /usr/local/lib/python3.11/dist-packages (from requests) (3.10)\n",
            "Requirement already satisfied: urllib3<3,>=1.21.1 in /usr/local/lib/python3.11/dist-packages (from requests) (2.4.0)\n",
            "Requirement already satisfied: certifi>=2017.4.17 in /usr/local/lib/python3.11/dist-packages (from requests) (2025.4.26)\n"
          ]
        }
      ]
    },
    {
      "cell_type": "code",
      "source": [
        "import requests\n",
        "def get_weather(api_key, city):\n",
        "    base_url = \"http://api.openweathermap.org/data/2.5/weather\"\n",
        "    params = {\n",
        "        'q': city,\n",
        "        'appid': api_key,\n",
        "        'units': 'metric'  # For Celsius, use 'imperial' for Fahrenheit\n",
        "    }\n",
        "\n",
        "    try:\n",
        "        response = requests.get(base_url, params=params)\n",
        "        response.raise_for_status()  # Raises an HTTPError for bad responses\n",
        "        data = response.json()\n",
        "\n",
        "        print(f\"\\nWeather in {city}:\")\n",
        "        print(f\"Temperature: {data['main']['temp']}°C\")\n",
        "        print(f\"Humidity: {data['main']['humidity']}%\")\n",
        "        print(f\"Weather: {data['weather'][0]['description']}\")\n",
        "        print(f\"Wind Speed: {data['wind']['speed']} m/s\")\n",
        "\n",
        "    except requests.exceptions.RequestException as e:\n",
        "        print(f\"Error fetching weather data: {e}\")\n",
        "\n",
        "\n",
        "API_KEY = \"ba0f115b94bed79cfc5e4fe6a2fd5fcb\"\n",
        "CITY = \"Tashkent\"\n",
        "\n",
        "get_weather(API_KEY, CITY)"
      ],
      "metadata": {
        "colab": {
          "base_uri": "https://localhost:8080/"
        },
        "id": "Nk7BjWO4oOjQ",
        "outputId": "b3077add-b216-4bf1-8005-657f358d0a9d"
      },
      "execution_count": 1,
      "outputs": [
        {
          "output_type": "stream",
          "name": "stdout",
          "text": [
            "\n",
            "Weather in Tashkent:\n",
            "Temperature: 22.97°C\n",
            "Humidity: 53%\n",
            "Weather: clear sky\n",
            "Wind Speed: 4.12 m/s\n"
          ]
        }
      ]
    },
    {
      "cell_type": "code",
      "source": [],
      "metadata": {
        "id": "QYKYebwwrZTW"
      },
      "execution_count": null,
      "outputs": []
    }
  ]
}