{
  "nbformat": 4,
  "nbformat_minor": 0,
  "metadata": {
    "colab": {
      "provenance": []
    },
    "kernelspec": {
      "name": "python3",
      "display_name": "Python 3"
    },
    "language_info": {
      "name": "python"
    }
  },
  "cells": [
    {
      "cell_type": "code",
      "execution_count": 1,
      "metadata": {
        "id": "Zmy7WqKQNr_O"
      },
      "outputs": [],
      "source": [
        "import numpy as np\n",
        "\n",
        "a = np.array([\n",
        "    10, 12, 15, 18, 20, 22, 25, 30, 28, 26, 24, 30, 35, 40, 38, 36, 34, 32, 30, 25,\n",
        "    20, 15, 12, 10, 15, 20, 25, 30, 35, 40, 45, 50, 48, 46, 44, 42, 40, 38, 36, 35,\n",
        "    33, 32, 31, 30, 28, 26, 24, 22, 20, 18, 16, 14, 12, 10\n",
        "])\n",
        "\n",
        "b = np.array([\n",
        "    5, 10, 5, 10, 6, 11, 6, 11, 7, 12, 7, 12, 8, 13, 8, 13, 9, 14, 9, 14,\n",
        "    10, 15, 10, 15, 11, 16, 11, 16, 12, 17, 12, 17, 13, 18, 13, 18, 14, 19, 14, 19,\n",
        "    15, 20, 15, 20, 16, 21, 16, 21, 17, 22, 17, 22, 18, 23\n",
        "])\n",
        "\n",
        "w = np.array([\n",
        "    1, 2, 3, 4, 5, 6, 7, 8, 9, 10, 10, 9, 8, 7, 6, 5, 4, 3, 2, 1,\n",
        "    2, 3, 4, 5, 6, 7, 8, 9, 10, 11, 12, 13, 14, 13, 12, 11, 10, 9, 8, 7,\n",
        "    6, 5, 4, 3, 2, 1, 2, 3, 4, 5, 6, 7, 8, 9\n",
        "])\n"
      ]
    },
    {
      "cell_type": "code",
      "source": [
        "# method 1\n",
        "a.sum() / len(a)\n",
        "\n",
        "# method 2\n",
        "a.mean()"
      ],
      "metadata": {
        "colab": {
          "base_uri": "https://localhost:8080/"
        },
        "id": "caf7JeOWNuwT",
        "outputId": "619ae90a-e257-474a-ddf6-b05963356287"
      },
      "execution_count": 2,
      "outputs": [
        {
          "output_type": "execute_result",
          "data": {
            "text/plain": [
              "np.float64(27.62962962962963)"
            ]
          },
          "metadata": {},
          "execution_count": 2
        }
      ]
    },
    {
      "cell_type": "code",
      "source": [
        "np.sqrt(np.sum(a**2))\n"
      ],
      "metadata": {
        "colab": {
          "base_uri": "https://localhost:8080/"
        },
        "id": "8sFvYpnUOGBW",
        "outputId": "e74028d4-08f3-4407-d0fc-0ce69f67da56"
      },
      "execution_count": 3,
      "outputs": [
        {
          "output_type": "execute_result",
          "data": {
            "text/plain": [
              "np.float64(217.66028576660466)"
            ]
          },
          "metadata": {},
          "execution_count": 3
        }
      ]
    },
    {
      "cell_type": "code",
      "source": [
        "def cov(a, b):\n",
        "    return np.mean((a - a.mean()) * (b - b.mean()))"
      ],
      "metadata": {
        "id": "uVnJCKOrOQ5r"
      },
      "execution_count": 5,
      "outputs": []
    },
    {
      "cell_type": "code",
      "source": [
        "cov(a, b) / (np.std(a) * np.std(b))"
      ],
      "metadata": {
        "colab": {
          "base_uri": "https://localhost:8080/"
        },
        "id": "xUHFEKz2OFyc",
        "outputId": "9024beda-3997-47e0-8de8-0a0bbc1bd44c"
      },
      "execution_count": 6,
      "outputs": [
        {
          "output_type": "execute_result",
          "data": {
            "text/plain": [
              "np.float64(0.06670183572918015)"
            ]
          },
          "metadata": {},
          "execution_count": 6
        }
      ]
    },
    {
      "cell_type": "code",
      "source": [
        "import matplotlib.pyplot as plt\n",
        "\n",
        "plt.scatter(a, w)\n",
        "plt.show()"
      ],
      "metadata": {
        "colab": {
          "base_uri": "https://localhost:8080/",
          "height": 430
        },
        "id": "AbRZakgfOMjE",
        "outputId": "29806007-ebd3-4294-e48c-fdb97c851b46"
      },
      "execution_count": 7,
      "outputs": [
        {
          "output_type": "display_data",
          "data": {
            "text/plain": [
              "<Figure size 640x480 with 1 Axes>"
            ],
            "image/png": "[encoded data removed]"
          },
          "metadata": {}
        }
      ]
    },
    {
      "cell_type": "code",
      "source": [],
      "metadata": {
        "id": "WTfMod4tOVcu"
      },
      "execution_count": null,
      "outputs": []
    }
  ]
}