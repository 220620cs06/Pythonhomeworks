{
  "nbformat": 4,
  "nbformat_minor": 0,
  "metadata": {
    "colab": {
      "provenance": []
    },
    "kernelspec": {
      "name": "python3",
      "display_name": "Python 3"
    },
    "language_info": {
      "name": "python"
    }
  },
  "cells": [
    {
      "cell_type": "markdown",
      "source": [
        "Set1"
      ],
      "metadata": {
        "id": "Rv3aSFTf5Foi"
      }
    },
    {
      "cell_type": "code",
      "execution_count": 2,
      "metadata": {
        "colab": {
          "base_uri": "https://localhost:8080/"
        },
        "id": "4zLtSCJ341T_",
        "outputId": "a70b87c1-b370-44fb-ef2a-67426e63984e"
      },
      "outputs": [
        {
          "output_type": "stream",
          "name": "stdout",
          "text": [
            "{1, 2, 3, 4, 5}\n"
          ]
        }
      ],
      "source": [
        "set1 = {1, 2, 3}\n",
        "set2 = {3, 4, 5}\n",
        "union = set1 | set2\n",
        "print(union)"
      ]
    },
    {
      "cell_type": "markdown",
      "source": [
        "Set2"
      ],
      "metadata": {
        "id": "LzkvZzTZ6Fve"
      }
    },
    {
      "cell_type": "code",
      "source": [
        "set1 = {1, 2, 3}\n",
        "set2 = {3, 4, 5}\n",
        "intersect = set1 & set2\n",
        "print(intersect)"
      ],
      "metadata": {
        "colab": {
          "base_uri": "https://localhost:8080/"
        },
        "id": "sDzyZBgL5Nsb",
        "outputId": "afd31cd3-57a7-4ad9-dd35-1948e02b83a4"
      },
      "execution_count": 3,
      "outputs": [
        {
          "output_type": "stream",
          "name": "stdout",
          "text": [
            "{3}\n"
          ]
        }
      ]
    },
    {
      "cell_type": "markdown",
      "source": [
        "Set3"
      ],
      "metadata": {
        "id": "HN_KuDaN6fBp"
      }
    },
    {
      "cell_type": "code",
      "source": [
        "set1 = {1, 2, 3}\n",
        "set2 = {3, 4, 5}\n",
        "intersect = set1 - set2\n",
        "print(intersect)"
      ],
      "metadata": {
        "colab": {
          "base_uri": "https://localhost:8080/"
        },
        "id": "2oDNYTOT6h0v",
        "outputId": "bf80ad3d-cf49-4d7b-8bac-abaa981761da"
      },
      "execution_count": 4,
      "outputs": [
        {
          "output_type": "stream",
          "name": "stdout",
          "text": [
            "{1, 2}\n"
          ]
        }
      ]
    },
    {
      "cell_type": "markdown",
      "source": [
        "Set4"
      ],
      "metadata": {
        "id": "vmUpI1Tc6zFM"
      }
    },
    {
      "cell_type": "code",
      "source": [
        "set1 = {1, 2}\n",
        "set2 = {1, 2, 3}\n",
        "is_subset = set1 <= set2\n",
        "print(is_subset)\n",
        "#"
      ],
      "metadata": {
        "colab": {
          "base_uri": "https://localhost:8080/"
        },
        "id": "epWKdy1r6o12",
        "outputId": "12e6d920-9e1c-4792-f31b-2986b2419d5f"
      },
      "execution_count": 5,
      "outputs": [
        {
          "output_type": "stream",
          "name": "stdout",
          "text": [
            "True\n"
          ]
        }
      ]
    },
    {
      "cell_type": "markdown",
      "source": [
        "Set5"
      ],
      "metadata": {
        "id": "ITrb06LD7BSb"
      }
    },
    {
      "cell_type": "code",
      "source": [
        "set1={2,3,2,4,5,6}\n",
        "print(3 in set1)\n",
        "#"
      ],
      "metadata": {
        "colab": {
          "base_uri": "https://localhost:8080/"
        },
        "id": "qdPFW7uL67dV",
        "outputId": "9aee31ae-e32c-41fd-ce35-4713321111b6"
      },
      "execution_count": 6,
      "outputs": [
        {
          "output_type": "stream",
          "name": "stdout",
          "text": [
            "True\n"
          ]
        }
      ]
    },
    {
      "cell_type": "markdown",
      "source": [
        "Set6"
      ],
      "metadata": {
        "id": "ps0don4X7YvX"
      }
    },
    {
      "cell_type": "code",
      "source": [
        "set1={2,3,2,4,5,6}\n",
        "print(len(set1))"
      ],
      "metadata": {
        "colab": {
          "base_uri": "https://localhost:8080/"
        },
        "id": "-X7GONs-7VUQ",
        "outputId": "315083a0-7c24-467a-9f4f-fc7af38c5cc8"
      },
      "execution_count": 7,
      "outputs": [
        {
          "output_type": "stream",
          "name": "stdout",
          "text": [
            "5\n"
          ]
        }
      ]
    },
    {
      "cell_type": "markdown",
      "source": [
        "Set7"
      ],
      "metadata": {
        "id": "2U8mmA-89huz"
      }
    },
    {
      "cell_type": "code",
      "source": [
        "my_list = [1, 2, 2, 3, 4]\n",
        "unique_set = set(my_list)\n",
        "print(unique_set)"
      ],
      "metadata": {
        "colab": {
          "base_uri": "https://localhost:8080/"
        },
        "id": "CGuAmUEq9gMi",
        "outputId": "1e047343-ab14-446b-ba07-aaebeffde0fb"
      },
      "execution_count": 8,
      "outputs": [
        {
          "output_type": "stream",
          "name": "stdout",
          "text": [
            "{1, 2, 3, 4}\n"
          ]
        }
      ]
    },
    {
      "cell_type": "markdown",
      "source": [
        "Set8"
      ],
      "metadata": {
        "id": "gHGwfgUy90nU"
      }
    },
    {
      "cell_type": "code",
      "source": [
        "my_set = {1, 2, 3}\n",
        "my_set.discard(2)\n",
        "print(my_set)"
      ],
      "metadata": {
        "colab": {
          "base_uri": "https://localhost:8080/"
        },
        "id": "g4feNf779ySD",
        "outputId": "2f0fab9f-b99b-4875-c708-b179ca2e9bfb"
      },
      "execution_count": 9,
      "outputs": [
        {
          "output_type": "stream",
          "name": "stdout",
          "text": [
            "{1, 3}\n"
          ]
        }
      ]
    },
    {
      "cell_type": "markdown",
      "source": [
        "Set9"
      ],
      "metadata": {
        "id": "AnbQfED7-D2g"
      }
    },
    {
      "cell_type": "code",
      "source": [
        "my_set = {1, 2, 3}\n",
        "my_set.clear()\n",
        "print(my_set)"
      ],
      "metadata": {
        "colab": {
          "base_uri": "https://localhost:8080/"
        },
        "id": "3jIm0YmG9_-Z",
        "outputId": "482960f0-11ac-4ba1-b09e-c497a957be91"
      },
      "execution_count": 10,
      "outputs": [
        {
          "output_type": "stream",
          "name": "stdout",
          "text": [
            "set()\n"
          ]
        }
      ]
    },
    {
      "cell_type": "markdown",
      "source": [
        "Set10"
      ],
      "metadata": {
        "id": "nHo99Lcg-cvr"
      }
    },
    {
      "cell_type": "code",
      "source": [
        "my_set = set()\n",
        "is_empty = len(my_set) == 0\n",
        "print(is_empty)"
      ],
      "metadata": {
        "colab": {
          "base_uri": "https://localhost:8080/"
        },
        "id": "H34ZH8X--YCU",
        "outputId": "8a11570e-eebe-44ec-facd-5e4aa5d0ee10"
      },
      "execution_count": 11,
      "outputs": [
        {
          "output_type": "stream",
          "name": "stdout",
          "text": [
            "True\n"
          ]
        }
      ]
    },
    {
      "cell_type": "markdown",
      "source": [
        "Set11"
      ],
      "metadata": {
        "id": "xvyWiacQ-mG3"
      }
    },
    {
      "cell_type": "code",
      "source": [
        "set1 = {1, 2, 3}\n",
        "set2 = {3, 4, 5}\n",
        "sym_diff = set1 ^ set2\n",
        "print(sym_diff)"
      ],
      "metadata": {
        "colab": {
          "base_uri": "https://localhost:8080/"
        },
        "id": "gAu7AjCq-k_e",
        "outputId": "900a63dc-9512-477b-d99a-5046c276d7ed"
      },
      "execution_count": 12,
      "outputs": [
        {
          "output_type": "stream",
          "name": "stdout",
          "text": [
            "{1, 2, 4, 5}\n"
          ]
        }
      ]
    },
    {
      "cell_type": "markdown",
      "source": [
        "Set12"
      ],
      "metadata": {
        "id": "Wzpq_nfl-0vB"
      }
    },
    {
      "cell_type": "code",
      "source": [
        "my_set = {1, 2, 3}\n",
        "my_set.add(4)\n",
        "print(my_set)"
      ],
      "metadata": {
        "colab": {
          "base_uri": "https://localhost:8080/"
        },
        "id": "5S1fEGWZ-zpM",
        "outputId": "1c4bf394-6483-429e-a092-e829ba2a10fd"
      },
      "execution_count": 13,
      "outputs": [
        {
          "output_type": "stream",
          "name": "stdout",
          "text": [
            "{1, 2, 3, 4}\n"
          ]
        }
      ]
    },
    {
      "cell_type": "markdown",
      "source": [
        "Set13"
      ],
      "metadata": {
        "id": "zfC-fY5G_GPD"
      }
    },
    {
      "cell_type": "code",
      "source": [
        "my_set = {1, 2, 3}\n",
        "popped = my_set.pop() if my_set else None\n",
        "print(popped)"
      ],
      "metadata": {
        "colab": {
          "base_uri": "https://localhost:8080/"
        },
        "id": "KG9jux39-_q4",
        "outputId": "3e63ccb6-2d8a-440e-8adc-2dedc01e92bf"
      },
      "execution_count": 14,
      "outputs": [
        {
          "output_type": "stream",
          "name": "stdout",
          "text": [
            "1\n"
          ]
        }
      ]
    },
    {
      "cell_type": "markdown",
      "source": [
        "Set14"
      ],
      "metadata": {
        "id": "SjbWINFO_QyE"
      }
    },
    {
      "cell_type": "code",
      "source": [
        "my_set = {5, 2, 9, 1}\n",
        "max_val = max(my_set) if my_set else None\n",
        "print(max_val)"
      ],
      "metadata": {
        "colab": {
          "base_uri": "https://localhost:8080/"
        },
        "id": "e96mb9-n_Msy",
        "outputId": "98af7b66-0de8-44cc-dc8a-f474e92df268"
      },
      "execution_count": 15,
      "outputs": [
        {
          "output_type": "stream",
          "name": "stdout",
          "text": [
            "9\n"
          ]
        }
      ]
    },
    {
      "cell_type": "markdown",
      "source": [
        "Set15"
      ],
      "metadata": {
        "id": "IPZou0Mf_ZdD"
      }
    },
    {
      "cell_type": "code",
      "source": [
        "my_set = {5, 2, 9, 1}\n",
        "min_val = min(my_set) if my_set else None\n",
        "print(min_val)"
      ],
      "metadata": {
        "colab": {
          "base_uri": "https://localhost:8080/"
        },
        "id": "tQc0qhgx_XoO",
        "outputId": "b6670aef-dedd-4025-dbaf-52d5eac75c30"
      },
      "execution_count": 17,
      "outputs": [
        {
          "output_type": "stream",
          "name": "stdout",
          "text": [
            "1\n"
          ]
        }
      ]
    },
    {
      "cell_type": "markdown",
      "source": [
        "Set16"
      ],
      "metadata": {
        "id": "aGEp5ZWE_qyL"
      }
    },
    {
      "cell_type": "code",
      "source": [
        "my_set = {1, 2, 3, 4, 5, 6}\n",
        "evens = {x for x in my_set if x % 2 == 0}\n",
        "print(evens)"
      ],
      "metadata": {
        "colab": {
          "base_uri": "https://localhost:8080/"
        },
        "id": "w4rvIGhm_maN",
        "outputId": "eed64bd9-877c-4a53-a3a4-5097e6cca90a"
      },
      "execution_count": 18,
      "outputs": [
        {
          "output_type": "stream",
          "name": "stdout",
          "text": [
            "{2, 4, 6}\n"
          ]
        }
      ]
    },
    {
      "cell_type": "markdown",
      "source": [
        "Set17"
      ],
      "metadata": {
        "id": "A5jqRASA_2ys"
      }
    },
    {
      "cell_type": "code",
      "source": [
        "my_set = {1, 2, 3, 4, 5, 6}\n",
        "odds = {x for x in my_set if x % 2 == 1}\n",
        "print(odds)"
      ],
      "metadata": {
        "colab": {
          "base_uri": "https://localhost:8080/"
        },
        "id": "GPVouCqM_1bq",
        "outputId": "e27e9e9a-f06b-4e02-d0fc-4f63455d3964"
      },
      "execution_count": 19,
      "outputs": [
        {
          "output_type": "stream",
          "name": "stdout",
          "text": [
            "{1, 3, 5}\n"
          ]
        }
      ]
    },
    {
      "cell_type": "markdown",
      "source": [
        "Set18"
      ],
      "metadata": {
        "id": "0aZ-4CNZAAUY"
      }
    },
    {
      "cell_type": "code",
      "source": [
        "start, end = 1, 5\n",
        "range_set = set(range(start, end + 1))\n",
        "print(range_set)"
      ],
      "metadata": {
        "colab": {
          "base_uri": "https://localhost:8080/"
        },
        "id": "umO7-5S3_-Yf",
        "outputId": "c672fe8c-9aab-4969-ef99-a36824f13032"
      },
      "execution_count": 20,
      "outputs": [
        {
          "output_type": "stream",
          "name": "stdout",
          "text": [
            "{1, 2, 3, 4, 5}\n"
          ]
        }
      ]
    },
    {
      "cell_type": "markdown",
      "source": [
        "Set19"
      ],
      "metadata": {
        "id": "eSZOoTTwAJl0"
      }
    },
    {
      "cell_type": "code",
      "source": [
        "list1 = [1, 2, 2, 3]\n",
        "list2 = [3, 4, 5]\n",
        "merged_set = set(list1 + list2)\n",
        "print(merged_set)"
      ],
      "metadata": {
        "colab": {
          "base_uri": "https://localhost:8080/"
        },
        "id": "OeqYKVW3AHdZ",
        "outputId": "11663bec-c66a-4985-bc22-e8b5e3509fbb"
      },
      "execution_count": 21,
      "outputs": [
        {
          "output_type": "stream",
          "name": "stdout",
          "text": [
            "{1, 2, 3, 4, 5}\n"
          ]
        }
      ]
    },
    {
      "cell_type": "markdown",
      "source": [
        "Set20"
      ],
      "metadata": {
        "id": "q4V8j2gGAdVo"
      }
    },
    {
      "cell_type": "code",
      "source": [
        "set1 = {1, 2, 3}\n",
        "set2 = {4, 5, 6}\n",
        "is_disjoint = set1.isdisjoint(set2)\n",
        "print(is_disjoint)\n",
        "#"
      ],
      "metadata": {
        "colab": {
          "base_uri": "https://localhost:8080/"
        },
        "id": "q5XiVUQzAcC4",
        "outputId": "997fe531-1e90-485b-a10f-19c643cc604b"
      },
      "execution_count": 22,
      "outputs": [
        {
          "output_type": "stream",
          "name": "stdout",
          "text": [
            "True\n"
          ]
        }
      ]
    },
    {
      "cell_type": "markdown",
      "source": [
        "Set21"
      ],
      "metadata": {
        "id": "It6B_zSaAo2u"
      }
    },
    {
      "cell_type": "code",
      "source": [
        "my_list = [1, 2, 2, 3, 4, 4]\n",
        "unique_list = list(set(my_list))\n",
        "print(unique_list)"
      ],
      "metadata": {
        "colab": {
          "base_uri": "https://localhost:8080/"
        },
        "id": "xzzQ97b2Am_M",
        "outputId": "91aae461-2b80-49af-f9fc-8993e50b2772"
      },
      "execution_count": 23,
      "outputs": [
        {
          "output_type": "stream",
          "name": "stdout",
          "text": [
            "[1, 2, 3, 4]\n"
          ]
        }
      ]
    },
    {
      "cell_type": "markdown",
      "source": [
        "Set22"
      ],
      "metadata": {
        "id": "EwptqC6hA147"
      }
    },
    {
      "cell_type": "code",
      "source": [
        "my_list = [1, 2, 2, 3, 4, 4]\n",
        "unique_list = len(set(my_list))\n",
        "print(unique_list)"
      ],
      "metadata": {
        "colab": {
          "base_uri": "https://localhost:8080/"
        },
        "id": "qHMZ744gAz8L",
        "outputId": "f4a4a5cc-f630-4703-df89-58c76d48defa"
      },
      "execution_count": 24,
      "outputs": [
        {
          "output_type": "stream",
          "name": "stdout",
          "text": [
            "4\n"
          ]
        }
      ]
    },
    {
      "cell_type": "markdown",
      "source": [
        "Set23"
      ],
      "metadata": {
        "id": "EOTnIiSABHCM"
      }
    },
    {
      "cell_type": "code",
      "source": [
        "import random\n",
        "size = 5\n",
        "start, end = 1, 10\n",
        "random_set = {random.randint(start, end) for _ in range(size)}\n",
        "print(random_set)"
      ],
      "metadata": {
        "colab": {
          "base_uri": "https://localhost:8080/"
        },
        "id": "P5zkFtRsBEQm",
        "outputId": "f34117c3-48d8-477a-a185-8ba9cd614231"
      },
      "execution_count": 25,
      "outputs": [
        {
          "output_type": "stream",
          "name": "stdout",
          "text": [
            "{10, 3, 5, 7}\n"
          ]
        }
      ]
    },
    {
      "cell_type": "code",
      "source": [],
      "metadata": {
        "id": "K-m2nWeDBVzH"
      },
      "execution_count": null,
      "outputs": []
    }
  ]
}