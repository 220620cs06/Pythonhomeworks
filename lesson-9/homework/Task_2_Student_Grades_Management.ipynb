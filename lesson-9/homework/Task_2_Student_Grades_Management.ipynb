{
  "nbformat": 4,
  "nbformat_minor": 0,
  "metadata": {
    "colab": {
      "provenance": []
    },
    "kernelspec": {
      "name": "python3",
      "display_name": "Python 3"
    },
    "language_info": {
      "name": "python"
    }
  },
  "cells": [
    {
      "cell_type": "code",
      "source": [
        "import csv\n",
        "\n",
        "def process_grades():\n",
        "    # Read grades from CSV\n",
        "    grades = []\n",
        "    with open('grades.csv', mode='r') as file:\n",
        "        reader = csv.DictReader(file)\n",
        "        for row in reader:\n",
        "            grades.append({\n",
        "                'Name': row['Name'],\n",
        "                'Subject': row['Subject'],\n",
        "                'Grade': int(row['Grade'])\n",
        "            })\n",
        "\n",
        "    # Calculate average grades per subject\n",
        "    subject_grades = {}\n",
        "    for entry in grades:\n",
        "        subject = entry['Subject']\n",
        "        if subject not in subject_grades:\n",
        "            subject_grades[subject] = []\n",
        "        subject_grades[subject].append(entry['Grade'])\n",
        "\n",
        "    averages = []\n",
        "    for subject, grades in subject_grades.items():\n",
        "        avg = sum(grades) / len(grades)\n",
        "        averages.append({'Subject': subject, 'Average Grade': avg})\n",
        "\n",
        "    # Write averages to new CSV\n",
        "    with open('average_grades.csv', mode='w', newline='') as file:\n",
        "        fieldnames = ['Subject', 'Average Grade']\n",
        "        writer = csv.DictWriter(file, fieldnames=fieldnames)\n",
        "\n",
        "        writer.writeheader()\n",
        "        for row in averages:\n",
        "            writer.writerow(row)\n",
        "\n",
        "    print(\"Average grades calculated and saved to average_grades.csv\")\n",
        "\n",
        "# Create the initial grades.csv file (normally you would have this file already)\n",
        "def create_grades_file():\n",
        "    data = [\n",
        "        ['Name', 'Subject', 'Grade'],\n",
        "        ['Alice', 'Math', '85'],\n",
        "        ['Bob', 'Science', '78'],\n",
        "        ['Carol', 'Math', '92'],\n",
        "        ['Dave', 'History', '74']\n",
        "    ]\n",
        "\n",
        "    with open('grades.csv', mode='w', newline='') as file:\n",
        "        writer = csv.writer(file)\n",
        "        writer.writerows(data)\n",
        "\n",
        "    print(\"Created grades.csv file\")\n",
        "\n",
        "create_grades_file()\n",
        "process_grades()"
      ],
      "metadata": {
        "colab": {
          "base_uri": "https://localhost:8080/"
        },
        "id": "wRdaiOuRO_7X",
        "outputId": "a7b27a44-b2eb-4333-e4c1-c6e558e3b1fd"
      },
      "execution_count": 34,
      "outputs": [
        {
          "output_type": "stream",
          "name": "stdout",
          "text": [
            "Created grades.csv file\n",
            "Average grades calculated and saved to average_grades.csv\n"
          ]
        }
      ]
    },
    {
      "cell_type": "code",
      "source": [],
      "metadata": {
        "id": "jgXPUWaAQN2Q"
      },
      "execution_count": null,
      "outputs": []
    }
  ]
}