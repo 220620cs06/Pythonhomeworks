{
  "nbformat": 4,
  "nbformat_minor": 0,
  "metadata": {
    "colab": {
      "provenance": []
    },
    "kernelspec": {
      "name": "python3",
      "display_name": "Python 3"
    },
    "language_info": {
      "name": "python"
    }
  },
  "cells": [
    {
      "cell_type": "code",
      "source": [
        "html_doc=\"\"\"<!DOCTYPE html>\n",
        "<html>\n",
        "<head>\n",
        "    <title>Weather Forecast</title>\n",
        "</head>\n",
        "<body>\n",
        "    <h4>5-Day Weather Forecast</h4>\n",
        "    <table>\n",
        "        <thead>\n",
        "            <tr>\n",
        "                <th>Day</th>\n",
        "                <th>Temperature</th>\n",
        "                <th>Condition</th>\n",
        "            </tr>\n",
        "        </thead>\n",
        "        <tbody>\n",
        "            <tr>\n",
        "                <td>Monday</td>\n",
        "                <td>25°C</td>\n",
        "                <td>Sunny</td>\n",
        "            </tr>\n",
        "            <tr>\n",
        "                <td>Tuesday</td>\n",
        "                <td>22°C</td>\n",
        "                <td>Cloudy</td>\n",
        "            </tr>\n",
        "            <tr>\n",
        "                <td>Wednesday</td>\n",
        "                <td>18°C</td>\n",
        "                <td>Rainy</td>\n",
        "            </tr>\n",
        "            <tr>\n",
        "                <td>Thursday</td>\n",
        "                <td>20°C</td>\n",
        "                <td>Partly Cloudy</td>\n",
        "            </tr>\n",
        "            <tr>\n",
        "                <td>Friday</td>\n",
        "                <td>30°C</td>\n",
        "                <td>Sunny</td>\n",
        "            </tr>\n",
        "        </tbody>\n",
        "    </table>\n",
        "\n",
        "</body>\n",
        "</html>\n",
        "\"\"\""
      ],
      "metadata": {
        "id": "abantw5mc9qH"
      },
      "execution_count": 5,
      "outputs": []
    },
    {
      "cell_type": "code",
      "execution_count": 6,
      "metadata": {
        "colab": {
          "base_uri": "https://localhost:8080/"
        },
        "id": "usdRu4PsYOSm",
        "outputId": "351137ee-2fc9-4839-be22-b2536fca6e7d"
      },
      "outputs": [
        {
          "output_type": "stream",
          "name": "stdout",
          "text": [
            "5-Day Weather Forecast:\n",
            "Day        Temperature  Condition      \n",
            "Monday     25°C         Sunny          \n",
            "Tuesday    22°C         Cloudy         \n",
            "Wednesday  18°C         Rainy          \n",
            "Thursday   20°C         Partly Cloudy  \n",
            "Friday     30°C         Sunny          \n",
            "\n",
            "Days with the highest temperature:\n",
            "- Friday (30°C)\n",
            "\n",
            "Days with 'Sunny' condition:\n",
            "- Monday\n",
            "- Friday\n",
            "\n",
            "Average temperature for the week: 23.0°C\n"
          ]
        }
      ],
      "source": [
        "from bs4 import BeautifulSoup\n",
        "\n",
        "\n",
        "soup = BeautifulSoup(html_doc, 'html.parser')\n",
        "\n",
        "# Extract the data\n",
        "weather_data = []\n",
        "table = soup.find('table')\n",
        "rows = table.find('tbody').find_all('tr')\n",
        "\n",
        "for row in rows:\n",
        "    cols = row.find_all('td')\n",
        "    day = cols[0].text.strip()\n",
        "    temp = int(cols[1].text.strip().replace('°C', ''))\n",
        "    condition = cols[2].text.strip()\n",
        "    weather_data.append({\n",
        "        'day': day,\n",
        "        'temperature': temp,\n",
        "        'condition': condition\n",
        "    })\n",
        "\n",
        "# Display Weather Data\n",
        "print(\"5-Day Weather Forecast:\")\n",
        "print(\"{:<10} {:<12} {:<15}\".format('Day', 'Temperature', 'Condition'))\n",
        "for forecast in weather_data:\n",
        "    print(\"{:<10} {:<12} {:<15}\".format(\n",
        "        forecast['day'],\n",
        "        f\"{forecast['temperature']}°C\",\n",
        "        forecast['condition']\n",
        "    ))\n",
        "\n",
        "# max temp\n",
        "max_temp = max(item['temperature'] for item in weather_data)\n",
        "hottest_days = [item['day'] for item in weather_data if item['temperature'] == max_temp]\n",
        "\n",
        "# Sunny days\n",
        "sunny_days = [item['day'] for item in weather_data if item['condition'] == 'Sunny']\n",
        "\n",
        "print(\"\\nDays with the highest temperature:\")\n",
        "for day in hottest_days:\n",
        "    print(f\"- {day} ({max_temp}°C)\")\n",
        "\n",
        "print(\"\\nDays with 'Sunny' condition:\")\n",
        "for day in sunny_days:\n",
        "    print(f\"- {day}\")\n",
        "\n",
        "# Calculate Average Temperature\n",
        "avg_temp = sum(item['temperature'] for item in weather_data) / len(weather_data)\n",
        "print(f\"\\nAverage temperature for the week: {avg_temp:.1f}°C\")\n",
        "\n",
        "\n",
        "\n",
        "\n"
      ]
    },
    {
      "cell_type": "code",
      "source": [],
      "metadata": {
        "id": "iKxpjI7rZwtu"
      },
      "execution_count": null,
      "outputs": []
    }
  ]
}