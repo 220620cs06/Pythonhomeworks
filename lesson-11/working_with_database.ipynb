{
  "nbformat": 4,
  "nbformat_minor": 0,
  "metadata": {
    "colab": {
      "provenance": []
    },
    "kernelspec": {
      "name": "python3",
      "display_name": "Python 3"
    },
    "language_info": {
      "name": "python"
    }
  },
  "cells": [
    {
      "cell_type": "code",
      "source": [
        "import sqlite3"
      ],
      "metadata": {
        "id": "wRdaiOuRO_7X"
      },
      "execution_count": 2,
      "outputs": []
    },
    {
      "cell_type": "code",
      "source": [
        "connection = sqlite3.connect('database.db')"
      ],
      "metadata": {
        "id": "QYKYebwwrZTW"
      },
      "execution_count": 3,
      "outputs": []
    },
    {
      "cell_type": "code",
      "source": [
        "query=\"select data()\"\n",
        "cur=connection.cursor()\n",
        "print(cur.execute(query).fetchall())"
      ],
      "metadata": {
        "colab": {
          "base_uri": "https://localhost:8080/",
          "height": 176
        },
        "id": "8oeDBazKXby-",
        "outputId": "cbce4e9b-42d4-4b50-ab9f-0d1677f8155a"
      },
      "execution_count": 6,
      "outputs": [
        {
          "output_type": "error",
          "ename": "OperationalError",
          "evalue": "no such function: data",
          "traceback": [
            "\u001b[0;31m---------------------------------------------------------------------------\u001b[0m",
            "\u001b[0;31mOperationalError\u001b[0m                          Traceback (most recent call last)",
            "\u001b[0;32m<ipython-input-6-3659276399>\u001b[0m in \u001b[0;36m<cell line: 0>\u001b[0;34m()\u001b[0m\n\u001b[1;32m      1\u001b[0m \u001b[0mquery\u001b[0m\u001b[0;34m=\u001b[0m\u001b[0;34m\"select data()\"\u001b[0m\u001b[0;34m\u001b[0m\u001b[0;34m\u001b[0m\u001b[0m\n\u001b[1;32m      2\u001b[0m \u001b[0mcur\u001b[0m\u001b[0;34m=\u001b[0m\u001b[0mconnection\u001b[0m\u001b[0;34m.\u001b[0m\u001b[0mcursor\u001b[0m\u001b[0;34m(\u001b[0m\u001b[0;34m)\u001b[0m\u001b[0;34m\u001b[0m\u001b[0;34m\u001b[0m\u001b[0m\n\u001b[0;32m----> 3\u001b[0;31m \u001b[0mprint\u001b[0m\u001b[0;34m(\u001b[0m\u001b[0mcur\u001b[0m\u001b[0;34m.\u001b[0m\u001b[0mexecute\u001b[0m\u001b[0;34m(\u001b[0m\u001b[0mquery\u001b[0m\u001b[0;34m)\u001b[0m\u001b[0;34m.\u001b[0m\u001b[0mfetchall\u001b[0m\u001b[0;34m(\u001b[0m\u001b[0;34m)\u001b[0m\u001b[0;34m)\u001b[0m\u001b[0;34m\u001b[0m\u001b[0;34m\u001b[0m\u001b[0m\n\u001b[0m",
            "\u001b[0;31mOperationalError\u001b[0m: no such function: data"
          ]
        }
      ]
    },
    {
      "cell_type": "code",
      "source": [
        "con=sqlite3.connect(\"memory:\")\n",
        "query = \"SELECT datetime('now', 'localtime')\"\n",
        "results = cur.execute(query)\n",
        "results.fetchone()\n",
        "con.close()"
      ],
      "metadata": {
        "id": "_jkQWS0VYT4S"
      },
      "execution_count": 11,
      "outputs": []
    },
    {
      "cell_type": "code",
      "source": [
        "with sqlite3.connect(\"memory:\") as con:\n",
        "    cur = con.cursor()\n",
        "    query = \"SELECT datetime('now', 'localtime')\"\n",
        "    results = cur.execute(query)\n",
        "    print(results.fetchone())"
      ],
      "metadata": {
        "id": "RWy9VCsnZFsP"
      },
      "execution_count": null,
      "outputs": []
    },
    {
      "cell_type": "code",
      "source": [
        "import sqlite3\n",
        "create_table = \"\"\"\n",
        "    CREATE TABLE People(\n",
        "    FirstName TEXT,\n",
        "    LastName TEXT,\n",
        "    Age INT\n",
        "    );\"\"\"\n",
        "insert_values = \"\"\"\n",
        "    INSERT INTO People VALUES(\n",
        "    'Ron',\n",
        "    'Obvious',\n",
        "    42\n",
        "    );\"\"\"\n",
        "connection = sqlite3.connect(\"test_database.db\")\n",
        "cursor = connection.cursor()\n",
        "cursor.execute(create_table)\n",
        "cursor.execute(insert_values)\n",
        "connection.commit()\n",
        "connection.close()"
      ],
      "metadata": {
        "id": "zPbMU_0Pb48Y"
      },
      "execution_count": 12,
      "outputs": []
    },
    {
      "cell_type": "code",
      "source": [
        "connection = sqlite3.connect(\"test_database.db\")\n",
        "cursor = connection.cursor()\n",
        "query = \"SELECT * FROM People;\"\n",
        "results = cursor.execute(query)\n",
        "results.fetchone()"
      ],
      "metadata": {
        "colab": {
          "base_uri": "https://localhost:8080/"
        },
        "id": "4NN_aP4-b4pA",
        "outputId": "487522df-6e8a-4f7d-85d3-39fdc44877b5"
      },
      "execution_count": 13,
      "outputs": [
        {
          "output_type": "execute_result",
          "data": {
            "text/plain": [
              "('Ron', 'Obvious', 42)"
            ]
          },
          "metadata": {},
          "execution_count": 13
        }
      ]
    },
    {
      "cell_type": "code",
      "source": [
        "cursor.execute(\"DROP TABLE People;\")\n",
        "connection.commit()\n",
        "connection.close()"
      ],
      "metadata": {
        "id": "ncYjAEiZb_h-"
      },
      "execution_count": 14,
      "outputs": []
    },
    {
      "cell_type": "code",
      "source": [
        "import sqlite3\n",
        "\n",
        "create_table = \"\"\"\n",
        "    CREATE TABLE People(\n",
        "    FirstName TEXT,\n",
        "    LastName TEXT,\n",
        "    Age INT\n",
        "    );\"\"\"\n",
        "\n",
        "insert_values = \"\"\"\n",
        "    INSERT INTO People VALUES(\n",
        "    'Ron',\n",
        "    'Obvious',\n",
        "    42\n",
        "    );\"\"\"\n",
        "\n",
        "with sqlite3.connect(\"test_database.db\") as connection:\n",
        "    cursor = connection.cursor()\n",
        "    cursor.execute(create_table)\n",
        "    cursor.execute(insert_values)"
      ],
      "metadata": {
        "id": "CwqvUXl2cGiZ"
      },
      "execution_count": 15,
      "outputs": []
    },
    {
      "cell_type": "markdown",
      "source": [
        "Executing Multiple SQL Statements"
      ],
      "metadata": {
        "id": "EGTxVwiQcPLT"
      }
    },
    {
      "cell_type": "markdown",
      "source": [],
      "metadata": {
        "id": "7n0abQ1_cOxF"
      }
    },
    {
      "cell_type": "code",
      "source": [
        "import sqlite3\n",
        "\n",
        "sql = \"\"\"\n",
        "DROP TABLE IF EXISTS People;\n",
        "CREATE TABLE People(\n",
        "    FirstName TEXT,\n",
        "    LastName TEXT,\n",
        "    Age INT\n",
        "    );\n",
        "INSERT INTO People VALUES(\n",
        "    'Ron',\n",
        "    'Obvious',\n",
        "    '42'\n",
        "    );\"\"\"\n",
        "with sqlite3.connect(\"test_database.db\") as connection:\n",
        "    cursor = connection.cursor()\n",
        "    cursor.executescript(sql)"
      ],
      "metadata": {
        "id": "k11PqgqwcK87"
      },
      "execution_count": 16,
      "outputs": []
    },
    {
      "cell_type": "code",
      "source": [
        "people_values = (\n",
        "(\"Ron\", \"Obvious\", 42),\n",
        "(\"Luigi\", \"Vercotti\", 43),\n",
        "(\"Arthur\", \"Belling\", 28)\n",
        ")"
      ],
      "metadata": {
        "id": "8ircCEOHcadV"
      },
      "execution_count": 17,
      "outputs": []
    },
    {
      "cell_type": "code",
      "source": [
        "cursor.executemany(\"INSERT INTO People VALUES(?, ?, ?)\", people_values)\n",
        "connection.commit()"
      ],
      "metadata": {
        "id": "XzILPUqTcc1w"
      },
      "execution_count": 18,
      "outputs": []
    },
    {
      "cell_type": "code",
      "source": [
        "import sqlite3\n",
        "# Get person data from user\n",
        "first_name = input(\"Enter your first name: \")\n",
        "last_name = input(\"Enter your last name: \")\n",
        "age = int(input(\"Enter your age: \"))\n",
        "# Execute insert statement for supplied person data\n",
        "query = (\n",
        "    \"INSERT INTO People Values\"\n",
        "    f\"('{first_name}', '{last_name}', {age});\"\n",
        ")\n",
        "with sqlite3.connect(\"test_database.db\") as connection:\n",
        "    cursor = connection.cursor()\n",
        "    cursor.execute(query)"
      ],
      "metadata": {
        "colab": {
          "base_uri": "https://localhost:8080/"
        },
        "id": "ofX8JjtTcf38",
        "outputId": "ccfe9b2f-3f11-4ed9-fbf7-c3f0a0bbb0d5"
      },
      "execution_count": 19,
      "outputs": [
        {
          "name": "stdout",
          "output_type": "stream",
          "text": [
            "Enter your first name: sd\n",
            "Enter your last name: ds\n",
            "Enter your age: 34\n"
          ]
        }
      ]
    },
    {
      "cell_type": "code",
      "source": [
        "import sqlite3\n",
        "first_name = input(\"Enter your first name: \")\n",
        "last_name = input(\"Enter your last name: \")\n",
        "age = int(input(\"Enter your age: \"))\n",
        "data = (first_name, last_name, age)\n",
        "with sqlite3.connect(\"test_database.db\") as connection:\n",
        "    cursor = connection.cursor()\n",
        "    cursor.execute(\"INSERT INTO People VALUES(?, ?, ?);\", data)"
      ],
      "metadata": {
        "colab": {
          "base_uri": "https://localhost:8080/"
        },
        "id": "THV9j90HckMb",
        "outputId": "49b7e7b6-f6cb-44f2-a248-440fe9fd8e4b"
      },
      "execution_count": 21,
      "outputs": [
        {
          "name": "stdout",
          "output_type": "stream",
          "text": [
            "Enter your first name: df\n",
            "Enter your last name: s\n",
            "Enter your age: 3\n"
          ]
        }
      ]
    },
    {
      "cell_type": "markdown",
      "source": [
        "Libraries for Working With Other SQL Databases\n",
        "If you have a particular type of SQL database that you’d like to access through Python, most of the basic syntax is likely to be identical to what you just learned for SQLite. However, you’ll need to install an additional package to interact with your database since SQLite is the only built-in option.\n",
        "\n",
        "Many SQL variants and corresponding Python packages are available. Here are a few of the most commonly used and reliable open source alternatives to SQLite:\n",
        "\n",
        "pyodbc connects to ODBC (Open Database Connectivity) databases, such as Microsoft SQL Server.\n",
        "psycopg2 connects to PostgreSQL databases.\n",
        "PyMySQL connects to MySQL database"
      ],
      "metadata": {
        "id": "ZNk8oZavcyH9"
      }
    },
    {
      "cell_type": "code",
      "source": [],
      "metadata": {
        "id": "38MdilaVcqnE"
      },
      "execution_count": null,
      "outputs": []
    }
  ]
}