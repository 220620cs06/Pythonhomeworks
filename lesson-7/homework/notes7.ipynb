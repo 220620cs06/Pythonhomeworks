{
  "nbformat": 4,
  "nbformat_minor": 0,
  "metadata": {
    "colab": {
      "provenance": []
    },
    "kernelspec": {
      "name": "python3",
      "display_name": "Python 3"
    },
    "language_info": {
      "name": "python"
    }
  },
  "cells": [
    {
      "cell_type": "markdown",
      "source": [
        "Classes\n",
        "Class creation\n",
        "self – what it means\n",
        "Dunder methods"
      ],
      "metadata": {
        "id": "Do3VK3aLaxLQ"
      }
    },
    {
      "cell_type": "code",
      "execution_count": 3,
      "metadata": {
        "colab": {
          "base_uri": "https://localhost:8080/"
        },
        "id": "srPV_gN_ZbWB",
        "outputId": "b67cda93-6831-41a8-c682-0da065030d56"
      },
      "outputs": [
        {
          "output_type": "stream",
          "name": "stdout",
          "text": [
            "Point1: (3, 4)\n",
            "Point2: (16, 8)\n",
            "Distance between Point1 and Point2: 13.601470508735444\n",
            "Is Point1 inside the circle? True\n",
            "Is Point2 inside the circle? False\n"
          ]
        }
      ],
      "source": [
        "import math\n",
        "\n",
        "# Points\n",
        "point1 = (3, 4)\n",
        "point2 = (16, 8)\n",
        "\n",
        "# Circle\n",
        "circle_center = (5, 5)\n",
        "circle_radius = 5\n",
        "\n",
        "\n",
        "def distance(p1, p2):\n",
        "    \"\"\"Calculate the Euclidean distance between two points.\"\"\"\n",
        "    return math.sqrt((p1[0] - p2[0])**2 + (p1[1] - p2[1])**2)\n",
        "\n",
        "\n",
        "def is_inside_circle(center, radius, point):\n",
        "    \"\"\"Check if a point lies within a circle.\"\"\"\n",
        "    return distance(center, point) <= radius\n",
        "\n",
        "\n",
        "print(\"Point1:\", point1)\n",
        "print(\"Point2:\", point2)\n",
        "print(\"Distance between Point1 and Point2:\", distance(point1, point2))\n",
        "print(\"Is Point1 inside the circle?\", is_inside_circle(circle_center, circle_radius, point1))\n",
        "print(\"Is Point2 inside the circle?\", is_inside_circle(circle_center, circle_radius, point2))"
      ]
    },
    {
      "cell_type": "code",
      "source": [
        "class Point:\n",
        "    def __init__(self, x, y):\n",
        "        self.x = x\n",
        "        self.y = y\n",
        "\n",
        "a = Point(x=2, y=4)\n",
        "print(a.x)"
      ],
      "metadata": {
        "colab": {
          "base_uri": "https://localhost:8080/"
        },
        "id": "BM97KpJSmJLj",
        "outputId": "9351f499-3f80-4afd-907a-f8e3542a3657"
      },
      "execution_count": 4,
      "outputs": [
        {
          "output_type": "stream",
          "name": "stdout",
          "text": [
            "2\n"
          ]
        }
      ]
    },
    {
      "cell_type": "code",
      "source": [
        "b:int=5\n",
        "c:str='Hi'\n",
        "c"
      ],
      "metadata": {
        "colab": {
          "base_uri": "https://localhost:8080/",
          "height": 35
        },
        "id": "HjHWQAjEohHe",
        "outputId": "eed51711-43d0-411a-fb98-62a16b6b2ea3"
      },
      "execution_count": 7,
      "outputs": [
        {
          "output_type": "execute_result",
          "data": {
            "text/plain": [
              "'Hi'"
            ],
            "application/vnd.google.colaboratory.intrinsic+json": {
              "type": "string"
            }
          },
          "metadata": {},
          "execution_count": 7
        }
      ]
    },
    {
      "cell_type": "code",
      "source": [
        "def name(name1:str,age:int):\n",
        "  name1.find('Lola')"
      ],
      "metadata": {
        "id": "udbfK1bJpA_j"
      },
      "execution_count": null,
      "outputs": []
    },
    {
      "cell_type": "code",
      "source": [
        "def distance(p1:Point,p2:Point):\n",
        "  return math.sqrt((p1.x-p2.x)**2+(p1.y-p2.y)**2)"
      ],
      "metadata": {
        "id": "h9PbnWQ5qQ9K"
      },
      "execution_count": 8,
      "outputs": []
    },
    {
      "cell_type": "code",
      "source": [
        "class Point:\n",
        "    x: float\n",
        "    y: float\n",
        "\n",
        "    def distance(self, other: Point):\n",
        "        pass\n",
        "\n",
        "    # def check_is_in_circle(self, c: Circle)\n",
        "\n",
        "class Circle:\n",
        "    center: Point\n",
        "    r: float\n",
        "\n",
        "    def check_is_in_circle(self, p: Point):\n",
        "        pass"
      ],
      "metadata": {
        "id": "831PYtDjqcZT"
      },
      "execution_count": 9,
      "outputs": []
    },
    {
      "cell_type": "code",
      "source": [
        "# Example 2: OOP way of bank accounts\n",
        "\n",
        "class BankAccount:\n",
        "    def __init__(self, account_number, owner, balance=0):\n",
        "        self.account_number = account_number\n",
        "        self.owner = owner\n",
        "        self.balance = balance\n",
        "\n",
        "    def deposit(self, amount):\n",
        "        \"\"\"Deposits money into the account.\"\"\"\n",
        "        self.balance += amount\n",
        "\n",
        "    def withdraw(self, amount):\n",
        "        \"\"\"Withdraws money from the account if sufficient balance is available.\"\"\"\n",
        "        if self.balance >= amount:\n",
        "            self.balance -= amount\n",
        "            return True\n",
        "        return False\n",
        "\n",
        "    def get_balance(self):\n",
        "        \"\"\"Returns the current balance of the account.\"\"\"\n",
        "        return self.balance\n",
        "\n",
        "# Example usage\n",
        "alice_account = BankAccount(\"12345\", \"Alice\", 100)\n",
        "bob_account = BankAccount(\"67890\", \"Bob\", 50)\n",
        "\n",
        "print(\"Initial balance for Alice:\", alice_account.get_balance())\n",
        "alice_account.deposit(50)\n",
        "print(\"Balance after deposit for Alice:\", alice_account.get_balance())\n",
        "alice_account.withdraw(120)\n",
        "print(\"Balance after withdrawal for Alice:\", alice_account.get_balance())"
      ],
      "metadata": {
        "id": "qGwqJQgiut2k"
      },
      "execution_count": null,
      "outputs": []
    },
    {
      "cell_type": "code",
      "source": [
        "class Vector2D:\n",
        "  def __init__(self,x,y):\n",
        "    self.x=x\n",
        "    self.y=y\n",
        "\n",
        "v1=Vector2D(3,4)\n",
        "v2=Vector2D(5,6)\n",
        "print(v1.x)"
      ],
      "metadata": {
        "colab": {
          "base_uri": "https://localhost:8080/"
        },
        "id": "kr7q9rEy4vfv",
        "outputId": "764933da-2c97-4b4f-cfc6-9cb543900819"
      },
      "execution_count": 10,
      "outputs": [
        {
          "output_type": "stream",
          "name": "stdout",
          "text": [
            "3\n"
          ]
        }
      ]
    },
    {
      "cell_type": "markdown",
      "source": [
        "\n",
        "\n",
        "Dunder methods\n",
        "__str__\n",
        "__repr__\n",
        "__eq__\n",
        "__ne__\n",
        "__lt__\n",
        "__gt__\n",
        "__le__\n",
        "__ge__\n",
        "__add__\n",
        "__sub__\n",
        "__mul__\n",
        "__floordiv__\n",
        "__truediv__\n",
        "__mod__\n",
        "__pow__\n",
        "__abs__\n",
        "__len__\n",
        "__getitem__\n",
        "__contains__\n",
        "__iter__\n",
        "__next__\n",
        "__call__\n",
        "__hash__\n",
        "\n",
        "\n"
      ],
      "metadata": {
        "id": "E5GQllh07WbX"
      }
    },
    {
      "cell_type": "code",
      "source": [
        "# Good Code Example\n",
        "class Book:\n",
        "    \"\"\"Represents a book with a title and author.\"\"\"\n",
        "    def __init__(self, title, author):\n",
        "        self.title = title\n",
        "        self.author = author\n",
        "\n",
        "    def __str__(self):\n",
        "        return f\"{self.title} by {self.author}\"\n",
        "\n",
        "class Library:\n",
        "    \"\"\"Manages a collection of books.\"\"\"\n",
        "    def __init__(self):\n",
        "        self.books = []\n",
        "\n",
        "    def add_book(self, book):\n",
        "        \"\"\"Adds a book to the library.\"\"\"\n",
        "        self.books.append(book)\n",
        "\n",
        "    def remove_book(self, title):\n",
        "        \"\"\"Removes a book from the library by title.\"\"\"\n",
        "        self.books = [book for book in self.books if book.title != title]\n",
        "\n",
        "    def list_books(self):\n",
        "        \"\"\"Lists all books in the library.\"\"\"\n",
        "        if not self.books:\n",
        "            print(\"No books in the library.\")\n",
        "        else:\n",
        "            for book in self.books:\n",
        "                print(book)\n",
        "\n",
        "# Usage\n",
        "library = Library()\n",
        "library.add_book(Book(\"1984\", \"George Orwell\"))\n",
        "library.add_book(Book(\"To Kill a Mockingbird\", \"Harper Lee\"))\n",
        "print(\"Books in library:\")\n",
        "library.list_books()\n",
        "library.remove_book(\"1984\")\n",
        "print(\"After removal:\")\n",
        "library.list_books()\n",
        "\n",
        "# is\n",
        "# has"
      ],
      "metadata": {
        "colab": {
          "base_uri": "https://localhost:8080/"
        },
        "id": "1Nh8-W0z5mDt",
        "outputId": "84ecd3d3-a60c-4baf-a69b-d559b4dc8095"
      },
      "execution_count": 11,
      "outputs": [
        {
          "output_type": "stream",
          "name": "stdout",
          "text": [
            "Books in library:\n",
            "1984 by George Orwell\n",
            "To Kill a Mockingbird by Harper Lee\n",
            "After removal:\n",
            "To Kill a Mockingbird by Harper Lee\n"
          ]
        }
      ]
    },
    {
      "cell_type": "code",
      "source": [],
      "metadata": {
        "id": "_4bAxH4N_uT6"
      },
      "execution_count": null,
      "outputs": []
    }
  ]
}