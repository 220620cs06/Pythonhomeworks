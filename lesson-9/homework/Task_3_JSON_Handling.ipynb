{
  "nbformat": 4,
  "nbformat_minor": 0,
  "metadata": {
    "colab": {
      "provenance": []
    },
    "kernelspec": {
      "name": "python3",
      "display_name": "Python 3"
    },
    "language_info": {
      "name": "python"
    }
  },
  "cells": [
    {
      "cell_type": "code",
      "source": [
        "import json\n",
        "import csv\n",
        "\n",
        "def load_tasks():\n",
        "    with open('tasks.json', 'r') as file:\n",
        "        return json.load(file)\n",
        "\n",
        "def save_tasks(tasks):\n",
        "    with open('tasks.json', 'w') as file:\n",
        "        json.dump(tasks, file, indent=4)\n",
        "\n",
        "def display_tasks(tasks):\n",
        "    print(\"\\nTask List:\")\n",
        "    print(\"{:<5} {:<20} {:<10} {:<8}\".format(\"ID\", \"Task Name\", \"Completed\", \"Priority\"))\n",
        "    print(\"-\" * 45)\n",
        "    for task in tasks:\n",
        "        print(\"{:<5} {:<20} {:<10} {:<8}\".format(\n",
        "            task['id'],\n",
        "            task['task'],\n",
        "            str(task['completed']),\n",
        "            task['priority']\n",
        "        ))\n",
        "\n",
        "def calculate_stats(tasks):\n",
        "    total = len(tasks)\n",
        "    completed = sum(1 for task in tasks if task['completed'])\n",
        "    pending = total - completed\n",
        "    avg_priority = sum(task['priority'] for task in tasks) / total if total > 0 else 0\n",
        "\n",
        "    print(\"\\nTask Statistics:\")\n",
        "    print(f\"Total tasks: {total}\")\n",
        "    print(f\"Completed tasks: {completed}\")\n",
        "    print(f\"Pending tasks: {pending}\")\n",
        "    print(f\"Average priority: {avg_priority:.2f}\")\n",
        "\n",
        "def convert_to_csv(tasks):\n",
        "    with open('tasks.csv', 'w', newline='') as file:\n",
        "        fieldnames = ['ID', 'Task', 'Completed', 'Priority']\n",
        "        writer = csv.DictWriter(file, fieldnames=fieldnames)\n",
        "\n",
        "        writer.writeheader()\n",
        "        for task in tasks:\n",
        "            writer.writerow({\n",
        "                'ID': task['id'],\n",
        "                'Task': task['task'],\n",
        "                'Completed': task['completed'],\n",
        "                'Priority': task['priority']\n",
        "            })\n",
        "\n",
        "    print(\"\\nTasks data saved to tasks.csv\")\n",
        "\n"
      ],
      "metadata": {
        "id": "wRdaiOuRO_7X"
      },
      "execution_count": 35,
      "outputs": []
    },
    {
      "cell_type": "code",
      "source": [
        "def main():\n",
        "    # Create initial tasks.json if it doesn't exist\n",
        "    try:\n",
        "        tasks = load_tasks()\n",
        "    except FileNotFoundError:\n",
        "        initial_tasks = [\n",
        "            {\"id\": 1, \"task\": \"Do laundry\", \"completed\": False, \"priority\": 3},\n",
        "            {\"id\": 2, \"task\": \"Buy groceries\", \"completed\": True, \"priority\": 2},\n",
        "            {\"id\": 3, \"task\": \"Finish homework\", \"completed\": False, \"priority\": 1}\n",
        "        ]\n",
        "        with open('tasks.json', 'w') as file:\n",
        "            json.dump(initial_tasks, file, indent=4)\n",
        "        tasks = initial_tasks\n",
        "        print(\"Created initial tasks.json file\")\n",
        "\n",
        "    # Display tasks\n",
        "    display_tasks(tasks)\n",
        "\n",
        "    # Calculate and display stats\n",
        "    calculate_stats(tasks)\n",
        "\n",
        "    # Convert to CSV\n",
        "    convert_to_csv(tasks)\n",
        "\n",
        "    # Example of modifying a task\n",
        "    print(\"\\nMarking 'Do laundry' as completed...\")\n",
        "    for task in tasks:\n",
        "        if task['id'] == 1:\n",
        "            task['completed'] = True\n",
        "            break\n",
        "\n",
        "    # Save changes\n",
        "    save_tasks(tasks)\n",
        "    print(\"Changes saved to tasks.json\")\n",
        "\n",
        "    # Display updated tasks\n",
        "    display_tasks(tasks)\n",
        "    calculate_stats(tasks)\n",
        "\n",
        "if __name__ == \"__main__\":\n",
        "    main()"
      ],
      "metadata": {
        "colab": {
          "base_uri": "https://localhost:8080/"
        },
        "id": "l_eJCQ9uRkGb",
        "outputId": "7b02ce21-8ee9-4d06-b976-e3985c09d7ac"
      },
      "execution_count": 36,
      "outputs": [
        {
          "output_type": "stream",
          "name": "stdout",
          "text": [
            "Created initial tasks.json file\n",
            "\n",
            "Task List:\n",
            "ID    Task Name            Completed  Priority\n",
            "---------------------------------------------\n",
            "1     Do laundry           False      3       \n",
            "2     Buy groceries        True       2       \n",
            "3     Finish homework      False      1       \n",
            "\n",
            "Task Statistics:\n",
            "Total tasks: 3\n",
            "Completed tasks: 1\n",
            "Pending tasks: 2\n",
            "Average priority: 2.00\n",
            "\n",
            "Tasks data saved to tasks.csv\n",
            "\n",
            "Marking 'Do laundry' as completed...\n",
            "Changes saved to tasks.json\n",
            "\n",
            "Task List:\n",
            "ID    Task Name            Completed  Priority\n",
            "---------------------------------------------\n",
            "1     Do laundry           True       3       \n",
            "2     Buy groceries        True       2       \n",
            "3     Finish homework      False      1       \n",
            "\n",
            "Task Statistics:\n",
            "Total tasks: 3\n",
            "Completed tasks: 2\n",
            "Pending tasks: 1\n",
            "Average priority: 2.00\n"
          ]
        }
      ]
    },
    {
      "cell_type": "code",
      "source": [],
      "metadata": {
        "id": "jgXPUWaAQN2Q"
      },
      "execution_count": null,
      "outputs": []
    }
  ]
}