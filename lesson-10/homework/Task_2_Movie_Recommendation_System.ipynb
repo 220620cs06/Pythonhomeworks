{
  "nbformat": 4,
  "nbformat_minor": 0,
  "metadata": {
    "colab": {
      "provenance": []
    },
    "kernelspec": {
      "name": "python3",
      "display_name": "Python 3"
    },
    "language_info": {
      "name": "python"
    }
  },
  "cells": [
    {
      "cell_type": "code",
      "source": [
        "!pip install requests"
      ],
      "metadata": {
        "colab": {
          "base_uri": "https://localhost:8080/"
        },
        "id": "wRdaiOuRO_7X",
        "outputId": "b9878c39-ae6c-45f4-869d-e5d390f5f498"
      },
      "execution_count": 2,
      "outputs": [
        {
          "output_type": "stream",
          "name": "stdout",
          "text": [
            "Requirement already satisfied: requests in /usr/local/lib/python3.11/dist-packages (2.32.3)\n",
            "Requirement already satisfied: charset-normalizer<4,>=2 in /usr/local/lib/python3.11/dist-packages (from requests) (3.4.2)\n",
            "Requirement already satisfied: idna<4,>=2.5 in /usr/local/lib/python3.11/dist-packages (from requests) (3.10)\n",
            "Requirement already satisfied: urllib3<3,>=1.21.1 in /usr/local/lib/python3.11/dist-packages (from requests) (2.4.0)\n",
            "Requirement already satisfied: certifi>=2017.4.17 in /usr/local/lib/python3.11/dist-packages (from requests) (2025.4.26)\n"
          ]
        }
      ]
    },
    {
      "cell_type": "code",
      "source": [
        "import requests\n",
        "import random\n",
        "\n",
        "def get_movie_recommendation(api_key):\n",
        "    # First get list of genres\n",
        "    genre_url = \"https://api.themoviedb.org/3/genre/movie/list\"\n",
        "    genre_params = {'api_key': api_key}\n",
        "\n",
        "    try:\n",
        "        # Get available genres\n",
        "        response = requests.get(genre_url, params=genre_params)\n",
        "        response.raise_for_status()\n",
        "        genres = response.json()['genres']\n",
        "\n",
        "        # Display available genres\n",
        "        print(\"\\nAvailable genres:\")\n",
        "        for genre in genres:\n",
        "            print(f\"{genre['id']}: {genre['name']}\")\n",
        "\n",
        "        # Ask user for genre\n",
        "        genre_id = input(\"\\nEnter the genre ID you're interested in: \")\n",
        "\n",
        "        # Get movies by genre\n",
        "        discover_url = \"https://api.themoviedb.org/3/discover/movie\"\n",
        "        discover_params = {\n",
        "            'api_key': api_key,\n",
        "            'with_genres': genre_id,\n",
        "            'page': random.randint(1, 5)  # Random page to get variety\n",
        "        }\n",
        "\n",
        "        response = requests.get(discover_url, params=discover_params)\n",
        "        response.raise_for_status()\n",
        "        movies = response.json()['results']\n",
        "\n",
        "        if not movies:\n",
        "            print(\"No movies found in this genre.\")\n",
        "            return\n",
        "\n",
        "        # Select a random movie\n",
        "        movie = random.choice(movies)\n",
        "\n",
        "        print(\"\\nRecommended Movie:\")\n",
        "        print(f\"Title: {movie['title']}\")\n",
        "        print(f\"Overview: {movie['overview']}\")\n",
        "        print(f\"Release Date: {movie['release_date']}\")\n",
        "        print(f\"Rating: {movie['vote_average']}/10\")\n",
        "\n",
        "    except requests.exceptions.RequestException as e:\n",
        "        print(f\"Error fetching movie data: {e}\")\n",
        "\n",
        "# Replace with your actual API key from themoviedb.org\n",
        "API_KEY = \"my_api_key_here\"\n",
        "\n",
        "get_movie_recommendation(API_KEY)"
      ],
      "metadata": {
        "colab": {
          "base_uri": "https://localhost:8080/"
        },
        "id": "Nk7BjWO4oOjQ",
        "outputId": "c91cc446-604e-4e60-ec0a-529d0b37aede"
      },
      "execution_count": 1,
      "outputs": [
        {
          "output_type": "stream",
          "name": "stdout",
          "text": [
            "Error fetching movie data: 401 Client Error: Unauthorized for url: https://api.themoviedb.org/3/genre/movie/list?api_key=my_api_key_here\n"
          ]
        }
      ]
    },
    {
      "cell_type": "code",
      "source": [],
      "metadata": {
        "id": "QYKYebwwrZTW"
      },
      "execution_count": null,
      "outputs": []
    }
  ]
}