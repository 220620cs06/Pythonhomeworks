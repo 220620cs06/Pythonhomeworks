{
  "nbformat": 4,
  "nbformat_minor": 0,
  "metadata": {
    "colab": {
      "provenance": []
    },
    "kernelspec": {
      "name": "python3",
      "display_name": "Python 3"
    },
    "language_info": {
      "name": "python"
    }
  },
  "cells": [
    {
      "cell_type": "code",
      "source": [
        "import numpy as np\n",
        "# 1\n",
        "vect = np.arange(10, 50)\n",
        "print(\"1. Vector from 10 to 49:\\n\", vect)"
      ],
      "metadata": {
        "colab": {
          "base_uri": "https://localhost:8080/"
        },
        "id": "abantw5mc9qH",
        "outputId": "ceae4d50-fe74-440d-a321-a9bf643d6413"
      },
      "execution_count": 2,
      "outputs": [
        {
          "output_type": "stream",
          "name": "stdout",
          "text": [
            "1. Vector from 10 to 49:\n",
            " [10 11 12 13 14 15 16 17 18 19 20 21 22 23 24 25 26 27 28 29 30 31 32 33\n",
            " 34 35 36 37 38 39 40 41 42 43 44 45 46 47 48 49]\n"
          ]
        }
      ]
    },
    {
      "cell_type": "code",
      "source": [
        "# 2\n",
        "vect_matr = np.arange(0, 9).reshape(3,3)\n",
        "print(\"3x3\\n\", vect_matr)"
      ],
      "metadata": {
        "colab": {
          "base_uri": "https://localhost:8080/"
        },
        "id": "v13PL-V_lH6-",
        "outputId": "b54f40a3-f37f-4f19-b135-3889d5e5e0e6"
      },
      "execution_count": null,
      "outputs": [
        {
          "output_type": "stream",
          "name": "stdout",
          "text": [
            "3x3\n",
            " [[0 1 2]\n",
            " [3 4 5]\n",
            " [6 7 8]]\n"
          ]
        }
      ]
    },
    {
      "cell_type": "code",
      "source": [
        "# 3\n",
        "# vect_ident = np.identity(3)\n",
        "# print(\"3x3\\n\", vect_ident)\n",
        "\n",
        "vect_ident = np.eye(3)\n",
        "print(\"3x3\\n\", vect_ident)"
      ],
      "metadata": {
        "colab": {
          "base_uri": "https://localhost:8080/"
        },
        "id": "YKyCN4u8ly4s",
        "outputId": "cc922ae6-a23c-442e-fda5-0bd0b0d6e237"
      },
      "execution_count": null,
      "outputs": [
        {
          "output_type": "stream",
          "name": "stdout",
          "text": [
            "3x3\n",
            " [[1. 0. 0.]\n",
            " [0. 1. 0.]\n",
            " [0. 0. 1.]]\n"
          ]
        }
      ]
    },
    {
      "cell_type": "code",
      "source": [
        "# 4\n",
        "vect_3x3x3 = np.random.random((3,3,3))\n",
        "print(\"3x3x3\\n\", vect_3x3x3)"
      ],
      "metadata": {
        "colab": {
          "base_uri": "https://localhost:8080/"
        },
        "id": "eNudk1dRmSDG",
        "outputId": "de53f012-4598-4e46-bf8e-1fdfe8438c85"
      },
      "execution_count": null,
      "outputs": [
        {
          "output_type": "stream",
          "name": "stdout",
          "text": [
            "3x3x3\n",
            " [[[0.19527294 0.69644237 0.79530971]\n",
            "  [0.4199259  0.38074743 0.65542747]\n",
            "  [0.35061329 0.55259584 0.8387137 ]]\n",
            "\n",
            " [[0.51590785 0.65448165 0.74521398]\n",
            "  [0.69575348 0.51939879 0.35657834]\n",
            "  [0.79426116 0.70942152 0.39504311]]\n",
            "\n",
            " [[0.87035791 0.39618512 0.54344752]\n",
            "  [0.96510038 0.11773476 0.73013819]\n",
            "  [0.07777012 0.8057694  0.84351035]]]\n"
          ]
        }
      ]
    },
    {
      "cell_type": "code",
      "source": [
        "# 5\n",
        "\n",
        "vect_10x10 = np.random.random((10,10))\n",
        "max= vect_10x10.max()\n",
        "min= vect_10x10.min()\n",
        "print(\"Max: \", max)\n",
        "print(\"Min: \", min)\n",
        "print(\"10x10\\n\", vect_10x10)"
      ],
      "metadata": {
        "colab": {
          "base_uri": "https://localhost:8080/"
        },
        "id": "Wkl4ejj9nN4e",
        "outputId": "3ca21db9-f82e-4930-e90f-cd50d673b4c6"
      },
      "execution_count": null,
      "outputs": [
        {
          "output_type": "stream",
          "name": "stdout",
          "text": [
            "Max:  0.9715619038278492\n",
            "Min:  0.00884676847420618\n",
            "10x10\n",
            " [[0.52185802 0.32726366 0.54342612 0.90427919 0.37706593 0.61883616\n",
            "  0.15014082 0.39773029 0.66513146 0.18959807]\n",
            " [0.36637858 0.65563984 0.71349897 0.81155642 0.1101914  0.49796269\n",
            "  0.22492844 0.05853261 0.32949153 0.77056736]\n",
            " [0.71640902 0.24547469 0.85452482 0.2234546  0.69766114 0.86801621\n",
            "  0.90239923 0.11682112 0.5455243  0.11165713]\n",
            " [0.28271422 0.32067719 0.66739193 0.02788686 0.75507798 0.9068252\n",
            "  0.40670084 0.78853873 0.22455062 0.17421921]\n",
            " [0.68340564 0.23883224 0.2627769  0.48419729 0.20648909 0.19368224\n",
            "  0.3973726  0.7418619  0.95651312 0.70560248]\n",
            " [0.02307307 0.30335876 0.00884677 0.18012368 0.19522486 0.17851653\n",
            "  0.02114893 0.53534605 0.1319343  0.64609172]\n",
            " [0.20195584 0.71225007 0.62512468 0.89989707 0.03349004 0.45527765\n",
            "  0.42273874 0.33433771 0.40820863 0.02017573]\n",
            " [0.2315684  0.64583487 0.77683457 0.15500967 0.76605461 0.74704358\n",
            "  0.73995045 0.37474377 0.0297522  0.5670148 ]\n",
            " [0.79097124 0.21478533 0.2850451  0.78236595 0.59706962 0.90790592\n",
            "  0.71607855 0.61533033 0.56914751 0.1840383 ]\n",
            " [0.90232498 0.63390682 0.9715619  0.49218194 0.64129656 0.83411067\n",
            "  0.13558643 0.63715445 0.28912481 0.20286986]]\n"
          ]
        }
      ]
    },
    {
      "cell_type": "code",
      "source": [
        "# 6\n",
        "\n",
        "vect_10= np.random.random(10)\n",
        "print(vect_10)\n",
        "# mean=vect_10.mean(vect_10.sort())\n",
        "mean=np.mean(np.sort(vect_10))\n",
        "print(\"Mean 10\\n\", mean)\n",
        "#"
      ],
      "metadata": {
        "colab": {
          "base_uri": "https://localhost:8080/"
        },
        "id": "CQAMcPq3nmZF",
        "outputId": "6998ed18-0f31-4c6d-d18a-04249c70f560"
      },
      "execution_count": null,
      "outputs": [
        {
          "output_type": "stream",
          "name": "stdout",
          "text": [
            "[0.66619915 0.55385898 0.22671895 0.62469757 0.07317729 0.38906999\n",
            " 0.81015521 0.80147915 0.35967801 0.49967397]\n",
            "Mean 10\n",
            " 0.5004708271089194\n"
          ]
        }
      ]
    },
    {
      "cell_type": "code",
      "source": [
        "# 7\n",
        "vect_5x5=np.random.random((5,5))\n",
        "normalized_matrix = (vect_5x5 - np.min(vect_5x5)) / (np.max(vect_5x5) - np.min(vect_5x5))\n",
        "print(\"\\n7. Normalized 5x5 matrix:\\n\", normalized_matrix)"
      ],
      "metadata": {
        "colab": {
          "base_uri": "https://localhost:8080/"
        },
        "id": "Fm9Nra3noK9T",
        "outputId": "90c9094c-0899-4feb-ca5f-58fcacbb9784"
      },
      "execution_count": null,
      "outputs": [
        {
          "output_type": "stream",
          "name": "stdout",
          "text": [
            "\n",
            "7. Normalized 5x5 matrix:\n",
            " [[0.12550584 0.7236577  0.01600812 0.54489998 0.48375817]\n",
            " [0.         0.30231343 0.95259643 0.58452726 0.94707468]\n",
            " [0.80466276 0.3101128  0.17288371 0.10572956 0.9836474 ]\n",
            " [0.59723394 0.25567564 0.82088865 0.14992893 0.00959227]\n",
            " [0.62175694 1.         0.00855381 0.86771511 0.32341954]]\n"
          ]
        }
      ]
    },
    {
      "cell_type": "code",
      "source": [
        "# 8\n",
        "\n",
        "matr_5x3=np.random.random((5,3))\n",
        "matr_3x2=np.random.random((3,2))\n",
        "result=np.dot(matr_5x3, matr_3x2)\n",
        "print('Matrix Product 5x3 and 3x2 is \\n',result)"
      ],
      "metadata": {
        "colab": {
          "base_uri": "https://localhost:8080/"
        },
        "id": "Td0vbGb1obTZ",
        "outputId": "470a850c-e188-43bf-a7c1-1e0e422adfb0"
      },
      "execution_count": null,
      "outputs": [
        {
          "output_type": "stream",
          "name": "stdout",
          "text": [
            "Matrix Product 5x3 and 3x2 is \n",
            " [[0.665727   0.41585546]\n",
            " [0.49913807 0.45106744]\n",
            " [1.12732358 0.9451171 ]\n",
            " [0.62112334 0.42174127]\n",
            " [0.93661282 0.9373832 ]]\n"
          ]
        }
      ]
    },
    {
      "cell_type": "code",
      "source": [
        "# 9\n",
        "\n",
        "matr_3x3_1=np.random.random((3,3))\n",
        "matr_3x3_2=np.random.random((3,3))\n",
        "result=np.dot(matr_3x3_1, matr_3x3_2)\n",
        "print('Matrix Product 3x3 and 3x3 is \\n',result)\n",
        "#"
      ],
      "metadata": {
        "id": "_4kdcJo6poEq",
        "colab": {
          "base_uri": "https://localhost:8080/"
        },
        "outputId": "45c0e991-c83f-4f64-cc68-437e3896a627"
      },
      "execution_count": 3,
      "outputs": [
        {
          "output_type": "stream",
          "name": "stdout",
          "text": [
            "Matrix Product 3x3 and 3x3 is \n",
            " [[0.71408757 0.89171976 0.81873919]\n",
            " [0.55233026 0.9015601  0.88739476]\n",
            " [0.36110936 0.64532579 0.69341492]]\n"
          ]
        }
      ]
    },
    {
      "cell_type": "code",
      "source": [
        "# 10\n",
        "\n",
        "mart_4x4=np.random.random((4,4))\n",
        "transpose=mart_4x4.T\n",
        "print('Transpose 4x4 matrix is \\n',transpose)"
      ],
      "metadata": {
        "colab": {
          "base_uri": "https://localhost:8080/"
        },
        "id": "WA_Mt4vwVBXd",
        "outputId": "886db2ad-c73e-4d88-cfd4-fc85f7badcdc"
      },
      "execution_count": 4,
      "outputs": [
        {
          "output_type": "stream",
          "name": "stdout",
          "text": [
            "Transpose 4x4 matrix is \n",
            " [[0.55781931 0.84038041 0.55004747 0.25489872]\n",
            " [0.80817949 0.30511264 0.26960022 0.54702142]\n",
            " [0.95118883 0.32717152 0.52327581 0.41808589]\n",
            " [0.4610426  0.47503025 0.17116553 0.29360791]]\n"
          ]
        }
      ]
    },
    {
      "cell_type": "code",
      "source": [
        "# 11\n",
        "matr_3x3=np.random.random((3,3))\n",
        "determinant=np.linalg.det(matr_3x3)\n",
        "print('Determinant 3x3 matrix is \\n',determinant)"
      ],
      "metadata": {
        "colab": {
          "base_uri": "https://localhost:8080/"
        },
        "id": "q8cgU9__WAvN",
        "outputId": "331745e0-17a9-4e98-b77b-fd5831f805a8"
      },
      "execution_count": 5,
      "outputs": [
        {
          "output_type": "stream",
          "name": "stdout",
          "text": [
            "Determinant 3x3 matrix is \n",
            " 0.06496161050186595\n"
          ]
        }
      ]
    },
    {
      "cell_type": "code",
      "source": [
        "# 12\n",
        "\n",
        "A_matr=np.random.random((3,4))\n",
        "B_matr=np.random.random((4,3))\n",
        "product_AB = np.dot(A_matr, B_matr)\n",
        "print(\"\\n12. Matrix product A (3x4) · B (4x3):\\n\", product_AB)\n",
        ""
      ],
      "metadata": {
        "colab": {
          "base_uri": "https://localhost:8080/"
        },
        "id": "5LxdcdroWbtL",
        "outputId": "80651ad7-ce24-4e8c-aaa5-69045f7c4d7b"
      },
      "execution_count": 6,
      "outputs": [
        {
          "output_type": "stream",
          "name": "stdout",
          "text": [
            "\n",
            "12. Matrix product A (3x4) · B (4x3):\n",
            " [[1.35116315 0.83081931 1.64079615]\n",
            " [0.63351692 0.29722696 0.93731039]\n",
            " [0.36257056 0.2006659  0.48764393]]\n"
          ]
        }
      ]
    },
    {
      "cell_type": "code",
      "source": [
        "# 13\n",
        "\n",
        "matrix_3x3_mv = np.random.random((3, 3))\n",
        "vector_3x1 = np.random.random((3, 1))\n",
        "mv_product = np.dot(matrix_3x3_mv, vector_3x1)\n",
        "print(\"\\n13. Matrix-vector product:\\n\", mv_product)"
      ],
      "metadata": {
        "colab": {
          "base_uri": "https://localhost:8080/"
        },
        "id": "SqOlGb_nXm92",
        "outputId": "9a0b9d3a-2cf9-47bd-eb0d-33b26986cf46"
      },
      "execution_count": 7,
      "outputs": [
        {
          "output_type": "stream",
          "name": "stdout",
          "text": [
            "\n",
            "13. Matrix-vector product:\n",
            " [[0.50765423]\n",
            " [0.53009502]\n",
            " [0.05703256]]\n"
          ]
        }
      ]
    },
    {
      "cell_type": "code",
      "source": [
        "A = np.random.random((3, 3))\n",
        "b = np.random.random((3, 1))\n",
        "x = np.linalg.solve(A, b)\n",
        "print(\"\\n14. Solution to Ax = b:\\n\", x)"
      ],
      "metadata": {
        "colab": {
          "base_uri": "https://localhost:8080/"
        },
        "id": "h_uOTxqvXxrB",
        "outputId": "0073ece9-1f89-4879-ccde-f534b46c2437"
      },
      "execution_count": 8,
      "outputs": [
        {
          "output_type": "stream",
          "name": "stdout",
          "text": [
            "\n",
            "14. Solution to Ax = b:\n",
            " [[ 0.37517165]\n",
            " [ 2.27427922]\n",
            " [-2.70447201]]\n"
          ]
        }
      ]
    },
    {
      "cell_type": "code",
      "source": [
        "matrix_5x5_sums = np.random.random((5, 5))\n",
        "row_sums = np.sum(matrix_5x5_sums, axis=1)\n",
        "col_sums = np.sum(matrix_5x5_sums, axis=0)\n",
        "print(\"\\n15. Row-wise sums:\", row_sums)\n",
        "print(\"Column-wise sums:\", col_sums)"
      ],
      "metadata": {
        "colab": {
          "base_uri": "https://localhost:8080/"
        },
        "id": "tuIt9Dm1X3fD",
        "outputId": "c05d95bf-1073-41ca-c9ed-c48c102cee70"
      },
      "execution_count": 9,
      "outputs": [
        {
          "output_type": "stream",
          "name": "stdout",
          "text": [
            "\n",
            "15. Row-wise sums: [2.03361102 3.43572678 2.76631108 1.88518996 2.63913634]\n",
            "Column-wise sums: [1.63735637 2.02097442 3.88394777 3.41978385 1.79791276]\n"
          ]
        }
      ]
    },
    {
      "cell_type": "code",
      "source": [],
      "metadata": {
        "id": "LgQP_FWzX99q"
      },
      "execution_count": null,
      "outputs": []
    }
  ]
}