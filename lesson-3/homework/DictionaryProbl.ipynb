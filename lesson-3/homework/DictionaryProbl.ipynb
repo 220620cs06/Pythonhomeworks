{
  "nbformat": 4,
  "nbformat_minor": 0,
  "metadata": {
    "colab": {
      "provenance": []
    },
    "kernelspec": {
      "name": "python3",
      "display_name": "Python 3"
    },
    "language_info": {
      "name": "python"
    }
  },
  "cells": [
    {
      "cell_type": "markdown",
      "source": [
        "Dict1"
      ],
      "metadata": {
        "id": "oaU0GdQuBzzW"
      }
    },
    {
      "cell_type": "code",
      "execution_count": 2,
      "metadata": {
        "colab": {
          "base_uri": "https://localhost:8080/"
        },
        "id": "KGryeQVnBr9L",
        "outputId": "f38e5ce2-d9a4-42d5-fab0-5d14591dea50"
      },
      "outputs": [
        {
          "output_type": "stream",
          "name": "stdout",
          "text": [
            "default\n"
          ]
        }
      ],
      "source": [
        "dict1={'a':1, 'b':2, 'c':4}\n",
        "value=dict1.get('d','default')\n",
        "print(value)"
      ]
    },
    {
      "cell_type": "markdown",
      "source": [
        "Dict2"
      ],
      "metadata": {
        "id": "MRo-dUvaDWnP"
      }
    },
    {
      "cell_type": "code",
      "source": [
        "my_dict = {'a': 1, 'b': 2}\n",
        "key_exists = 'a' in my_dict\n",
        "print(key_exists)"
      ],
      "metadata": {
        "colab": {
          "base_uri": "https://localhost:8080/"
        },
        "id": "U0v0y7GvDNfZ",
        "outputId": "fbca4b2d-818e-43bc-b014-98a783a041e5"
      },
      "execution_count": 3,
      "outputs": [
        {
          "output_type": "stream",
          "name": "stdout",
          "text": [
            "True\n"
          ]
        }
      ]
    },
    {
      "cell_type": "markdown",
      "source": [
        "Dict3"
      ],
      "metadata": {
        "id": "yh9fywruDes-"
      }
    },
    {
      "cell_type": "code",
      "source": [
        "my_dict = {'a': 1, 'b': 2}\n",
        "print(len(my_dict))"
      ],
      "metadata": {
        "colab": {
          "base_uri": "https://localhost:8080/"
        },
        "id": "tg3wph_ZDc9f",
        "outputId": "5fa0a6f5-497b-4183-9f45-b04b82def244"
      },
      "execution_count": 5,
      "outputs": [
        {
          "output_type": "stream",
          "name": "stdout",
          "text": [
            "2\n"
          ]
        }
      ]
    },
    {
      "cell_type": "markdown",
      "source": [
        "Dict4"
      ],
      "metadata": {
        "id": "TiU5QO_YDyDr"
      }
    },
    {
      "cell_type": "code",
      "source": [
        "my_dict = {'a': 1, 'b': 2}\n",
        "keys = list(my_dict.keys())\n",
        "print(keys)"
      ],
      "metadata": {
        "colab": {
          "base_uri": "https://localhost:8080/"
        },
        "id": "8-e8klVnDutt",
        "outputId": "abf00f61-3e74-4428-f1f6-3531a5914ceb"
      },
      "execution_count": 6,
      "outputs": [
        {
          "output_type": "stream",
          "name": "stdout",
          "text": [
            "['a', 'b']\n"
          ]
        }
      ]
    },
    {
      "cell_type": "markdown",
      "source": [
        "Dict5"
      ],
      "metadata": {
        "id": "YOLomuxmEP3G"
      }
    },
    {
      "cell_type": "code",
      "source": [
        "my_dict = {'a': 1, 'b': 2}\n",
        "val = list(my_dict.values())\n",
        "print(val)"
      ],
      "metadata": {
        "colab": {
          "base_uri": "https://localhost:8080/"
        },
        "id": "L69cWlUEEBuR",
        "outputId": "f5e911db-0084-4e63-c799-4f30f1345212"
      },
      "execution_count": 7,
      "outputs": [
        {
          "output_type": "stream",
          "name": "stdout",
          "text": [
            "[1, 2]\n"
          ]
        }
      ]
    },
    {
      "cell_type": "markdown",
      "source": [
        "Dict6"
      ],
      "metadata": {
        "id": "A4CblTLQESta"
      }
    },
    {
      "cell_type": "code",
      "source": [
        "dict1 = {'a': 1, 'b': 2}\n",
        "dict2 = {'c': 3, 'd': 4}\n",
        "merged = {**dict1, **dict2}\n",
        "print(merged)"
      ],
      "metadata": {
        "colab": {
          "base_uri": "https://localhost:8080/"
        },
        "id": "tdAjpyOnEK-U",
        "outputId": "32b90769-a023-4a38-8499-16001b06122d"
      },
      "execution_count": 8,
      "outputs": [
        {
          "output_type": "stream",
          "name": "stdout",
          "text": [
            "{'a': 1, 'b': 2, 'c': 3, 'd': 4}\n"
          ]
        }
      ]
    },
    {
      "cell_type": "markdown",
      "source": [
        "Dict7"
      ],
      "metadata": {
        "id": "auf_sj-rEnMv"
      }
    },
    {
      "cell_type": "code",
      "source": [
        "dict1 = {'a': 1, 'b': 2}\n",
        "rem=dict1.pop('b',None)\n",
        "print(rem)"
      ],
      "metadata": {
        "colab": {
          "base_uri": "https://localhost:8080/"
        },
        "id": "P3SgxusjElMW",
        "outputId": "0f87e2ce-8507-47c9-8398-24e34a351706"
      },
      "execution_count": 9,
      "outputs": [
        {
          "output_type": "stream",
          "name": "stdout",
          "text": [
            "2\n"
          ]
        }
      ]
    },
    {
      "cell_type": "markdown",
      "source": [
        "Dict8"
      ],
      "metadata": {
        "id": "_jX9ZAjfFBdY"
      }
    },
    {
      "cell_type": "code",
      "source": [
        "dict1={}\n",
        "dict1.clear()\n",
        "print(dict1)"
      ],
      "metadata": {
        "colab": {
          "base_uri": "https://localhost:8080/"
        },
        "id": "QBpSu_pBFAT3",
        "outputId": "b2e4a111-28b4-4732-d077-aab22ac27722"
      },
      "execution_count": 11,
      "outputs": [
        {
          "output_type": "stream",
          "name": "stdout",
          "text": [
            "{}\n"
          ]
        }
      ]
    },
    {
      "cell_type": "markdown",
      "source": [
        "Dict9"
      ],
      "metadata": {
        "id": "vkDakR86Futj"
      }
    },
    {
      "cell_type": "code",
      "source": [
        "dict1 = {'a': 1, 'b': 2}\n",
        "print(bool(dict1))"
      ],
      "metadata": {
        "colab": {
          "base_uri": "https://localhost:8080/"
        },
        "id": "OAiLoy75FYid",
        "outputId": "6105d15a-a53a-49ea-ed07-9dd6416c1259"
      },
      "execution_count": 12,
      "outputs": [
        {
          "output_type": "stream",
          "name": "stdout",
          "text": [
            "True\n"
          ]
        }
      ]
    },
    {
      "cell_type": "markdown",
      "source": [
        "Dict10"
      ],
      "metadata": {
        "id": "k-aCQ59EGBgs"
      }
    },
    {
      "cell_type": "code",
      "source": [
        "my_dict = {'a': 1, 'b': 2}\n",
        "pair = ('b', my_dict['b']) if 'b' in my_dict else None\n",
        "print(pair)"
      ],
      "metadata": {
        "colab": {
          "base_uri": "https://localhost:8080/"
        },
        "id": "-6TojoTSF800",
        "outputId": "58fc1f12-7af4-4446-a64d-96f091a8f4f3"
      },
      "execution_count": 13,
      "outputs": [
        {
          "output_type": "stream",
          "name": "stdout",
          "text": [
            "('b', 2)\n"
          ]
        }
      ]
    },
    {
      "cell_type": "markdown",
      "source": [
        "Dict11"
      ],
      "metadata": {
        "id": "APVhh_S2GROI"
      }
    },
    {
      "cell_type": "code",
      "source": [
        "my_dict = {'a': 1, 'b': 2}\n",
        "my_dict.update({'a': 4})\n",
        "print(my_dict)\n"
      ],
      "metadata": {
        "colab": {
          "base_uri": "https://localhost:8080/"
        },
        "id": "R13YmbGvGPOW",
        "outputId": "6462854f-0d63-46a1-e57e-b080f887d7b7"
      },
      "execution_count": 16,
      "outputs": [
        {
          "output_type": "stream",
          "name": "stdout",
          "text": [
            "{'a': 4, 'b': 2}\n"
          ]
        }
      ]
    },
    {
      "cell_type": "markdown",
      "source": [
        "Dict12"
      ],
      "metadata": {
        "id": "o83vY8PtGzhZ"
      }
    },
    {
      "cell_type": "code",
      "source": [
        "my_dict = {'a': 1, 'b': 2,'c':2}\n",
        "count=sum(1 for v in my_dict.values() if v == 2)\n",
        "print(count)"
      ],
      "metadata": {
        "colab": {
          "base_uri": "https://localhost:8080/"
        },
        "id": "evkrKcxfGrZH",
        "outputId": "6ebaa4e7-9d07-4a4e-fdd8-cef7edaa0eb4"
      },
      "execution_count": 20,
      "outputs": [
        {
          "output_type": "stream",
          "name": "stdout",
          "text": [
            "2\n"
          ]
        }
      ]
    },
    {
      "cell_type": "markdown",
      "source": [
        "Dict13"
      ],
      "metadata": {
        "id": "ovaiXFScH5hb"
      }
    },
    {
      "cell_type": "code",
      "source": [
        "my_dict = {'a': 1, 'b': 2, 'c': 3}\n",
        "inverted = {v: k for k, v in my_dict.items()}\n",
        "print(inverted)"
      ],
      "metadata": {
        "id": "UrzIO4-FHXEC"
      },
      "execution_count": null,
      "outputs": []
    },
    {
      "cell_type": "markdown",
      "source": [
        "Dict14"
      ],
      "metadata": {
        "id": "uNp1sdyRIy8g"
      }
    },
    {
      "cell_type": "code",
      "source": [
        "my_dict = {'a': 1, 'b': 2, 'c': 1}\n",
        "value = 1\n",
        "keys = [k for k, v in my_dict.items() if v == value]\n",
        "print(keys)"
      ],
      "metadata": {
        "colab": {
          "base_uri": "https://localhost:8080/"
        },
        "id": "Bsk940enI15h",
        "outputId": "36e412fa-20fb-4884-be03-4e0b7c689c2a"
      },
      "execution_count": 21,
      "outputs": [
        {
          "output_type": "stream",
          "name": "stdout",
          "text": [
            "['a', 'c']\n"
          ]
        }
      ]
    },
    {
      "cell_type": "markdown",
      "source": [
        "Dict15"
      ],
      "metadata": {
        "id": "Z_8UzlhcKVf1"
      }
    },
    {
      "cell_type": "code",
      "source": [
        "keys = ['a', 'b', 'c']\n",
        "values = [1, 2, 3]\n",
        "new_dict = dict(zip(keys, values))\n",
        "print(new_dict)\n",
        "#"
      ],
      "metadata": {
        "colab": {
          "base_uri": "https://localhost:8080/"
        },
        "id": "o4uRe-V4KTSy",
        "outputId": "e97e046a-b11b-4012-8e63-7597914382ea"
      },
      "execution_count": 22,
      "outputs": [
        {
          "output_type": "stream",
          "name": "stdout",
          "text": [
            "{'a': 1, 'b': 2, 'c': 3}\n"
          ]
        }
      ]
    },
    {
      "cell_type": "markdown",
      "source": [
        "Dict16"
      ],
      "metadata": {
        "id": "37dWeS-cKh13"
      }
    },
    {
      "cell_type": "code",
      "source": [
        "my_dict = {'a': 1, 'b': {'c': 2}}\n",
        "has_nested = any(isinstance(v, dict) for v in my_dict.values())\n",
        "print(has_nested)"
      ],
      "metadata": {
        "colab": {
          "base_uri": "https://localhost:8080/"
        },
        "id": "5kzQj1iUKg2a",
        "outputId": "632a97d3-76e5-4201-9311-af2f2a884325"
      },
      "execution_count": 23,
      "outputs": [
        {
          "output_type": "stream",
          "name": "stdout",
          "text": [
            "True\n"
          ]
        }
      ]
    },
    {
      "cell_type": "markdown",
      "source": [
        "Dict17"
      ],
      "metadata": {
        "id": "wKnhioIVKzdE"
      }
    },
    {
      "cell_type": "code",
      "source": [
        "my_dict = {'a': {'b': {'c': 1}}}\n",
        "keys = ['a', 'b', 'c']\n",
        "result = my_dict\n",
        "for key in keys:\n",
        "    if isinstance(result, dict) and key in result:\n",
        "        result = result[key]\n",
        "    else:\n",
        "        result = None\n",
        "        break\n",
        "print(result)"
      ],
      "metadata": {
        "colab": {
          "base_uri": "https://localhost:8080/"
        },
        "id": "dPd-cjGsKsJF",
        "outputId": "4f6d5804-7f5d-492c-ca60-a9b79c28568a"
      },
      "execution_count": 25,
      "outputs": [
        {
          "output_type": "stream",
          "name": "stdout",
          "text": [
            "1\n"
          ]
        }
      ]
    },
    {
      "cell_type": "markdown",
      "source": [
        "Dict18"
      ],
      "metadata": {
        "id": "bDXrTt6gK9Xb"
      }
    },
    {
      "cell_type": "code",
      "source": [
        "from collections import defaultdict\n",
        "default_dict = defaultdict(int)  # Default value 0 for missing keys\n",
        "default_dict['a'] += 1\n",
        "print(default_dict)"
      ],
      "metadata": {
        "colab": {
          "base_uri": "https://localhost:8080/"
        },
        "id": "zZTQnrarLB6V",
        "outputId": "deff317a-966f-4e00-d9ee-3f301fec8677"
      },
      "execution_count": 24,
      "outputs": [
        {
          "output_type": "stream",
          "name": "stdout",
          "text": [
            "defaultdict(<class 'int'>, {'a': 1})\n"
          ]
        }
      ]
    },
    {
      "cell_type": "markdown",
      "source": [
        "Dict19"
      ],
      "metadata": {
        "id": "w8zNlre-LKbx"
      }
    },
    {
      "cell_type": "code",
      "source": [
        "my_dict = {'a': 1, 'b': 2, 'c': 1}\n",
        "unique_count = len(set(my_dict.values()))\n",
        "print(unique_count)"
      ],
      "metadata": {
        "colab": {
          "base_uri": "https://localhost:8080/"
        },
        "id": "l-iqulgiLFrQ",
        "outputId": "72c710be-6aab-46db-a6db-a3ab86eb6e01"
      },
      "execution_count": 26,
      "outputs": [
        {
          "output_type": "stream",
          "name": "stdout",
          "text": [
            "2\n"
          ]
        }
      ]
    },
    {
      "cell_type": "markdown",
      "source": [
        "Dict20"
      ],
      "metadata": {
        "id": "pJfVb8bKLjB4"
      }
    },
    {
      "cell_type": "code",
      "source": [
        "my_dict = {'b': 2, 'a': 1, 'c': 3}\n",
        "sorted_dict = dict(sorted(my_dict.items()))\n",
        "print(sorted_dict)"
      ],
      "metadata": {
        "colab": {
          "base_uri": "https://localhost:8080/"
        },
        "id": "wW54R5BeLhEA",
        "outputId": "bb004558-9a72-437c-ac81-f9deda14661a"
      },
      "execution_count": 27,
      "outputs": [
        {
          "output_type": "stream",
          "name": "stdout",
          "text": [
            "{'a': 1, 'b': 2, 'c': 3}\n"
          ]
        }
      ]
    },
    {
      "cell_type": "markdown",
      "source": [
        "Dict21"
      ],
      "metadata": {
        "id": "GzZXyZx8Lt0W"
      }
    },
    {
      "cell_type": "code",
      "source": [
        "my_dict = {'a': 3, 'b': 1, 'c': 2}\n",
        "sorted_dict = dict(sorted(my_dict.items(), key=lambda item: item[1]))\n",
        "print(sorted_dict)"
      ],
      "metadata": {
        "colab": {
          "base_uri": "https://localhost:8080/"
        },
        "id": "0CpWMn5-LsYI",
        "outputId": "da26914b-eb08-48ae-c6f4-13d06ee0824d"
      },
      "execution_count": 28,
      "outputs": [
        {
          "output_type": "stream",
          "name": "stdout",
          "text": [
            "{'b': 1, 'c': 2, 'a': 3}\n"
          ]
        }
      ]
    },
    {
      "cell_type": "markdown",
      "source": [
        "Dict22"
      ],
      "metadata": {
        "id": "GkyT5JsdL-lt"
      }
    },
    {
      "cell_type": "code",
      "source": [
        "my_dict = {'a': 1, 'b': 2, 'c': 3}\n",
        "filtered = {k: v for k, v in my_dict.items() if v > 1}\n",
        "print(filtered)"
      ],
      "metadata": {
        "colab": {
          "base_uri": "https://localhost:8080/"
        },
        "id": "EXAWk-K1L20O",
        "outputId": "b4cdee77-af7d-4a48-e5a0-1d5bc6e78492"
      },
      "execution_count": 30,
      "outputs": [
        {
          "output_type": "stream",
          "name": "stdout",
          "text": [
            "{'b': 2, 'c': 3}\n"
          ]
        }
      ]
    },
    {
      "cell_type": "markdown",
      "source": [
        "Dict23"
      ],
      "metadata": {
        "id": "oppo_1CZMPma"
      }
    },
    {
      "cell_type": "code",
      "source": [
        "dict1 = {'a': 1, 'b': 2}\n",
        "dict2 = {'b': 3, 'c': 4}\n",
        "common_keys = set(dict1.keys()) & set(dict2.keys())\n",
        "print(common_keys)"
      ],
      "metadata": {
        "colab": {
          "base_uri": "https://localhost:8080/"
        },
        "id": "zzRPrjD6MI0q",
        "outputId": "475df44e-35d1-4353-f8fa-c46479d65fd2"
      },
      "execution_count": 31,
      "outputs": [
        {
          "output_type": "stream",
          "name": "stdout",
          "text": [
            "{'b'}\n"
          ]
        }
      ]
    },
    {
      "cell_type": "markdown",
      "source": [
        "Dict24"
      ],
      "metadata": {
        "id": "6KAgj6PPMY9g"
      }
    },
    {
      "cell_type": "code",
      "source": [
        "tuple_pairs = (('a', 1), ('b', 2))\n",
        "new_dict = dict(tuple_pairs)\n",
        "print(new_dict)"
      ],
      "metadata": {
        "colab": {
          "base_uri": "https://localhost:8080/"
        },
        "id": "c0LC5IeIMXiu",
        "outputId": "427a0221-7745-4f59-d029-52158df7d794"
      },
      "execution_count": 32,
      "outputs": [
        {
          "output_type": "stream",
          "name": "stdout",
          "text": [
            "{'a': 1, 'b': 2}\n"
          ]
        }
      ]
    },
    {
      "cell_type": "markdown",
      "source": [
        "Dict25"
      ],
      "metadata": {
        "id": "v6ncKtipMkXA"
      }
    },
    {
      "cell_type": "code",
      "source": [
        "my_dict = {'a': 1, 'b': 2}\n",
        "first_pair = next(iter(my_dict.items())) if my_dict else None\n",
        "print(first_pair)"
      ],
      "metadata": {
        "colab": {
          "base_uri": "https://localhost:8080/"
        },
        "id": "CHBDw1cEMh5Q",
        "outputId": "1f26859c-453c-44fe-f39e-f1d370ae1280"
      },
      "execution_count": 33,
      "outputs": [
        {
          "output_type": "stream",
          "name": "stdout",
          "text": [
            "('a', 1)\n"
          ]
        }
      ]
    },
    {
      "cell_type": "code",
      "source": [],
      "metadata": {
        "id": "O1nohaXjMrfX"
      },
      "execution_count": null,
      "outputs": []
    }
  ]
}