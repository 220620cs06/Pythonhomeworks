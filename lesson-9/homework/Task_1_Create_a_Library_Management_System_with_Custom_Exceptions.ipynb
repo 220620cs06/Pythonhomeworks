{
  "nbformat": 4,
  "nbformat_minor": 0,
  "metadata": {
    "colab": {
      "provenance": []
    },
    "kernelspec": {
      "name": "python3",
      "display_name": "Python 3"
    },
    "language_info": {
      "name": "python"
    }
  },
  "cells": [
    {
      "cell_type": "code",
      "source": [
        "class BookNotFoundException(Exception):\n",
        "    pass\n",
        "\n",
        "class BookAlreadyBorrowedException(Exception):\n",
        "    pass\n",
        "\n",
        "class MemberLimitExceededException(Exception):\n",
        "    pass"
      ],
      "metadata": {
        "id": "_CceskgoIWFD"
      },
      "execution_count": 18,
      "outputs": []
    },
    {
      "cell_type": "code",
      "source": [
        "class Member:\n",
        "    def __init__(self, name):\n",
        "        self.name = name\n",
        "        self.borrowed_books = []\n",
        "\n",
        "    def can_borrow(self):\n",
        "        return len(self.borrowed_books) < 3\n",
        "\n",
        "    def borrow_book(self, book):\n",
        "        if not self.can_borrow():\n",
        "            raise MemberLimitExceededException(f\"{self.name} has already borrowed the maximum of 3 books.\")\n",
        "        self.borrowed_books.append(book)\n",
        "\n",
        "    def return_book(self, book):\n",
        "        if book in self.borrowed_books:\n",
        "            self.borrowed_books.remove(book)\n",
        "        else:\n",
        "            raise BookNotFoundException(f\"{self.name} didn't borrow '{book.title}'\")\n",
        "\n",
        "    def __str__(self):\n",
        "        return f\"Member: {self.name}, Borrowed books: {len(self.borrowed_books)}\""
      ],
      "metadata": {
        "id": "ErBZVVzfIpSf"
      },
      "execution_count": 21,
      "outputs": []
    },
    {
      "cell_type": "code",
      "source": [
        "class Book:\n",
        "    def __init__(self, title, author):\n",
        "        self.title = title\n",
        "        self.author = author\n",
        "        self.is_borrowed = False\n",
        "\n",
        "    def __str__(self):\n",
        "        return f\"'{self.title}' by {self.author} - {'Borrowed' if self.is_borrowed else 'Available'}\""
      ],
      "metadata": {
        "id": "_NK2QiqGLtJM"
      },
      "execution_count": 20,
      "outputs": []
    },
    {
      "cell_type": "code",
      "source": [
        "class Library:\n",
        "    def __init__(self):\n",
        "        self.books = []\n",
        "        self.members = []\n",
        "\n",
        "    def add_book(self, title, author):\n",
        "        self.books.append(Book(title, author))\n",
        "\n",
        "    def add_member(self, name):\n",
        "        self.members.append(Member(name))\n",
        "\n",
        "    def find_book(self, title):\n",
        "        for book in self.books:\n",
        "            if book.title.lower() == title.lower():\n",
        "                return book\n",
        "        return None\n",
        "\n",
        "    def find_member(self, name):\n",
        "        for member in self.members:\n",
        "            if member.name.lower() == name.lower():\n",
        "                return member\n",
        "        return None\n",
        "\n",
        "    def borrow(self, member_name, book_title):\n",
        "        member = self.find_member(member_name)\n",
        "        book = self.find_book(book_title)\n",
        "\n",
        "        if not book:\n",
        "            raise BookNotFoundException(f\"Book '{book_title}' not available\")\n",
        "        # Changed 'book.borrowed' to 'book.is_borrowed'\n",
        "        if book.is_borrowed:\n",
        "            raise BookAlreadyBorrowedException(f\"Book '{book_title}' is already borrowed\")\n",
        "        if not member:\n",
        "            raise Exception(\"Member not found\")\n",
        "        # The Member class uses borrowed_books and can_borrow, which is correct.\n",
        "        if not member.can_borrow():\n",
        "            raise MemberLimitExceededException(f\"{member_name} has reached borrowing limit\")\n",
        "\n",
        "        # Changed 'book.borrowed' to 'book.is_borrowed'\n",
        "        book.is_borrowed = True\n",
        "        # Changed 'member.books.append(book)' to 'member.borrowed_books.append(book)'\n",
        "        # to match the Member class's attribute name\n",
        "        member.borrowed_books.append(book)\n",
        "        print(f\"{member_name} borrowed '{book_title}'\")\n",
        "\n",
        "    def return_book(self, member_name, book_title):\n",
        "        member = self.find_member(member_name)\n",
        "        book = self.find_book(book_title)\n",
        "\n",
        "        if not book:\n",
        "            raise BookNotFoundException(f\"Book '{book_title}' not found\")\n",
        "        if not member:\n",
        "            raise Exception(\"Member not found\")\n",
        "        # Changed 'member.books' to 'member.borrowed_books'\n",
        "        if book not in member.borrowed_books:\n",
        "            raise Exception(f\"{member_name} didn't borrow this book\")\n",
        "\n",
        "        book.is_borrowed = False\n",
        "        # Changed 'member.books.remove(book)' to 'member.borrowed_books.remove(book)'\n",
        "        member.borrowed_books.remove(book)\n",
        "        print(f\"{member_name} returned '{book_title}'\")\n",
        "\n",
        "    def show_books(self):\n",
        "        print(\"\\nLibrary Books:\")\n",
        "        for book in self.books:\n",
        "            # Changed 'book.borrowed' to 'book.is_borrowed'\n",
        "            status = \"Borrowed\" if book.is_borrowed else \"Available\"\n",
        "            print(f\"'{book.title}' by {book.author} - {status}\")\n",
        "\n",
        "    def show_members(self):\n",
        "        print(\"\\nLibrary Members:\")\n",
        "        for member in self.members:\n",
        "            # Changed 'len(member.books)' to 'len(member.borrowed_books)'\n",
        "            print(f\"{member.name} ({len(member.borrowed_books)} books borrowed)\")"
      ],
      "metadata": {
        "id": "6GmPFuPOIxZs"
      },
      "execution_count": 24,
      "outputs": []
    },
    {
      "cell_type": "code",
      "execution_count": 25,
      "metadata": {
        "colab": {
          "base_uri": "https://localhost:8080/"
        },
        "id": "o7PGS8sAGIE6",
        "outputId": "93fa4177-3827-4d30-996d-163e20ff1466"
      },
      "outputs": [
        {
          "output_type": "stream",
          "name": "stdout",
          "text": [
            "\n",
            "Library Books:\n",
            "'Atomic Habits' by Author - Available\n",
            "'Harry Potter' by Ms - Available\n",
            "'Pride and Prejudice' by Jane Austen - Available\n",
            "\n",
            "Library Members:\n",
            "Me (0 books borrowed)\n",
            "Her (0 books borrowed)\n",
            "Me borrowed 'Atomic Habits'\n",
            "Me borrowed 'Harry Potter'\n",
            "Me borrowed 'Pride and Prejudice'\n",
            "\n",
            "Error: Book 'Harry Potter' is already borrowed\n",
            "\n",
            "Error: Book 'Non-existent Book' not available\n",
            "\n",
            "Error: Her didn't borrow this book\n",
            "\n",
            "Library Books:\n",
            "'Atomic Habits' by Author - Borrowed\n",
            "'Harry Potter' by Ms - Borrowed\n",
            "'Pride and Prejudice' by Jane Austen - Borrowed\n",
            "\n",
            "Library Members:\n",
            "Me (3 books borrowed)\n",
            "Her (0 books borrowed)\n"
          ]
        }
      ],
      "source": [
        "def test_library():\n",
        "    library = Library()\n",
        "\n",
        "    # Adding\n",
        "    library.add_book(\"Atomic Habits\", \"Author\")\n",
        "    library.add_book(\"Harry Potter\", \"Ms\")\n",
        "    library.add_book(\"Pride and Prejudice\", \"Jane Austen\")\n",
        "\n",
        "    # Add members\n",
        "    library.add_member(\"Me\")\n",
        "    library.add_member(\"Her\")\n",
        "\n",
        "    # Showing the status\n",
        "    library.show_books()\n",
        "    library.show_members()\n",
        "\n",
        "    # Test borrowing\n",
        "    try:\n",
        "        library.borrow(\"Me\", \"Atomic Habits\")\n",
        "        library.borrow(\"Me\", \"Harry Potter\")\n",
        "        library.borrow(\"Me\", \"Pride and Prejudice\")\n",
        "        library.borrow(\"Me\", \"Harry Potter\")  # already borrowed\n",
        "    except Exception as e:\n",
        "        print(f\"\\nError: {e}\")\n",
        "\n",
        "    try:\n",
        "        library.borrow(\"Her\", \"Non-existent Book\")  # book not found\n",
        "    except Exception as e:\n",
        "        print(f\"\\nError: {e}\")\n",
        "\n",
        "    # Test returning\n",
        "    try:\n",
        "        library.return_book(\"Her\", \"Pride and Prejudice\")\n",
        "        library.borrow(\"Her\", \"Atomic Habits\")\n",
        "    except Exception as e:\n",
        "        print(f\"\\nError: {e}\")\n",
        "\n",
        "\n",
        "    library.show_books()\n",
        "    library.show_members()\n",
        "\n",
        "test_library()"
      ]
    },
    {
      "cell_type": "code",
      "source": [],
      "metadata": {
        "id": "ARfXGblIMsZp"
      },
      "execution_count": null,
      "outputs": []
    }
  ]
}