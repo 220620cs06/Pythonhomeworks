{
  "nbformat": 4,
  "nbformat_minor": 0,
  "metadata": {
    "colab": {
      "provenance": []
    },
    "kernelspec": {
      "name": "python3",
      "display_name": "Python 3"
    },
    "language_info": {
      "name": "python"
    }
  },
  "cells": [
    {
      "cell_type": "code",
      "source": [
        "import numpy as np\n",
        "import matplotlib as plt"
      ],
      "metadata": {
        "id": "3lQ2gB8ZO17U"
      },
      "execution_count": 8,
      "outputs": []
    },
    {
      "cell_type": "markdown",
      "source": [
        "Task 1: Fahrenheit to Celsius Conversion"
      ],
      "metadata": {
        "id": "OfD6p6GDPaPh"
      }
    },
    {
      "cell_type": "code",
      "source": [
        "def fahrenheit_to_celsius(fahrenheit):\n",
        "    celsius = (fahrenheit - 32) * 5/9\n",
        "    return celsius\n",
        "\n",
        "temp=[32, 68, 100, 212, 77]\n",
        "vect=np.vectorize(fahrenheit_to_celsius)\n",
        "print(\"Vectorized temp in celc: \",vect(temp))"
      ],
      "metadata": {
        "colab": {
          "base_uri": "https://localhost:8080/"
        },
        "id": "Oav_VUMrPWvP",
        "outputId": "4ab11eb8-c8de-4314-e096-93bf361c0908"
      },
      "execution_count": 10,
      "outputs": [
        {
          "output_type": "stream",
          "name": "stdout",
          "text": [
            "Vectorized temp in celc:  [  0.          20.          37.77777778 100.          25.        ]\n"
          ]
        }
      ]
    },
    {
      "cell_type": "markdown",
      "source": [
        "Task 2: Custom Power Function"
      ],
      "metadata": {
        "id": "lHu50T7GQSWP"
      }
    },
    {
      "cell_type": "code",
      "source": [
        "def power(base, exponent):\n",
        "    result = base ** exponent\n",
        "    return result\n",
        "\n",
        "nums=[2, 3, 4, 5]\n",
        "powers=[1, 2, 3, 4]\n",
        "vect=np.vectorize(power)\n",
        "print(\"Vectorized power: \",vect(nums,powers))\n",
        "#"
      ],
      "metadata": {
        "colab": {
          "base_uri": "https://localhost:8080/"
        },
        "id": "NXc4Cc-WP6ye",
        "outputId": "8e397eca-ae22-47ae-ea3c-a1be237d8edf"
      },
      "execution_count": 11,
      "outputs": [
        {
          "output_type": "stream",
          "name": "stdout",
          "text": [
            "Vectorized power:  [  2   9  64 625]\n"
          ]
        }
      ]
    },
    {
      "cell_type": "markdown",
      "source": [
        "Task 3: Solving a Linear System"
      ],
      "metadata": {
        "id": "UPNBEbyMRnfM"
      }
    },
    {
      "cell_type": "code",
      "source": [
        "A=np.array(\n",
        "    [\n",
        "        [4,5,6],\n",
        "        [3,-1,1],\n",
        "        [2,1,-2]\n",
        "    ]\n",
        ")\n",
        "\n",
        "B=np.array([7,4,5])\n",
        "\n",
        "x=np.linalg.solve(A,B)\n",
        "print(\"Solution (x, y, z):\", x)\n",
        "#"
      ],
      "metadata": {
        "colab": {
          "base_uri": "https://localhost:8080/"
        },
        "id": "ItbSonpzQ-h1",
        "outputId": "56d9540f-7c8e-441f-a1c6-72d993c85343"
      },
      "execution_count": 13,
      "outputs": [
        {
          "output_type": "stream",
          "name": "stdout",
          "text": [
            "Solution (x, y, z): [ 1.7027027   0.62162162 -0.48648649]\n"
          ]
        }
      ]
    },
    {
      "cell_type": "markdown",
      "source": [
        "Task 4: Solving Electrical Circuit Equations\n"
      ],
      "metadata": {
        "id": "OsYzCUBjTMWZ"
      }
    },
    {
      "cell_type": "code",
      "source": [
        "A = np.array([\n",
        "    [10, -2, 3],\n",
        "    [-2, 8, -1],\n",
        "    [3, -1, 6]\n",
        "])\n",
        "B = np.array([12, -5, 15])\n",
        "\n",
        "x = np.linalg.solve(A, B)\n",
        "print(\"Currents (I1, I2, I3):\", x)"
      ],
      "metadata": {
        "colab": {
          "base_uri": "https://localhost:8080/"
        },
        "id": "CWMJWFDtSRuo",
        "outputId": "fc562d28-18fb-4767-e0b0-ff9a1c9d6769"
      },
      "execution_count": 14,
      "outputs": [
        {
          "output_type": "stream",
          "name": "stdout",
          "text": [
            "Currents (I1, I2, I3): [ 0.48963731 -0.2253886   2.21761658]\n"
          ]
        }
      ]
    },
    {
      "cell_type": "markdown",
      "source": [
        "Image Manipulation with NumPy and PIL"
      ],
      "metadata": {
        "id": "jxpLCJXVTenG"
      }
    },
    {
      "cell_type": "code",
      "source": [
        "import numpy as np\n",
        "from PIL import Image\n",
        "\n",
        "img = np.array(Image.open(\"/content/birds.jpeg\"))\n",
        "\n",
        "\n",
        "def flip_image(img):\n",
        "    return img[::-1, ::-1]  # vertically and horizontally\n",
        "\n",
        "def add_noise(img, intensity=30):\n",
        "    noise = np.random.randint(-intensity, intensity, img.shape, dtype=np.int16)\n",
        "    noisy_img = np.clip(img + noise, 0, 255).astype(np.uint8)\n",
        "    return noisy_img\n",
        "\n",
        "def brighten_channels(img, value=40):\n",
        "    brightened = np.clip(img + value, 0, 255).astype(np.uint8)\n",
        "    return brightened\n",
        "\n",
        "def apply_mask(img, x, y, width, height):\n",
        "    masked = img.copy()\n",
        "    masked[y:y+height, x:x+width] = 0  # Set region to black\n",
        "    return masked\n",
        "\n",
        "\n",
        "flipped = flip_image(img)\n",
        "noisy = add_noise(img)\n",
        "brightened = brighten_channels(img)\n",
        "masked = apply_mask(img, 100, 100, 100, 100)\n",
        "\n",
        "Image.fromarray(flipped).save(\"/content/flipped_birds.jpeg\")\n",
        "Image.fromarray(noisy).save(\"/content/noisy_birds.jpeg\")\n",
        "Image.fromarray(brightened).save(\"/content/brightened_birds.jpeg\")\n",
        "Image.fromarray(masked).save(\"/content/masked_birds.jpeg\")"
      ],
      "metadata": {
        "id": "Mg5V9lXKTh-t"
      },
      "execution_count": 16,
      "outputs": []
    },
    {
      "cell_type": "code",
      "source": [],
      "metadata": {
        "id": "AOjUqZVvfLsY"
      },
      "execution_count": null,
      "outputs": []
    }
  ]
}