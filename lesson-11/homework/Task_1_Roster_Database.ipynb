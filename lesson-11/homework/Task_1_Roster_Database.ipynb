{
  "nbformat": 4,
  "nbformat_minor": 0,
  "metadata": {
    "colab": {
      "provenance": []
    },
    "kernelspec": {
      "name": "python3",
      "display_name": "Python 3"
    },
    "language_info": {
      "name": "python"
    }
  },
  "cells": [
    {
      "cell_type": "code",
      "execution_count": 2,
      "metadata": {
        "colab": {
          "base_uri": "https://localhost:8080/"
        },
        "id": "U3ptFuUXh4YY",
        "outputId": "420d0c5b-1a6b-436f-b535-9c04a8c21bbf"
      },
      "outputs": [
        {
          "output_type": "execute_result",
          "data": {
            "text/plain": [
              "<sqlite3.Cursor at 0x784b66c95140>"
            ]
          },
          "metadata": {},
          "execution_count": 2
        }
      ],
      "source": [
        "import sqlite3\n",
        "con=sqlite3.connect('roaster.db')\n",
        "cursor=con.cursor()\n",
        "\n",
        "cursor.execute('''CREATE TABLE IF NOT EXISTS Roster\n",
        "                  (Name TEXT, Species TEXT, Age INTEGER)''')\n",
        "\n",
        "roster_data = [\n",
        "    ('Benjamin Sisko', 'Human', 40),\n",
        "    ('Jadzia Dax', 'Trill', 300),\n",
        "    ('Kira Nerys', 'Bajoran', 29)\n",
        "]\n",
        "cursor.executemany('INSERT INTO Roster VALUES (?, ?, ?)', roster_data)\n"
      ]
    },
    {
      "cell_type": "code",
      "source": [
        "cursor.execute('UPDATE Roster SET Name = \"Ezri Dax\" WHERE Name = \"Jadzia Dax\"')\n",
        "\n",
        "# Query Bajoran characters\n",
        "print(\"Bajoran characters:\")\n",
        "cursor.execute('SELECT Name, Age FROM Roster WHERE Species = \"Bajoran\"')\n",
        "for row in cursor.fetchall():\n",
        "    print(f\"Name: {row[0]}, Age: {row[1]}\")"
      ],
      "metadata": {
        "colab": {
          "base_uri": "https://localhost:8080/"
        },
        "id": "f0heRoi0k4B1",
        "outputId": "70218a39-de6c-450b-c1ab-882751a90732"
      },
      "execution_count": 3,
      "outputs": [
        {
          "output_type": "stream",
          "name": "stdout",
          "text": [
            "Bajoran characters:\n",
            "Name: Kira Nerys, Age: 29\n"
          ]
        }
      ]
    },
    {
      "cell_type": "code",
      "source": [
        "cursor.execute('DELETE FROM Roster WHERE Age > 100')\n",
        "\n",
        "# Bonus: Add Rank column and update data\n",
        "cursor.execute('ALTER TABLE Roster ADD COLUMN Rank TEXT')\n",
        "rank_updates = [\n",
        "    ('Captain', 'Benjamin Sisko'),\n",
        "    ('Lieutenant', 'Ezri Dax'),\n",
        "    ('Major', 'Kira Nerys')\n",
        "]\n",
        "for rank, name in rank_updates:\n",
        "    cursor.execute('UPDATE Roster SET Rank = ? WHERE Name = ?', (rank, name))\n",
        "\n"
      ],
      "metadata": {
        "id": "O6lyUFD8lHGU"
      },
      "execution_count": 4,
      "outputs": []
    },
    {
      "cell_type": "code",
      "source": [
        "# Advanced query: Sort by Age descending\n",
        "print(\"\\nCharacters sorted by age (descending):\")\n",
        "cursor.execute('SELECT * FROM Roster ORDER BY Age DESC')\n",
        "for row in cursor.fetchall():\n",
        "    print(row)\n",
        "\n",
        "con.commit()\n",
        "con.close()"
      ],
      "metadata": {
        "colab": {
          "base_uri": "https://localhost:8080/"
        },
        "id": "qcFt0Yi5lbRc",
        "outputId": "b3ed1e7f-92b6-42ca-d3f3-0ef3568d7a9f"
      },
      "execution_count": 5,
      "outputs": [
        {
          "output_type": "stream",
          "name": "stdout",
          "text": [
            "\n",
            "Characters sorted by age (descending):\n",
            "('Benjamin Sisko', 'Human', 40, 'Captain')\n",
            "('Kira Nerys', 'Bajoran', 29, 'Major')\n"
          ]
        }
      ]
    },
    {
      "cell_type": "code",
      "source": [],
      "metadata": {
        "id": "eByIcNY_lc4D"
      },
      "execution_count": null,
      "outputs": []
    }
  ]
}