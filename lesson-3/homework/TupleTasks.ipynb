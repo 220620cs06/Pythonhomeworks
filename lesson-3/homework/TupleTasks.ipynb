{
  "nbformat": 4,
  "nbformat_minor": 0,
  "metadata": {
    "colab": {
      "provenance": []
    },
    "kernelspec": {
      "name": "python3",
      "display_name": "Python 3"
    },
    "language_info": {
      "name": "python"
    }
  },
  "cells": [
    {
      "cell_type": "markdown",
      "source": [
        "Tuple1\n"
      ],
      "metadata": {
        "id": "VTJZRWF_igBp"
      }
    },
    {
      "cell_type": "code",
      "source": [
        "tuple1=(4,3,2,4,1,2,2,2,5)\n",
        "elem=2\n",
        "print(tuple1.count(elem))"
      ],
      "metadata": {
        "colab": {
          "base_uri": "https://localhost:8080/"
        },
        "id": "J6nji9Twmu1i",
        "outputId": "62cc996c-ab44-43cc-8ad8-3c1a48770186"
      },
      "execution_count": 32,
      "outputs": [
        {
          "output_type": "stream",
          "name": "stdout",
          "text": [
            "4\n"
          ]
        }
      ]
    },
    {
      "cell_type": "markdown",
      "source": [
        "Tuple2"
      ],
      "metadata": {
        "id": "5ERP5CLjjmo2"
      }
    },
    {
      "cell_type": "code",
      "source": [
        "tuple1=(4,3,2,4,1,2,2,2,5)\n",
        "print(max(tuple1))"
      ],
      "metadata": {
        "colab": {
          "base_uri": "https://localhost:8080/"
        },
        "id": "ORfSgSKSjpqK",
        "outputId": "4a64c9e1-c83f-4aa7-ba7a-e8f0f3192de7"
      },
      "execution_count": 33,
      "outputs": [
        {
          "output_type": "stream",
          "name": "stdout",
          "text": [
            "5\n"
          ]
        }
      ]
    },
    {
      "cell_type": "markdown",
      "source": [
        "Tuple3"
      ],
      "metadata": {
        "id": "8JCL0OP9j97v"
      }
    },
    {
      "cell_type": "code",
      "source": [
        "tuple1=(4,3,2,4,1,2,2,2,5)\n",
        "print(min(tuple1))"
      ],
      "metadata": {
        "colab": {
          "base_uri": "https://localhost:8080/"
        },
        "id": "Ewi15jk7j6Cr",
        "outputId": "dd22c32e-704d-4d2e-e2b5-5834772fb0ab"
      },
      "execution_count": 34,
      "outputs": [
        {
          "output_type": "stream",
          "name": "stdout",
          "text": [
            "1\n"
          ]
        }
      ]
    },
    {
      "cell_type": "markdown",
      "source": [
        "Tuple4"
      ],
      "metadata": {
        "id": "qoaJlcBAlH-n"
      }
    },
    {
      "cell_type": "code",
      "source": [
        "tuple1=(4,3,2,4,1,2,2,2,5)\n",
        "print(4 in (tuple1))"
      ],
      "metadata": {
        "colab": {
          "base_uri": "https://localhost:8080/"
        },
        "id": "dI7L9ozUkCEm",
        "outputId": "df727c89-6b6c-4817-a1b8-6a83135f93ab"
      },
      "execution_count": 36,
      "outputs": [
        {
          "output_type": "stream",
          "name": "stdout",
          "text": [
            "True\n"
          ]
        }
      ]
    },
    {
      "cell_type": "markdown",
      "source": [
        "Tuple5"
      ],
      "metadata": {
        "id": "3bOZefjwlW8c"
      }
    },
    {
      "cell_type": "code",
      "source": [
        "tuple1=(4,3,2,4,1,2,2,2,5)\n",
        "first=tuple1[0] if tuple1 else None\n",
        "print(first)\n"
      ],
      "metadata": {
        "colab": {
          "base_uri": "https://localhost:8080/"
        },
        "id": "TEZvllkplQaH",
        "outputId": "c9dca055-c3c1-4766-b1b6-f5d4a971d22a"
      },
      "execution_count": 38,
      "outputs": [
        {
          "output_type": "stream",
          "name": "stdout",
          "text": [
            "4\n"
          ]
        }
      ]
    },
    {
      "cell_type": "markdown",
      "source": [
        "Tuple6"
      ],
      "metadata": {
        "id": "MD0ngBo5mPNd"
      }
    },
    {
      "cell_type": "code",
      "source": [
        "tuple1=(4,3,2,4,1,2,2,2,5)\n",
        "last=tuple1[-1] if tuple1 else None\n",
        "print(last)"
      ],
      "metadata": {
        "colab": {
          "base_uri": "https://localhost:8080/"
        },
        "id": "AD1G1KKvmJAT",
        "outputId": "115b4ae5-5efd-427d-e7ce-f92ee8bf18d7"
      },
      "execution_count": 39,
      "outputs": [
        {
          "output_type": "stream",
          "name": "stdout",
          "text": [
            "5\n"
          ]
        }
      ]
    },
    {
      "cell_type": "markdown",
      "source": [
        "Tuple7"
      ],
      "metadata": {
        "id": "eHBg_zptmoGZ"
      }
    },
    {
      "cell_type": "code",
      "source": [
        "tuple1=(4,3,2,4,1,2,2,2,5)\n",
        "print(len(tuple1))"
      ],
      "metadata": {
        "colab": {
          "base_uri": "https://localhost:8080/"
        },
        "id": "HLOqPNKbmldv",
        "outputId": "e0bd0cd3-f10a-476a-b741-42f26c3b89bb"
      },
      "execution_count": 43,
      "outputs": [
        {
          "output_type": "stream",
          "name": "stdout",
          "text": [
            "9\n"
          ]
        }
      ]
    },
    {
      "cell_type": "markdown",
      "source": [
        "Tuple8"
      ],
      "metadata": {
        "id": "botLalcznKH1"
      }
    },
    {
      "cell_type": "code",
      "source": [
        "tuple1=(4,3,2,4,1,2,2,2,5)\n",
        "tuple2=tuple1[:3]\n",
        "print(tuple2)\n",
        "#"
      ],
      "metadata": {
        "colab": {
          "base_uri": "https://localhost:8080/"
        },
        "id": "31Pcp0c_m4JX",
        "outputId": "c5612d26-67b2-46e7-c1f9-74c0ac8fc3d1"
      },
      "execution_count": 46,
      "outputs": [
        {
          "output_type": "stream",
          "name": "stdout",
          "text": [
            "(4, 3, 2)\n"
          ]
        }
      ]
    },
    {
      "cell_type": "markdown",
      "source": [
        "Tuple9"
      ],
      "metadata": {
        "id": "YUXeSkGinqmk"
      }
    },
    {
      "cell_type": "code",
      "source": [
        "tuple1=(4,3,2,4,1,2,2,2,5)\n",
        "tuple2=(3,3,3,3,33,3)\n",
        "print(tuple2+tuple1)"
      ],
      "metadata": {
        "colab": {
          "base_uri": "https://localhost:8080/"
        },
        "id": "DRrkF4IZnsz-",
        "outputId": "bcf0a726-2fb4-4feb-cae7-ead9eec9235e"
      },
      "execution_count": 47,
      "outputs": [
        {
          "output_type": "stream",
          "name": "stdout",
          "text": [
            "(3, 3, 3, 3, 33, 3, 4, 3, 2, 4, 1, 2, 2, 2, 5)\n"
          ]
        }
      ]
    },
    {
      "cell_type": "markdown",
      "source": [
        "Tuple10"
      ],
      "metadata": {
        "id": "m5ZphDP2ovVz"
      }
    },
    {
      "cell_type": "code",
      "source": [
        "tuple1=(4,3,2,4,1,2,2,2,5)\n",
        "print(tuple1==0)"
      ],
      "metadata": {
        "colab": {
          "base_uri": "https://localhost:8080/"
        },
        "id": "2FCL2DLDoy6N",
        "outputId": "cf766363-a7c4-48f8-920c-a81013cd0c7f"
      },
      "execution_count": 48,
      "outputs": [
        {
          "output_type": "stream",
          "name": "stdout",
          "text": [
            "False\n"
          ]
        }
      ]
    },
    {
      "cell_type": "markdown",
      "source": [
        "Tuple11"
      ],
      "metadata": {
        "id": "0v_47lsLpp1M"
      }
    },
    {
      "cell_type": "code",
      "source": [
        "tuple1=(4,3,2,4,1,2,2,2,5)\n",
        "element = 2\n",
        "indices = [i for i, x in enumerate(tuple1) if x == element]\n",
        "print(indices)"
      ],
      "metadata": {
        "colab": {
          "base_uri": "https://localhost:8080/"
        },
        "id": "qiAEw7VbpheG",
        "outputId": "3cf2dc15-c576-4df1-c695-2d55a3a46e1a"
      },
      "execution_count": 50,
      "outputs": [
        {
          "output_type": "stream",
          "name": "stdout",
          "text": [
            "[2, 5, 6, 7]\n"
          ]
        }
      ]
    },
    {
      "cell_type": "markdown",
      "source": [
        "Tuple12"
      ],
      "metadata": {
        "id": "T0QWVzbrwm2-"
      }
    },
    {
      "cell_type": "code",
      "source": [
        "tuple1=(4,3,2,4,1,2,2,2,5)\n",
        "unique_sorted = sorted(set(tuple1), reverse=True)\n",
        "second_largest = unique_sorted[1] if len(unique_sorted) > 1 else None\n",
        "\n",
        "print(second_largest)\n",
        "#"
      ],
      "metadata": {
        "colab": {
          "base_uri": "https://localhost:8080/"
        },
        "id": "jC6CVy3Lwl3H",
        "outputId": "c5070e15-c4f4-4b3e-82a1-e84bef8c321c"
      },
      "execution_count": 54,
      "outputs": [
        {
          "output_type": "stream",
          "name": "stdout",
          "text": [
            "4\n"
          ]
        }
      ]
    },
    {
      "cell_type": "markdown",
      "source": [
        "Tuple13"
      ],
      "metadata": {
        "id": "huZLVrSMyvGT"
      }
    },
    {
      "cell_type": "code",
      "source": [
        "tuple1=(4,3,2,4,1,2,2,2,5)\n",
        "unique_sorted = sorted(set(tuple1))\n",
        "second_smallest = unique_sorted[1] if len(unique_sorted) > 1 else None\n",
        "\n",
        "print(second_smallest)\n",
        "#"
      ],
      "metadata": {
        "colab": {
          "base_uri": "https://localhost:8080/"
        },
        "id": "pgW9SbuCx6gf",
        "outputId": "0ed15193-154f-45e9-be56-99f62724e56e"
      },
      "execution_count": 56,
      "outputs": [
        {
          "output_type": "stream",
          "name": "stdout",
          "text": [
            "2\n"
          ]
        }
      ]
    },
    {
      "cell_type": "markdown",
      "source": [
        "Tuple14"
      ],
      "metadata": {
        "id": "SJOm8hk0zpOw"
      }
    },
    {
      "cell_type": "code",
      "source": [
        "tuple1=(4,3,2,4,1,2,2,2,5)\n",
        "element = 42\n",
        "single_element_tuple = (element,)\n",
        "print(single_element_tuple)"
      ],
      "metadata": {
        "colab": {
          "base_uri": "https://localhost:8080/"
        },
        "id": "86voeY1ozmzx",
        "outputId": "09b9d4ac-4119-4a26-a7bd-a8162c75a4f6"
      },
      "execution_count": 58,
      "outputs": [
        {
          "output_type": "stream",
          "name": "stdout",
          "text": [
            "(42,)\n"
          ]
        }
      ]
    },
    {
      "cell_type": "markdown",
      "source": [
        "Tuple15"
      ],
      "metadata": {
        "id": "gAJYXGeszIpv"
      }
    },
    {
      "cell_type": "code",
      "source": [
        "list1=[1,2,4,3,2,1,3]\n",
        "print(tuple(list1))"
      ],
      "metadata": {
        "colab": {
          "base_uri": "https://localhost:8080/"
        },
        "id": "Roo6vGvZzDK8",
        "outputId": "9523f61e-03a2-450d-ed50-133e57acb89a"
      },
      "execution_count": 59,
      "outputs": [
        {
          "output_type": "stream",
          "name": "stdout",
          "text": [
            "(1, 2, 4, 3, 2, 1, 3)\n"
          ]
        }
      ]
    },
    {
      "cell_type": "markdown",
      "source": [
        "Tuple16"
      ],
      "metadata": {
        "id": "nI8r7G8Qz3iB"
      }
    },
    {
      "cell_type": "code",
      "source": [
        "tuple1=(4,3,2,4,1,2,2,2,5)\n",
        "print(sorted(tuple1))"
      ],
      "metadata": {
        "colab": {
          "base_uri": "https://localhost:8080/"
        },
        "id": "2pMjlB6szVxS",
        "outputId": "99f0f78e-ef35-4406-fa92-48db6d355b8c"
      },
      "execution_count": 60,
      "outputs": [
        {
          "output_type": "stream",
          "name": "stdout",
          "text": [
            "[1, 2, 2, 2, 2, 3, 4, 4, 5]\n"
          ]
        }
      ]
    },
    {
      "cell_type": "markdown",
      "source": [
        "Tuple17"
      ],
      "metadata": {
        "id": "1Gn2VLKq0RES"
      }
    },
    {
      "cell_type": "code",
      "source": [
        "tuple1=(4,3,2,4,1,2,2,2,5)\n",
        "sub_t=tuple1[2:5]\n",
        "print(max(sub_t))\n",
        "#"
      ],
      "metadata": {
        "colab": {
          "base_uri": "https://localhost:8080/"
        },
        "id": "Wl3sofvm0Pir",
        "outputId": "5ea5c7f6-5720-4fca-c76f-05d82ddd7742"
      },
      "execution_count": 61,
      "outputs": [
        {
          "output_type": "stream",
          "name": "stdout",
          "text": [
            "4\n"
          ]
        }
      ]
    },
    {
      "cell_type": "markdown",
      "source": [
        "Tuple18"
      ],
      "metadata": {
        "id": "X1c8cebc1oRb"
      }
    },
    {
      "cell_type": "code",
      "source": [
        "tuple1=(4,3,2,4,1,2,2,2,5)\n",
        "sub_t=tuple1[2:5]\n",
        "print(min(sub_t))"
      ],
      "metadata": {
        "colab": {
          "base_uri": "https://localhost:8080/"
        },
        "id": "eHy2jmsn1Jdm",
        "outputId": "1daa1594-b493-47ae-e133-99f144315e75"
      },
      "execution_count": 62,
      "outputs": [
        {
          "output_type": "stream",
          "name": "stdout",
          "text": [
            "1\n"
          ]
        }
      ]
    },
    {
      "cell_type": "markdown",
      "source": [
        "Tuple19"
      ],
      "metadata": {
        "id": "hvP1PzNK1zrs"
      }
    },
    {
      "cell_type": "code",
      "source": [
        "my_tuple=(4,3,2,4,1,2,2,2,5)\n",
        "element = 3\n",
        "new_tuple = tuple(x for i, x in enumerate(my_tuple) if i != my_tuple.index(element)) if element in my_tuple else my_tuple\n",
        "print(new_tuple)"
      ],
      "metadata": {
        "colab": {
          "base_uri": "https://localhost:8080/"
        },
        "id": "FQnkZThf1w02",
        "outputId": "2b8da45c-665c-42ec-d916-898caf1dc769"
      },
      "execution_count": 64,
      "outputs": [
        {
          "output_type": "stream",
          "name": "stdout",
          "text": [
            "(4, 2, 4, 1, 2, 2, 2, 5)\n"
          ]
        }
      ]
    },
    {
      "cell_type": "markdown",
      "source": [
        "Tuple20"
      ],
      "metadata": {
        "id": "HtS3MqFM2yI6"
      }
    },
    {
      "cell_type": "code",
      "source": [
        "my_tuple = (1, 2, 3, 4, 5, 6)\n",
        "n = 2  # Elements per subtuple\n",
        "nested = tuple(my_tuple[i:i + n] for i in range(0, len(my_tuple), n))\n",
        "print(nested)\n",
        "#"
      ],
      "metadata": {
        "colab": {
          "base_uri": "https://localhost:8080/"
        },
        "id": "c0nowlnC2rL0",
        "outputId": "e6134cf7-fe86-432e-84e6-18f4da87b78f"
      },
      "execution_count": 65,
      "outputs": [
        {
          "output_type": "stream",
          "name": "stdout",
          "text": [
            "((1, 2), (3, 4), (5, 6))\n"
          ]
        }
      ]
    },
    {
      "cell_type": "markdown",
      "source": [
        "Tuple21"
      ],
      "metadata": {
        "id": "fEeV0b_x3b0T"
      }
    },
    {
      "cell_type": "code",
      "source": [
        "my_tuple = (1, 2, 3, 4, 5, 6)\n",
        "n = 2\n",
        "repeated = tuple(item for item in my_tuple for _ in range(n))\n",
        "print(repeated)\n",
        "#"
      ],
      "metadata": {
        "colab": {
          "base_uri": "https://localhost:8080/"
        },
        "id": "qpXjp2dY2_Tf",
        "outputId": "14e6fb26-7946-4f09-a5b9-9435de8f43ff"
      },
      "execution_count": 67,
      "outputs": [
        {
          "output_type": "stream",
          "name": "stdout",
          "text": [
            "(1, 1, 2, 2, 3, 3, 4, 4, 5, 5, 6, 6)\n"
          ]
        }
      ]
    },
    {
      "cell_type": "markdown",
      "source": [
        "Tuple22"
      ],
      "metadata": {
        "id": "SKxPCdYI3tL6"
      }
    },
    {
      "cell_type": "code",
      "source": [
        "start, end = 1, 5\n",
        "range_tuple = tuple(range(start, end + 1))\n",
        "print(range_tuple)"
      ],
      "metadata": {
        "colab": {
          "base_uri": "https://localhost:8080/"
        },
        "id": "jABz8lGw3pIC",
        "outputId": "3c122000-dfc7-434f-d5a8-1d67057ba81b"
      },
      "execution_count": 68,
      "outputs": [
        {
          "output_type": "stream",
          "name": "stdout",
          "text": [
            "(1, 2, 3, 4, 5)\n"
          ]
        }
      ]
    },
    {
      "cell_type": "markdown",
      "source": [
        "Tuple23"
      ],
      "metadata": {
        "id": "xk7hGede39Q_"
      }
    },
    {
      "cell_type": "code",
      "source": [
        "my_tuple = (1, 2, 3, 4)\n",
        "reversed_tuple = my_tuple[::-1]\n",
        "print(reversed_tuple)"
      ],
      "metadata": {
        "colab": {
          "base_uri": "https://localhost:8080/"
        },
        "id": "KZwsDYUr34TI",
        "outputId": "905e7db4-314c-4359-caa2-d06f3fb5566b"
      },
      "execution_count": 69,
      "outputs": [
        {
          "output_type": "stream",
          "name": "stdout",
          "text": [
            "(4, 3, 2, 1)\n"
          ]
        }
      ]
    },
    {
      "cell_type": "markdown",
      "source": [
        "Tuple24"
      ],
      "metadata": {
        "id": "qK1MVA9L4PmF"
      }
    },
    {
      "cell_type": "code",
      "source": [
        "my_tuple = (1, 2, 3, 2, 1)\n",
        "is_palindrome = my_tuple == my_tuple[::-1]\n",
        "print(is_palindrome)"
      ],
      "metadata": {
        "colab": {
          "base_uri": "https://localhost:8080/"
        },
        "id": "FtLxWuZn4NrE",
        "outputId": "b343a836-46fa-4344-fa52-f239692b3c63"
      },
      "execution_count": 70,
      "outputs": [
        {
          "output_type": "stream",
          "name": "stdout",
          "text": [
            "True\n"
          ]
        }
      ]
    },
    {
      "cell_type": "markdown",
      "source": [
        "Tuple25"
      ],
      "metadata": {
        "id": "q3Vmd3JI4adb"
      }
    },
    {
      "cell_type": "code",
      "source": [
        "my_tuple = (1, 2, 2, 3, 4, 4, 5)\n",
        "seen = set()\n",
        "unique_ordered = tuple(x for x in my_tuple if not (x in seen or seen.add(x)))\n",
        "print(unique_ordered)\n",
        "#"
      ],
      "metadata": {
        "colab": {
          "base_uri": "https://localhost:8080/"
        },
        "id": "dTLUzgBk4Ybf",
        "outputId": "0ebbb3ad-d9d0-4d08-9e73-fc3cd92644d8"
      },
      "execution_count": 71,
      "outputs": [
        {
          "output_type": "stream",
          "name": "stdout",
          "text": [
            "(1, 2, 3, 4, 5)\n"
          ]
        }
      ]
    },
    {
      "cell_type": "code",
      "source": [],
      "metadata": {
        "id": "siLQHSwa4iF9"
      },
      "execution_count": null,
      "outputs": []
    }
  ]
}