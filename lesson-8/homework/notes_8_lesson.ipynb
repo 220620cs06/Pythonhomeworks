{
  "nbformat": 4,
  "nbformat_minor": 0,
  "metadata": {
    "colab": {
      "provenance": []
    },
    "kernelspec": {
      "name": "python3",
      "display_name": "Python 3"
    },
    "language_info": {
      "name": "python"
    }
  },
  "cells": [
    {
      "cell_type": "markdown",
      "source": [
        "Classes\n",
        "Public and private attributes\n",
        "Inheritance\n",
        "Property\n",
        "classmethod, staticmethod"
      ],
      "metadata": {
        "id": "3mj9iYdpsM3J"
      }
    },
    {
      "cell_type": "code",
      "execution_count": null,
      "metadata": {
        "id": "qrWxjvgsrzNP"
      },
      "outputs": [],
      "source": [
        "'''\n",
        "# Absolute imports\n",
        "import ecommerce.products\n",
        "product = ecommerce.products.Product()\n",
        "\n",
        "# or\n",
        "from ecommerce.products import Product\n",
        "product = Product()\n",
        "\n",
        "# or\n",
        "\n",
        "from ecommerce import products\n",
        "product = products.Product()\n",
        "\n",
        "# from .ecommerce import contact\n",
        "\n",
        "print('done')\n",
        "'''\n"
      ]
    },
    {
      "cell_type": "code",
      "source": [
        "# example 1\n",
        "class Person:\n",
        "    def __init__(self, name, age, salary):\n",
        "        self.name = name\n",
        "        self.age = age\n",
        "        self.__salary = salary # private-like attribute\n",
        "        self._email = 'test email' # protected\n",
        "\n",
        "    def print_salary(self):\n",
        "        return self.__salary\n",
        "\n",
        "person = Person('John Doe', 30, 5000)\n",
        "person.print_salary()"
      ],
      "metadata": {
        "colab": {
          "base_uri": "https://localhost:8080/"
        },
        "id": "d6I9NZRktSos",
        "outputId": "310a7b29-8117-4d50-def0-d4bbe188e5cf"
      },
      "execution_count": 1,
      "outputs": [
        {
          "output_type": "execute_result",
          "data": {
            "text/plain": [
              "5000"
            ]
          },
          "metadata": {},
          "execution_count": 1
        }
      ]
    },
    {
      "cell_type": "code",
      "source": [
        "print(person.name)"
      ],
      "metadata": {
        "colab": {
          "base_uri": "https://localhost:8080/"
        },
        "id": "xY4UraWKuv2O",
        "outputId": "59c8c33b-75ec-4eaa-e78a-c9bb6a283ce1"
      },
      "execution_count": 2,
      "outputs": [
        {
          "output_type": "stream",
          "name": "stdout",
          "text": [
            "John Doe\n"
          ]
        }
      ]
    },
    {
      "cell_type": "code",
      "source": [
        "#  example 2\n",
        "class BankAccount:\n",
        "    def __init__(self, account_number, balance):\n",
        "        self.account_number = account_number\n",
        "        self.__balance = balance\n",
        "\n",
        "    def deposit(self, amount):\n",
        "        if amount > 0:\n",
        "            self.__balance += amount\n",
        "        return self.__balance\n",
        "\n",
        "    def __calculate_interest(self):\n",
        "        return self.__balance * 0.02\n",
        "\n",
        "    def show_balance_with_interest(self):\n",
        "        return self.__balance + self.__calculate_interest()\n",
        "\n",
        "account = BankAccount(\"12345678\", 1000)\n",
        "print(account.deposit(500))\n",
        "# print(account.__balance)  # Raises AttributeError\n",
        "print(account.show_balance_with_interest())"
      ],
      "metadata": {
        "colab": {
          "base_uri": "https://localhost:8080/"
        },
        "id": "pxz6YRJ2uvk5",
        "outputId": "17540929-0035-4ec4-e1e9-c619e849f8a2"
      },
      "execution_count": 3,
      "outputs": [
        {
          "output_type": "stream",
          "name": "stdout",
          "text": [
            "1500\n",
            "1530.0\n"
          ]
        }
      ]
    },
    {
      "cell_type": "code",
      "source": [
        "class Person:\n",
        "    def __init__(self, name, age):\n",
        "        self.name = name\n",
        "        self.age = age\n",
        "\n",
        "    def eat(self):\n",
        "        print('eating meal')\n",
        "\n",
        "    def walk(self):\n",
        "        print('walking')\n",
        "\n",
        "    def __str__(self):\n",
        "        return f\"Person(name={self.name}, age={self.age})\"\n",
        "\n",
        "p1 = Person('john', 40)\n",
        "print(p1)\n",
        "p1.eat()\n",
        "p1.walk()"
      ],
      "metadata": {
        "colab": {
          "base_uri": "https://localhost:8080/"
        },
        "id": "1q7WcjaovH3i",
        "outputId": "8d388cba-ebee-4fe8-d5d0-156ce7ad0cf5"
      },
      "execution_count": 4,
      "outputs": [
        {
          "output_type": "stream",
          "name": "stdout",
          "text": [
            "Person(name=john, age=40)\n",
            "eating meal\n",
            "walking\n"
          ]
        }
      ]
    },
    {
      "cell_type": "markdown",
      "source": [
        "Extending Built-in types"
      ],
      "metadata": {
        "id": "1gR8fyNmvWN2"
      }
    },
    {
      "cell_type": "code",
      "source": [
        "class NumberList(list):\n",
        "    def __init__(self, *args):\n",
        "        for item in args:\n",
        "            if not isinstance(item, (int, float)):\n",
        "                raise ValueError\n",
        "        super().__init__(args)\n",
        "\n",
        "    def append(self, value):\n",
        "        if not isinstance(value, (int, float)):\n",
        "            raise ValueError('Can only append numeric types')\n",
        "        # list.append(self, value)\n",
        "        super().append(value)\n",
        "\n",
        "\n",
        "a = NumberList(1, 2, 3)\n",
        "a.append(4)\n",
        "a.insert(1, 'a')\n",
        "print(a)\n",
        "print(type(a))"
      ],
      "metadata": {
        "colab": {
          "base_uri": "https://localhost:8080/"
        },
        "id": "KxgeLbztvSaV",
        "outputId": "adfcb102-8d2d-4def-d27b-72f1e23cf3ba"
      },
      "execution_count": 5,
      "outputs": [
        {
          "output_type": "stream",
          "name": "stdout",
          "text": [
            "[1, 'a', 2, 3, 4]\n",
            "<class '__main__.NumberList'>\n"
          ]
        }
      ]
    },
    {
      "cell_type": "code",
      "source": [
        "class Person:\n",
        "    def __init__(self, name, age):\n",
        "        if not isinstance(name, str) or name == '':\n",
        "            raise ValueError(f\"name can not be {name!r}\")\n",
        "        self.name = name\n",
        "        if not isinstance(age, int) or age < 0:\n",
        "            raise ValueError(f\"age can not be {age!r}\")\n",
        "        self.age = age\n",
        "\n",
        "    def __str__(self):\n",
        "        return f\"Person(name={self.name!r}, age={self.age!r})\"\n",
        "\n",
        "p1 = Person(name='d', age=2)\n",
        "print(p1)\n",
        "p1.name = [1, 2, 3]\n",
        "print(p1)"
      ],
      "metadata": {
        "colab": {
          "base_uri": "https://localhost:8080/"
        },
        "id": "s43K1UhYvZ_7",
        "outputId": "47e7f1e6-3eff-4f8e-df3b-2d7c09d249da"
      },
      "execution_count": 6,
      "outputs": [
        {
          "output_type": "stream",
          "name": "stdout",
          "text": [
            "Person(name='d', age=2)\n",
            "Person(name=[1, 2, 3], age=2)\n"
          ]
        }
      ]
    },
    {
      "cell_type": "markdown",
      "source": [
        "Getter and Setter Approach"
      ],
      "metadata": {
        "id": "PPOex46FviSj"
      }
    },
    {
      "cell_type": "code",
      "source": [
        "class Person:\n",
        "    def __init__(self, name, age):\n",
        "        # self.set_name(name)\n",
        "        # self.set_age(age)\n",
        "        if not isinstance(name, str) or name == '':\n",
        "            raise ValueError(f\"name can not be {name!r}\")\n",
        "        self.__name = name\n",
        "\n",
        "        if not isinstance(age, int) or age < 0:\n",
        "            raise ValueError(f\"age can not be {age!r}\")\n",
        "        self.__age = age\n",
        "\n",
        "    def set_name(self, name):\n",
        "        if not isinstance(name, str) or name == '':\n",
        "            raise ValueError(f\"name can not be {name!r}\")\n",
        "        self.__name = name\n",
        "\n",
        "\n",
        "    def get_name(self):\n",
        "        return self.__name\n",
        "\n",
        "    def set_age(self, age):\n",
        "        if not isinstance(age, int) or age < 0:\n",
        "            raise ValueError(f\"age can not be {age!r}\")\n",
        "        self.__age = age\n",
        "\n",
        "    def get_age(self):\n",
        "        return self.__age\n",
        "\n",
        "    def __str__(self):\n",
        "        return f\"Person(name={self.__name!r}, age={self.__age!r})\"\n",
        "\n",
        "\n",
        "p1 = Person(name='John', age=2)\n",
        "p1.set_name('adam')\n",
        "p1.set_age(3)\n",
        "print(p1)\n",
        "p1.get_name()"
      ],
      "metadata": {
        "colab": {
          "base_uri": "https://localhost:8080/",
          "height": 53
        },
        "id": "1f4TaNgQvgMP",
        "outputId": "9c585104-0ca0-4742-9c0c-5deb83cc7135"
      },
      "execution_count": 7,
      "outputs": [
        {
          "output_type": "stream",
          "name": "stdout",
          "text": [
            "Person(name='adam', age=3)\n"
          ]
        },
        {
          "output_type": "execute_result",
          "data": {
            "text/plain": [
              "'adam'"
            ],
            "application/vnd.google.colaboratory.intrinsic+json": {
              "type": "string"
            }
          },
          "metadata": {},
          "execution_count": 7
        }
      ]
    },
    {
      "cell_type": "markdown",
      "source": [
        "Pythonic approach"
      ],
      "metadata": {
        "id": "mILKot80vshn"
      }
    },
    {
      "cell_type": "code",
      "source": [
        "class Person:\n",
        "    def __init__(self, name, age):\n",
        "        self.name = name\n",
        "        self.age = age\n",
        "\n",
        "    @property\n",
        "    def name(self):\n",
        "        print('calling getter')\n",
        "        return self.__name\n",
        "\n",
        "    @name.setter\n",
        "    def name(self, value):\n",
        "        print('calling setter')\n",
        "        if not isinstance(value, str) or value == '':\n",
        "            raise ValueError(f\"name can not be {value!r}\")\n",
        "        self.__name = value\n",
        "\n",
        "\n",
        "    @property\n",
        "    def age(self):\n",
        "        return self.__age\n",
        "\n",
        "\n",
        "    @age.setter\n",
        "    def age(self, age):\n",
        "        if not isinstance(age, int) or age < 0:\n",
        "            raise ValueError(f\"age can not be {age!r}\")\n",
        "        self.__age = age\n",
        "\n",
        "    def __str__(self):\n",
        "        return f\"Person(name={self.name!r}, age={self.age!r})\"\n",
        "\n",
        "\n",
        "p1 = Person(name='John', age=2)\n",
        "# print(p1)\n",
        "# p1.name = 5\n",
        "print(p1.name)\n",
        "p1._Person__name = -5\n",
        "print(p1)"
      ],
      "metadata": {
        "colab": {
          "base_uri": "https://localhost:8080/"
        },
        "id": "SVqUD9_zvl64",
        "outputId": "819bfd4b-f50d-477e-e67e-00b9a619199d"
      },
      "execution_count": 8,
      "outputs": [
        {
          "output_type": "stream",
          "name": "stdout",
          "text": [
            "calling setter\n",
            "calling getter\n",
            "John\n",
            "calling getter\n",
            "Person(name=-5, age=2)\n"
          ]
        }
      ]
    },
    {
      "cell_type": "code",
      "source": [
        "class Person:\n",
        "    def __init__(self, name, age):\n",
        "        self.name = name\n",
        "        self.age = age\n",
        "\n",
        "    def __str__(self):\n",
        "        type_of_obj = type(self)\n",
        "        name_of_obj = type_of_obj.__name__\n",
        "        return f\"{name_of_obj}(name={self.name}, age={self.age})\"\n",
        "\n",
        "    def __repr__(self):\n",
        "        type_of_obj = type(self)\n",
        "        name_of_obj = type_of_obj.__name__\n",
        "        return f\"{name_of_obj}(name={self.name}, age={self.age})\"\n",
        "\n",
        "\n",
        "p1 = Person('john', 40)\n",
        "print(p1)"
      ],
      "metadata": {
        "colab": {
          "base_uri": "https://localhost:8080/"
        },
        "id": "qGKhrXRZvwSz",
        "outputId": "848e0307-1457-4f1b-db04-4a4bc64629bb"
      },
      "execution_count": 9,
      "outputs": [
        {
          "output_type": "stream",
          "name": "stdout",
          "text": [
            "Person(name=john, age=40)\n"
          ]
        }
      ]
    },
    {
      "cell_type": "code",
      "source": [],
      "metadata": {
        "id": "ETLzxywUv2JS"
      },
      "execution_count": null,
      "outputs": []
    }
  ]
}