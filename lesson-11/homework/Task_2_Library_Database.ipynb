{
  "nbformat": 4,
  "nbformat_minor": 0,
  "metadata": {
    "colab": {
      "provenance": []
    },
    "kernelspec": {
      "name": "python3",
      "display_name": "Python 3"
    },
    "language_info": {
      "name": "python"
    }
  },
  "cells": [
    {
      "cell_type": "code",
      "execution_count": 6,
      "metadata": {
        "colab": {
          "base_uri": "https://localhost:8080/"
        },
        "id": "U3ptFuUXh4YY",
        "outputId": "2f40d70d-eb6a-48f3-da3f-380e654787ad"
      },
      "outputs": [
        {
          "output_type": "stream",
          "name": "stdout",
          "text": [
            "Dystopian books:\n",
            "Title: 1984, Author: George Orwell\n",
            "\n",
            "Books sorted by publication year (ascending):\n",
            "('1984', 'George Orwell', 1950, 'Dystopian', 4.7)\n",
            "('To Kill a Mockingbird', 'Harper Lee', 1960, 'Fiction', 4.8)\n"
          ]
        }
      ],
      "source": [
        "import sqlite3\n",
        "\n",
        "conn = sqlite3.connect('library.db')\n",
        "cursor = conn.cursor()\n",
        "cursor.execute('''CREATE TABLE IF NOT EXISTS Books\n",
        "                  (Title TEXT, Author TEXT, Year_Published INTEGER, Genre TEXT)''')\n",
        "\n",
        "books_data = [\n",
        "    ('To Kill a Mockingbird', 'Harper Lee', 1960, 'Fiction'),\n",
        "    ('1984', 'George Orwell', 1949, 'Dystopian'),\n",
        "    ('The Great Gatsby', 'F. Scott Fitzgerald', 1925, 'Classic')\n",
        "]\n",
        "cursor.executemany('INSERT INTO Books VALUES (?, ?, ?, ?)', books_data)\n",
        "\n",
        "# Update 1984 publication year\n",
        "cursor.execute('UPDATE Books SET Year_Published = 1950 WHERE Title = \"1984\"')\n",
        "\n",
        "# Query Dystopian books\n",
        "print(\"Dystopian books:\")\n",
        "cursor.execute('SELECT Title, Author FROM Books WHERE Genre = \"Dystopian\"')\n",
        "for row in cursor.fetchall():\n",
        "    print(f\"Title: {row[0]}, Author: {row[1]}\")\n",
        "\n",
        "# Delete books published before 1950\n",
        "cursor.execute('DELETE FROM Books WHERE Year_Published < 1950')\n",
        "\n",
        "# Bonus: Add Rating column and update data\n",
        "cursor.execute('ALTER TABLE Books ADD COLUMN Rating REAL')\n",
        "rating_updates = [\n",
        "    (4.8, 'To Kill a Mockingbird'),\n",
        "    (4.7, '1984'),\n",
        "    (4.5, 'The Great Gatsby')\n",
        "]\n",
        "for rating, title in rating_updates:\n",
        "    cursor.execute('UPDATE Books SET Rating = ? WHERE Title = ?', (rating, title))\n",
        "\n",
        "# Advanced query: Sort by publication year ascending\n",
        "print(\"\\nBooks sorted by publication year (ascending):\")\n",
        "cursor.execute('SELECT * FROM Books ORDER BY Year_Published ASC')\n",
        "for row in cursor.fetchall():\n",
        "    print(row)\n",
        "\n",
        "conn.commit()\n",
        "conn.close()"
      ]
    },
    {
      "cell_type": "code",
      "source": [],
      "metadata": {
        "id": "3GsGXdeEmbmc"
      },
      "execution_count": null,
      "outputs": []
    }
  ]
}