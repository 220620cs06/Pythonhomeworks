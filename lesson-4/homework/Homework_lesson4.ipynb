{
  "nbformat": 4,
  "nbformat_minor": 0,
  "metadata": {
    "colab": {
      "provenance": []
    },
    "kernelspec": {
      "name": "python3",
      "display_name": "Python 3"
    },
    "language_info": {
      "name": "python"
    }
  },
  "cells": [
    {
      "cell_type": "markdown",
      "source": [
        "Task1"
      ],
      "metadata": {
        "id": "u_EUqNS1Qj-7"
      }
    },
    {
      "cell_type": "code",
      "execution_count": 2,
      "metadata": {
        "colab": {
          "base_uri": "https://localhost:8080/"
        },
        "id": "yLkbHHhSMr-M",
        "outputId": "e6b6e7f0-8a85-4e0d-9637-372d25e8bcf1"
      },
      "outputs": [
        {
          "output_type": "stream",
          "name": "stdout",
          "text": [
            "[1, 1, 3, 4]\n"
          ]
        }
      ],
      "source": [
        "from collections import defaultdict\n",
        "list1 = [1, 1, 2]\n",
        "list2 = [2, 3, 4]\n",
        "\n",
        "combined = list1 + list2\n",
        "result = []\n",
        "\n",
        "for num in combined:\n",
        "    if (num in list1 and num not in list2) or (num in list1 and list1.count(num) > list2.count(num)):\n",
        "        result.append(num)\n",
        "    elif (num in list2 and num not in list1) or (num in list2 and list2.count(num) > list1.count(num)):\n",
        "        result.append(num)\n",
        "\n",
        "print(result)"
      ]
    },
    {
      "cell_type": "markdown",
      "source": [
        "Task2"
      ],
      "metadata": {
        "id": "VJ4Z1GTERKaS"
      }
    },
    {
      "cell_type": "code",
      "source": [
        "n=int(input(\"Enter a number: \"))\n",
        "i=1\n",
        "while(i<n):\n",
        "  print(i**2)\n",
        "  i+=1\n"
      ],
      "metadata": {
        "colab": {
          "base_uri": "https://localhost:8080/"
        },
        "id": "2TdHm_dMQiKn",
        "outputId": "956344d8-06e2-422f-c26a-dbd2aa5103d0"
      },
      "execution_count": 4,
      "outputs": [
        {
          "output_type": "stream",
          "name": "stdout",
          "text": [
            "Enter a number: 5\n",
            "1\n",
            "4\n",
            "9\n",
            "16\n"
          ]
        }
      ]
    },
    {
      "cell_type": "markdown",
      "source": [
        "Task3"
      ],
      "metadata": {
        "id": "6fXvFXmWSFW3"
      }
    },
    {
      "cell_type": "code",
      "source": [
        "txt = \"hello\"\n",
        "vowels = {'a', 'e', 'i', 'o', 'u'}\n",
        "result = []\n",
        "count = 0\n",
        "\n",
        "for i, char in enumerate(txt):\n",
        "    result.append(char)\n",
        "    count += 1\n",
        "    if count % 3 == 0 and i != len(txt)-1:\n",
        "        if char.lower() in vowels or (i+1 < len(txt) and txt[i+1].lower() in vowels):\n",
        "            continue\n",
        "        else:\n",
        "            result.append('_')\n",
        "\n",
        "print(''.join(result))"
      ],
      "metadata": {
        "colab": {
          "base_uri": "https://localhost:8080/"
        },
        "id": "0o1nG81fR35X",
        "outputId": "f8eb9f3d-7c34-4444-ef40-96a462b48601"
      },
      "execution_count": 5,
      "outputs": [
        {
          "output_type": "stream",
          "name": "stdout",
          "text": [
            "hel_lo\n"
          ]
        }
      ]
    },
    {
      "cell_type": "markdown",
      "source": [
        "Task4"
      ],
      "metadata": {
        "id": "jnzeGzPQS4Zr"
      }
    },
    {
      "cell_type": "code",
      "source": [
        "import random\n",
        "\n",
        "number = random.randint(1, 100)\n",
        "attempts = 10\n",
        "\n",
        "while attempts > 0:\n",
        "    guess = int(input(\"Guess (1-100): \"))\n",
        "\n",
        "    if guess == number:\n",
        "        print(\"You guessed it!\")\n",
        "        break\n",
        "    elif guess > number:\n",
        "        print(\"Too high!\")\n",
        "    else:\n",
        "        print(\"Too low!\")\n",
        "\n",
        "    attempts -= 1\n",
        "    print(f\"{attempts} tries left\")\n",
        "\n",
        "if attempts == 0:\n",
        "    print(f\"You lost. Number was {number}\")"
      ],
      "metadata": {
        "colab": {
          "base_uri": "https://localhost:8080/"
        },
        "id": "5eYM_jV8S2mu",
        "outputId": "0412bb88-4aca-421d-a829-0556b2c76697"
      },
      "execution_count": 7,
      "outputs": [
        {
          "output_type": "stream",
          "name": "stdout",
          "text": [
            "Guess (1-100): 50\n",
            "Too low!\n",
            "9 tries left\n",
            "Guess (1-100): 80\n",
            "Too high!\n",
            "8 tries left\n",
            "Guess (1-100): 60\n",
            "Too low!\n",
            "7 tries left\n",
            "Guess (1-100): 70\n",
            "Too high!\n",
            "6 tries left\n",
            "Guess (1-100): 65\n",
            "You guessed it!\n"
          ]
        }
      ]
    },
    {
      "cell_type": "markdown",
      "source": [
        "Task5"
      ],
      "metadata": {
        "id": "vSYfVcNRTlVV"
      }
    },
    {
      "cell_type": "code",
      "source": [
        "input1=input(\"Enter the password \")\n",
        "\n",
        "if len(input1)<8:\n",
        "  print(\"Password is too short\")\n",
        "elif not any(c.isupper() for c in input1):\n",
        "    print(\"Needs uppercase\")\n",
        "else:\n",
        "    print(\"Strong password\")\n"
      ],
      "metadata": {
        "colab": {
          "base_uri": "https://localhost:8080/"
        },
        "id": "EXLNciVgTJv0",
        "outputId": "d0510482-270a-4429-99e5-af3c973c820a"
      },
      "execution_count": 10,
      "outputs": [
        {
          "output_type": "stream",
          "name": "stdout",
          "text": [
            "Enter the password Ss2222222222\n",
            "Strong password\n"
          ]
        }
      ]
    },
    {
      "cell_type": "code",
      "source": [
        "for num in range(2, 101):\n",
        "    prime = True\n",
        "    for i in range(2, num):\n",
        "        if num % i == 0:\n",
        "            prime = False\n",
        "            break\n",
        "    if prime:\n",
        "        print(num)"
      ],
      "metadata": {
        "colab": {
          "base_uri": "https://localhost:8080/"
        },
        "id": "rA0waeXpURfo",
        "outputId": "0570f8b0-3242-42f1-eb3c-bdbd2dbf436a"
      },
      "execution_count": 11,
      "outputs": [
        {
          "output_type": "stream",
          "name": "stdout",
          "text": [
            "2\n",
            "3\n",
            "5\n",
            "7\n",
            "11\n",
            "13\n",
            "17\n",
            "19\n",
            "23\n",
            "29\n",
            "31\n",
            "37\n",
            "41\n",
            "43\n",
            "47\n",
            "53\n",
            "59\n",
            "61\n",
            "67\n",
            "71\n",
            "73\n",
            "79\n",
            "83\n",
            "89\n",
            "97\n"
          ]
        }
      ]
    },
    {
      "cell_type": "markdown",
      "source": [
        "Bonus Challenge"
      ],
      "metadata": {
        "id": "qOypQhQAUrsk"
      }
    },
    {
      "cell_type": "code",
      "source": [
        "import random\n",
        "\n",
        "options = ['rock', 'paper', 'scissors']\n",
        "p_sc = 0\n",
        "c_sc = 0\n",
        "\n",
        "while p_sc < 5 and c_sc < 5:\n",
        "    player1 = input(\"rock, paper, scissors: \").lower()\n",
        "    comp = random.choice(options)\n",
        "\n",
        "    print(f\"Computer chose {comp}\")\n",
        "\n",
        "    if player1 == comp:\n",
        "        print(\"Tie!\")\n",
        "    elif (player1 == 'rock' and comp == 'scissors') or (player1 == 'paper' and comp == 'rock') or (player1 == 'scissors' and comp == 'paper'):\n",
        "        p_sc += 1\n",
        "        print(\"You win!\")\n",
        "    else:\n",
        "        c_sc += 1\n",
        "        print(\"Computer wins!\")\n",
        "\n",
        "    print(f\"Score: You {p_sc} - Computer {c_sc}\")\n",
        "\n",
        "if p_sc == 5:\n",
        "    print(\"You won the match!\")\n",
        "else:\n",
        "    print(\"Computer won the match!\")"
      ],
      "metadata": {
        "colab": {
          "base_uri": "https://localhost:8080/"
        },
        "id": "JNHz8NGhUgfR",
        "outputId": "30b1cef2-1f94-486a-d791-932e3ce7e406"
      },
      "execution_count": 13,
      "outputs": [
        {
          "output_type": "stream",
          "name": "stdout",
          "text": [
            "rock, paper, scissors: e\n",
            "Computer chose rock\n",
            "Computer wins!\n",
            "Score: You 0 - Computer 1\n",
            "rock, paper, scissors: \n",
            "Computer chose paper\n",
            "Computer wins!\n",
            "Score: You 0 - Computer 2\n",
            "rock, paper, scissors: \n",
            "Computer chose scissors\n",
            "Computer wins!\n",
            "Score: You 0 - Computer 3\n",
            "rock, paper, scissors: s\n",
            "Computer chose rock\n",
            "Computer wins!\n",
            "Score: You 0 - Computer 4\n",
            "rock, paper, scissors: s\n",
            "Computer chose scissors\n",
            "Computer wins!\n",
            "Score: You 0 - Computer 5\n",
            "Computer won the match!\n"
          ]
        }
      ]
    },
    {
      "cell_type": "markdown",
      "source": [],
      "metadata": {
        "id": "XtOcfMHhWKOm"
      }
    },
    {
      "cell_type": "markdown",
      "source": [],
      "metadata": {
        "id": "Vnm-VNaWWKA4"
      }
    },
    {
      "cell_type": "code",
      "source": [],
      "metadata": {
        "id": "ZUHnrz41VxfG"
      },
      "execution_count": null,
      "outputs": []
    }
  ]
}