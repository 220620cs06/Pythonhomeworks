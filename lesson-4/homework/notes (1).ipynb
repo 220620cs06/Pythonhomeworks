{
  "nbformat": 4,
  "nbformat_minor": 0,
  "metadata": {
    "colab": {
      "provenance": []
    },
    "kernelspec": {
      "name": "python3",
      "display_name": "Python 3"
    },
    "language_info": {
      "name": "python"
    }
  },
  "cells": [
    {
      "cell_type": "markdown",
      "source": [
        "If/else statement\n"
      ],
      "metadata": {
        "id": "9Fj7Yo_L1snT"
      }
    },
    {
      "cell_type": "code",
      "source": [
        "# conditions\n",
        "\n",
        "age=0\n",
        "\n",
        "if age > 0:\n",
        "  print(\"Noooo\")\n",
        "else:\n",
        "  print(\"Yes\")"
      ],
      "metadata": {
        "colab": {
          "base_uri": "https://localhost:8080/"
        },
        "id": "dnYcqTnZ10J6",
        "outputId": "d8e07c42-12c3-4b14-f899-5c5faf28bff0"
      },
      "execution_count": null,
      "outputs": [
        {
          "output_type": "stream",
          "name": "stdout",
          "text": [
            "Yes\n"
          ]
        }
      ]
    },
    {
      "cell_type": "code",
      "source": [
        "age==0"
      ],
      "metadata": {
        "colab": {
          "base_uri": "https://localhost:8080/"
        },
        "id": "N9macAMPLGTN",
        "outputId": "a27b048b-72ba-4c3c-a599-297c3316e104"
      },
      "execution_count": null,
      "outputs": [
        {
          "output_type": "execute_result",
          "data": {
            "text/plain": [
              "True"
            ]
          },
          "metadata": {},
          "execution_count": 4
        }
      ]
    },
    {
      "cell_type": "code",
      "source": [
        "if age:\n",
        "  print(\"Please vote\")\n",
        "else:\n",
        "  print(\"You are not eligible\")"
      ],
      "metadata": {
        "colab": {
          "base_uri": "https://localhost:8080/"
        },
        "id": "3PE1WumeLmfK",
        "outputId": "17210e09-62c3-4a76-90ac-fcf5afb4b288"
      },
      "execution_count": null,
      "outputs": [
        {
          "output_type": "stream",
          "name": "stdout",
          "text": [
            "You are not eligible\n"
          ]
        }
      ]
    },
    {
      "cell_type": "markdown",
      "source": [
        "  >\n",
        "    <\n",
        "    ==\n",
        "    >=\n",
        "    <=\n",
        "    !="
      ],
      "metadata": {
        "id": "To-jCinoMPGD"
      }
    },
    {
      "cell_type": "code",
      "source": [
        "aunth=False\n",
        "\n",
        "if aunth:\n",
        "    pass\n",
        "\n",
        "print(\"Other stuff\")"
      ],
      "metadata": {
        "colab": {
          "base_uri": "https://localhost:8080/"
        },
        "id": "XgwK9gxqL4W2",
        "outputId": "eb9e55e5-ea34-4c7e-ff7e-b62aa7e9c28b"
      },
      "execution_count": null,
      "outputs": [
        {
          "output_type": "stream",
          "name": "stdout",
          "text": [
            "Other stuff\n"
          ]
        }
      ]
    },
    {
      "cell_type": "code",
      "source": [
        "a = 0\n",
        "print(bool(a))\n",
        "\n",
        "if a:\n",
        "    print('Truthy')\n",
        "else:\n",
        "    print(\"Falthy\")"
      ],
      "metadata": {
        "colab": {
          "base_uri": "https://localhost:8080/"
        },
        "id": "Kv0Jo5mqMpKU",
        "outputId": "ab3f1ccd-3071-4562-a59b-6e3e44e25164"
      },
      "execution_count": null,
      "outputs": [
        {
          "output_type": "stream",
          "name": "stdout",
          "text": [
            "False\n",
            "Falthy\n"
          ]
        }
      ]
    },
    {
      "cell_type": "code",
      "source": [
        "a = 0\n",
        "print(bool(a))\n",
        "\n",
        "if a is not None:\n",
        "    print('Truthy')\n",
        "else:\n",
        "    print(\"Falthy\")"
      ],
      "metadata": {
        "colab": {
          "base_uri": "https://localhost:8080/"
        },
        "id": "HvPVnq40OSqZ",
        "outputId": "07df9489-5606-4159-9857-0c4f3d7a06f4"
      },
      "execution_count": null,
      "outputs": [
        {
          "output_type": "stream",
          "name": "stdout",
          "text": [
            "False\n",
            "Truthy\n"
          ]
        }
      ]
    },
    {
      "cell_type": "code",
      "source": [
        "'' == None\n",
        "'' is None"
      ],
      "metadata": {
        "colab": {
          "base_uri": "https://localhost:8080/"
        },
        "id": "y33FtJdlOg6o",
        "outputId": "647e0d69-6b21-4c1d-d615-586dc3ea0fbe"
      },
      "execution_count": null,
      "outputs": [
        {
          "output_type": "stream",
          "name": "stderr",
          "text": [
            "<>:2: SyntaxWarning: \"is\" with a literal. Did you mean \"==\"?\n",
            "<>:2: SyntaxWarning: \"is\" with a literal. Did you mean \"==\"?\n",
            "<ipython-input-10-88496bb6bf83>:2: SyntaxWarning: \"is\" with a literal. Did you mean \"==\"?\n",
            "  '' is None\n"
          ]
        },
        {
          "output_type": "execute_result",
          "data": {
            "text/plain": [
              "False"
            ]
          },
          "metadata": {},
          "execution_count": 10
        }
      ]
    },
    {
      "cell_type": "code",
      "source": [
        "0 == None\n",
        "\n",
        "0 is None"
      ],
      "metadata": {
        "colab": {
          "base_uri": "https://localhost:8080/"
        },
        "id": "FcRMAOADOogV",
        "outputId": "318d1dcb-4642-4d4a-cfa9-b8d40be87ac3"
      },
      "execution_count": null,
      "outputs": [
        {
          "output_type": "stream",
          "name": "stderr",
          "text": [
            "<>:3: SyntaxWarning: \"is\" with a literal. Did you mean \"==\"?\n",
            "<>:3: SyntaxWarning: \"is\" with a literal. Did you mean \"==\"?\n",
            "<ipython-input-12-ededa82368c1>:3: SyntaxWarning: \"is\" with a literal. Did you mean \"==\"?\n",
            "  0 is None\n"
          ]
        },
        {
          "output_type": "execute_result",
          "data": {
            "text/plain": [
              "False"
            ]
          },
          "metadata": {},
          "execution_count": 12
        }
      ]
    },
    {
      "cell_type": "code",
      "source": [
        "a = [1, 2, 3]\n",
        "b = [1, 2, 3]\n",
        "c = a # reference assignment\n",
        "\n",
        "print(a == b)\n",
        "\n",
        "print(\"ID a:\", id(a))\n",
        "print(\"ID b:\", id(b))\n",
        "print(\"ID c:\", id(c))"
      ],
      "metadata": {
        "colab": {
          "base_uri": "https://localhost:8080/"
        },
        "id": "_BX_mIx9UzAm",
        "outputId": "f18d920d-d2ba-4ca6-aafd-219c19d2d15c"
      },
      "execution_count": null,
      "outputs": [
        {
          "output_type": "stream",
          "name": "stdout",
          "text": [
            "True\n",
            "ID a: 136866052990208\n",
            "ID b: 136865714559296\n",
            "ID c: 136866052990208\n"
          ]
        }
      ]
    },
    {
      "cell_type": "code",
      "source": [
        "print(a is b)\n",
        "\n",
        "print(a is c)"
      ],
      "metadata": {
        "colab": {
          "base_uri": "https://localhost:8080/"
        },
        "id": "QST034HYXPKF",
        "outputId": "f442c280-289c-49c1-82e7-2219d977d336"
      },
      "execution_count": null,
      "outputs": [
        {
          "output_type": "stream",
          "name": "stdout",
          "text": [
            "False\n",
            "True\n"
          ]
        }
      ]
    },
    {
      "cell_type": "code",
      "source": [
        "x = 5\n",
        "y = 5\n",
        "\n",
        "print(\"ID x:\", id(x))\n",
        "print(\"ID y:\", id(y))\n",
        "\n",
        "print(x is y)"
      ],
      "metadata": {
        "colab": {
          "base_uri": "https://localhost:8080/"
        },
        "id": "Dmmm7zZAXUpv",
        "outputId": "97f780bb-2b0a-4b63-9912-3a2d7d288c33"
      },
      "execution_count": null,
      "outputs": [
        {
          "output_type": "stream",
          "name": "stdout",
          "text": [
            "ID x: 10750984\n",
            "ID y: 10750984\n",
            "True\n"
          ]
        }
      ]
    },
    {
      "cell_type": "code",
      "source": [
        "age=20\n",
        "car='Malibu xl'\n",
        "\n",
        "if age>18 and car in ['Malibu xl', 'Tracker']:\n",
        "  print(\"You are eligible\")\n",
        "else:\n",
        "  print(\"You are not eligible\")"
      ],
      "metadata": {
        "colab": {
          "base_uri": "https://localhost:8080/"
        },
        "id": "P63fIBwMXeof",
        "outputId": "3dcff1a1-e805-4009-8d0f-4e68aecc94ad"
      },
      "execution_count": null,
      "outputs": [
        {
          "output_type": "stream",
          "name": "stdout",
          "text": [
            "You are eligible\n"
          ]
        }
      ]
    },
    {
      "cell_type": "code",
      "source": [
        "age = 200\n",
        "\n",
        "if age < 0:\n",
        "    print(\"Incorrect number for age. Age must be positive.\")\n",
        "elif age < 18:\n",
        "    print(\"You can not vote\")\n",
        "elif age < 150:\n",
        "    print(\"You can vote\")\n",
        "else:\n",
        "    print(\"Incorrect number for age. Humans can not live that long.\")"
      ],
      "metadata": {
        "colab": {
          "base_uri": "https://localhost:8080/"
        },
        "id": "NkFvrTfXX9xR",
        "outputId": "e09d6113-a7e2-44e5-efb0-4439a8c2bd7f"
      },
      "execution_count": null,
      "outputs": [
        {
          "output_type": "stream",
          "name": "stdout",
          "text": [
            "Incorrect number for age. Humans can not live that long.\n"
          ]
        }
      ]
    },
    {
      "cell_type": "code",
      "source": [
        "age=20\n",
        "\n",
        "if age:print('True');print('Age is not zero')"
      ],
      "metadata": {
        "colab": {
          "base_uri": "https://localhost:8080/"
        },
        "id": "4oSWNwq6YKbC",
        "outputId": "211cd7da-c102-49ef-b280-065bbc522885"
      },
      "execution_count": null,
      "outputs": [
        {
          "output_type": "stream",
          "name": "stdout",
          "text": [
            "True\n",
            "Age is not zero\n"
          ]
        }
      ]
    },
    {
      "cell_type": "code",
      "source": [
        "display(1)"
      ],
      "metadata": {
        "colab": {
          "base_uri": "https://localhost:8080/",
          "height": 34
        },
        "id": "ZCSF0FBYYhut",
        "outputId": "e07f4a69-5b94-4c85-ede6-382e1d9ae008"
      },
      "execution_count": null,
      "outputs": [
        {
          "output_type": "display_data",
          "data": {
            "text/plain": [
              "1"
            ]
          },
          "metadata": {}
        }
      ]
    },
    {
      "cell_type": "markdown",
      "source": [
        "**LOOPS**"
      ],
      "metadata": {
        "id": "TS9bBihNa-k_"
      }
    },
    {
      "cell_type": "code",
      "source": [
        "n=10\n",
        "\n",
        "while n>0:\n",
        "  print(n)\n",
        "  n-=1\n"
      ],
      "metadata": {
        "colab": {
          "base_uri": "https://localhost:8080/"
        },
        "id": "jiyewx99Ypt2",
        "outputId": "21aa0026-f88a-40d7-a7de-5c2671d7e364"
      },
      "execution_count": null,
      "outputs": [
        {
          "output_type": "stream",
          "name": "stdout",
          "text": [
            "10\n",
            "9\n",
            "8\n",
            "7\n",
            "6\n",
            "5\n",
            "4\n",
            "3\n",
            "2\n",
            "1\n"
          ]
        }
      ]
    },
    {
      "cell_type": "code",
      "source": [
        "while True:\n",
        "    print(\"Still running\")\n",
        "    break"
      ],
      "metadata": {
        "colab": {
          "base_uri": "https://localhost:8080/"
        },
        "id": "fR45qZIfbXF3",
        "outputId": "90066559-3a28-4aac-8383-5a387be01677"
      },
      "execution_count": null,
      "outputs": [
        {
          "output_type": "stream",
          "name": "stdout",
          "text": [
            "Still running\n"
          ]
        }
      ]
    },
    {
      "cell_type": "code",
      "source": [
        "count=1\n",
        "\n",
        "while True:\n",
        "  print(\"Count \",count)\n",
        "  count+=1\n",
        "  if count>10:\n",
        "    break"
      ],
      "metadata": {
        "colab": {
          "base_uri": "https://localhost:8080/"
        },
        "id": "_8i640jQbe4d",
        "outputId": "d471ddf9-2dc3-4a8d-ebbf-f5a5cacd1e82"
      },
      "execution_count": null,
      "outputs": [
        {
          "output_type": "stream",
          "name": "stdout",
          "text": [
            "Count  1\n",
            "Count  2\n",
            "Count  3\n",
            "Count  4\n",
            "Count  5\n",
            "Count  6\n",
            "Count  7\n",
            "Count  8\n",
            "Count  9\n",
            "Count  10\n"
          ]
        }
      ]
    },
    {
      "cell_type": "code",
      "source": [
        "cnt = 1\n",
        "\n",
        "while cnt < 10:\n",
        "    cnt += 1\n",
        "    if cnt in (3,6,9):\n",
        "      continue\n",
        "    print(\"Count is\", cnt)"
      ],
      "metadata": {
        "colab": {
          "base_uri": "https://localhost:8080/"
        },
        "id": "i5gt1AoQbxIO",
        "outputId": "8e3aa55f-f1c0-438d-dca7-fbe602b08b55"
      },
      "execution_count": null,
      "outputs": [
        {
          "output_type": "stream",
          "name": "stdout",
          "text": [
            "Count is 2\n",
            "Count is 4\n",
            "Count is 5\n",
            "Count is 7\n",
            "Count is 8\n",
            "Count is 10\n"
          ]
        }
      ]
    },
    {
      "cell_type": "markdown",
      "source": [
        "While/else"
      ],
      "metadata": {
        "id": "oZAi5Yj4d5OR"
      }
    },
    {
      "cell_type": "code",
      "source": [
        "l = [1, 2, 3]\n",
        "i = 0\n",
        "check_number = 6\n",
        "\n",
        "i_list = []\n",
        "while i < len(l):\n",
        "    i_list.append(i)\n",
        "    if l[i] == check_number:\n",
        "        print(\"Found\")\n",
        "        break\n",
        "    i += 1\n",
        "else:\n",
        "    print(\"Number not found\")\n",
        "\n",
        "print(i_list)"
      ],
      "metadata": {
        "id": "i9y906YQczgF",
        "colab": {
          "base_uri": "https://localhost:8080/"
        },
        "outputId": "fa2c2c26-2bd2-40c7-b506-a66530f0ddce"
      },
      "execution_count": 1,
      "outputs": [
        {
          "output_type": "stream",
          "name": "stdout",
          "text": [
            "Number not found\n",
            "[0, 1, 2]\n"
          ]
        }
      ]
    },
    {
      "cell_type": "code",
      "source": [
        "list1=[3,4,2,11,4]\n",
        "other_list=[]\n",
        "\n",
        "for i in list1:\n",
        "  other_list.append(i**2)\n",
        "  # print(other_list)\n",
        "print(other_list)"
      ],
      "metadata": {
        "colab": {
          "base_uri": "https://localhost:8080/"
        },
        "id": "CvZeRQkYGiWV",
        "outputId": "0a6bbafe-661e-4cbf-b780-9d6d82157f53"
      },
      "execution_count": 5,
      "outputs": [
        {
          "output_type": "stream",
          "name": "stdout",
          "text": [
            "[9, 16, 4, 121, 16]\n"
          ]
        }
      ]
    },
    {
      "cell_type": "code",
      "source": [
        "users = {'user1': 'John', 'user2': 'Adam', 'user3': 'Josh'}\n",
        "\n",
        "for i in users:\n",
        "    print(i, users[i])"
      ],
      "metadata": {
        "colab": {
          "base_uri": "https://localhost:8080/"
        },
        "id": "ok-CK0vlHJ23",
        "outputId": "25fd343f-8bf8-4f67-a550-832bc0f0d591"
      },
      "execution_count": 7,
      "outputs": [
        {
          "output_type": "stream",
          "name": "stdout",
          "text": [
            "user1 John\n",
            "user2 Adam\n",
            "user3 Josh\n"
          ]
        }
      ]
    },
    {
      "cell_type": "code",
      "source": [
        "users.keys()\n",
        "\n",
        "users.values()\n",
        "\n",
        "users.items()"
      ],
      "metadata": {
        "colab": {
          "base_uri": "https://localhost:8080/"
        },
        "id": "jo38H5MaHk0z",
        "outputId": "c1317061-c0e8-4157-b216-c0828f1e2f82"
      },
      "execution_count": 8,
      "outputs": [
        {
          "output_type": "execute_result",
          "data": {
            "text/plain": [
              "dict_items([('user1', 'John'), ('user2', 'Adam'), ('user3', 'Josh')])"
            ]
          },
          "metadata": {},
          "execution_count": 8
        }
      ]
    },
    {
      "cell_type": "code",
      "source": [
        "users = {'user1': 'John', 'user2': 'Adam', 'user3': 'Josh'}\n",
        "\n",
        "for user in users.values():\n",
        "    print(user)"
      ],
      "metadata": {
        "colab": {
          "base_uri": "https://localhost:8080/"
        },
        "id": "LihgCOwvH4eQ",
        "outputId": "1dca95b1-7378-47bd-b007-41fb006fec61"
      },
      "execution_count": 9,
      "outputs": [
        {
          "output_type": "stream",
          "name": "stdout",
          "text": [
            "John\n",
            "Adam\n",
            "Josh\n"
          ]
        }
      ]
    },
    {
      "cell_type": "code",
      "source": [
        "users = {'user1': 'John', 'user2': 'Adam', 'user3': 'Josh'}\n",
        "\n",
        "for user in users.keys():\n",
        "    print(user)"
      ],
      "metadata": {
        "colab": {
          "base_uri": "https://localhost:8080/"
        },
        "id": "ewU9HBDZH_pc",
        "outputId": "0b069d6a-af98-4be6-f0fb-bcb42e50f77c"
      },
      "execution_count": 10,
      "outputs": [
        {
          "output_type": "stream",
          "name": "stdout",
          "text": [
            "user1\n",
            "user2\n",
            "user3\n"
          ]
        }
      ]
    },
    {
      "cell_type": "code",
      "source": [
        "for key, value in users.items():\n",
        "    print(key, value)"
      ],
      "metadata": {
        "colab": {
          "base_uri": "https://localhost:8080/"
        },
        "id": "bkCHZyMpIEk9",
        "outputId": "dcd7a713-8357-4957-bb9a-f8ec88457647"
      },
      "execution_count": 11,
      "outputs": [
        {
          "output_type": "stream",
          "name": "stdout",
          "text": [
            "user1 John\n",
            "user2 Adam\n",
            "user3 Josh\n"
          ]
        }
      ]
    },
    {
      "cell_type": "code",
      "source": [
        "users = [('user1', 'John'), ('user2', 'Adam'), ('user3', 'Josh')] # List of tuples\n",
        "\n",
        "for user in users:\n",
        "    print(user)"
      ],
      "metadata": {
        "colab": {
          "base_uri": "https://localhost:8080/"
        },
        "id": "NamnYI1dILOV",
        "outputId": "cece1a7f-61f8-4373-e411-d329f6ee32b7"
      },
      "execution_count": 12,
      "outputs": [
        {
          "output_type": "stream",
          "name": "stdout",
          "text": [
            "('user1', 'John')\n",
            "('user2', 'Adam')\n",
            "('user3', 'Josh')\n"
          ]
        }
      ]
    },
    {
      "cell_type": "code",
      "source": [
        "users = [('user1', 'John'), ('user2', 'Adam'), ('user3', 'Josh')] # List of tuples\n",
        "\n",
        "for key, user in users:\n",
        "    print(key)\n",
        "\n",
        "a, b = ('user1', 'John')\n",
        "print(a)\n",
        "print(b)"
      ],
      "metadata": {
        "colab": {
          "base_uri": "https://localhost:8080/"
        },
        "id": "ivZCs8RAIdG2",
        "outputId": "8d88ec1b-b2c2-4d9b-fd55-87ffea3e1f97"
      },
      "execution_count": 13,
      "outputs": [
        {
          "output_type": "stream",
          "name": "stdout",
          "text": [
            "user1\n",
            "user2\n",
            "user3\n",
            "user1\n",
            "John\n"
          ]
        }
      ]
    },
    {
      "cell_type": "markdown",
      "source": [
        "print\n",
        "id\n",
        "type\n",
        "len\n",
        "round\n",
        "pow\n",
        "min\n",
        "max\n",
        "divmod\n",
        "sum\n",
        "range"
      ],
      "metadata": {
        "id": "RSK-gvrvJDCI"
      }
    },
    {
      "cell_type": "code",
      "source": [
        "range(5)"
      ],
      "metadata": {
        "colab": {
          "base_uri": "https://localhost:8080/"
        },
        "id": "OtHKyQWSI8dq",
        "outputId": "4b29b0ab-fb98-46fe-c84e-8e6f6695b525"
      },
      "execution_count": 14,
      "outputs": [
        {
          "output_type": "execute_result",
          "data": {
            "text/plain": [
              "range(0, 5)"
            ]
          },
          "metadata": {},
          "execution_count": 14
        }
      ]
    },
    {
      "cell_type": "code",
      "source": [
        "for i in range(5, 10):\n",
        "    print(i)"
      ],
      "metadata": {
        "colab": {
          "base_uri": "https://localhost:8080/"
        },
        "id": "lrauUrQAJWbq",
        "outputId": "3e3522ea-6948-4be0-f8aa-6d5ce0297968"
      },
      "execution_count": 15,
      "outputs": [
        {
          "output_type": "stream",
          "name": "stdout",
          "text": [
            "5\n",
            "6\n",
            "7\n",
            "8\n",
            "9\n"
          ]
        }
      ]
    },
    {
      "cell_type": "code",
      "source": [
        "for i in range(50, 100, 10):\n",
        "    print(i)"
      ],
      "metadata": {
        "colab": {
          "base_uri": "https://localhost:8080/"
        },
        "id": "pYqDd3RgJmxN",
        "outputId": "b3f853f2-603d-4a52-da7e-a5fe72fc984e"
      },
      "execution_count": 16,
      "outputs": [
        {
          "output_type": "stream",
          "name": "stdout",
          "text": [
            "50\n",
            "60\n",
            "70\n",
            "80\n",
            "90\n"
          ]
        }
      ]
    },
    {
      "cell_type": "code",
      "source": [
        "i = 1\n",
        "ilar = []\n",
        "while i < 2:\n",
        "    ilar.append(i)\n",
        "    i += 0.1\n",
        "print(ilar)"
      ],
      "metadata": {
        "colab": {
          "base_uri": "https://localhost:8080/"
        },
        "id": "RVA8mGYZJsfx",
        "outputId": "f8f589af-1508-423f-f7e8-fc61b6d1ff8a"
      },
      "execution_count": 17,
      "outputs": [
        {
          "output_type": "stream",
          "name": "stdout",
          "text": [
            "[1, 1.1, 1.2000000000000002, 1.3000000000000003, 1.4000000000000004, 1.5000000000000004, 1.6000000000000005, 1.7000000000000006, 1.8000000000000007, 1.9000000000000008]\n"
          ]
        }
      ]
    },
    {
      "cell_type": "code",
      "source": [
        "languages = ['Java', 'Python', 'JS']\n",
        "versions = [14, 3, 6]\n",
        "\n",
        "\n",
        "for i in range(len(languages)):\n",
        "    print(languages[i], versions[i])"
      ],
      "metadata": {
        "colab": {
          "base_uri": "https://localhost:8080/"
        },
        "id": "ARYvorfZKEqV",
        "outputId": "125fb22f-406a-4b1d-9467-44465f10156f"
      },
      "execution_count": 18,
      "outputs": [
        {
          "output_type": "stream",
          "name": "stdout",
          "text": [
            "Java 14\n",
            "Python 3\n",
            "JS 6\n"
          ]
        }
      ]
    },
    {
      "cell_type": "code",
      "source": [
        "languages = ['Java', 'Python', 'JS']\n",
        "versions = [14, 3, 6]\n",
        "\n",
        "for version, language in zip(versions, languages):\n",
        "    print(language, version)"
      ],
      "metadata": {
        "colab": {
          "base_uri": "https://localhost:8080/"
        },
        "id": "3z4EKJygKPsK",
        "outputId": "cc205d50-0483-4849-ea6e-f55a653bab63"
      },
      "execution_count": 19,
      "outputs": [
        {
          "output_type": "stream",
          "name": "stdout",
          "text": [
            "Java 14\n",
            "Python 3\n",
            "JS 6\n"
          ]
        }
      ]
    },
    {
      "cell_type": "code",
      "source": [
        "a = zip(versions, language)\n",
        "b = list(a)\n",
        "b"
      ],
      "metadata": {
        "colab": {
          "base_uri": "https://localhost:8080/"
        },
        "id": "8d_lAB3pKeGs",
        "outputId": "a2018822-21e0-48dd-8e3e-c756b7b4d49f"
      },
      "execution_count": 20,
      "outputs": [
        {
          "output_type": "execute_result",
          "data": {
            "text/plain": [
              "[(14, 'J'), (3, 'S')]"
            ]
          },
          "metadata": {},
          "execution_count": 20
        }
      ]
    },
    {
      "cell_type": "code",
      "source": [],
      "metadata": {
        "id": "UEK9sDPDKuYe"
      },
      "execution_count": null,
      "outputs": []
    }
  ]
}