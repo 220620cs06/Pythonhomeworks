{
  "nbformat": 4,
  "nbformat_minor": 0,
  "metadata": {
    "colab": {
      "provenance": []
    },
    "kernelspec": {
      "name": "python3",
      "display_name": "Python 3"
    },
    "language_info": {
      "name": "python"
    }
  },
  "cells": [
    {
      "cell_type": "markdown",
      "source": [
        "Functions\n",
        "Defining Functions\n",
        "Arguments:\n",
        "Positional, Keyword\n",
        "Positional-Only, Keyword-Only\n",
        "Default\n",
        "Arbitrary\n",
        "Lambda Expressions"
      ],
      "metadata": {
        "id": "EV1kPtyonSOV"
      }
    },
    {
      "cell_type": "code",
      "execution_count": 1,
      "metadata": {
        "id": "RFMXELRgI8ok",
        "colab": {
          "base_uri": "https://localhost:8080/"
        },
        "outputId": "0dbdd2f5-18dd-4156-f8d6-3314b6fdc50a"
      },
      "outputs": [
        {
          "output_type": "stream",
          "name": "stdout",
          "text": [
            "hello\n"
          ]
        }
      ],
      "source": [
        "def print_hello():\n",
        "    print('hello')\n",
        "\n",
        "def print_another(a):\n",
        "    print('Another function, a = ', a)\n",
        "\n",
        "a = print_hello\n",
        "\n",
        "a()\n"
      ]
    },
    {
      "cell_type": "code",
      "source": [
        "def decorator1(func):\n",
        "    print(\"BEFORE\")\n",
        "    func(1)\n",
        "    print(\"AFTER\")\n",
        "\n",
        "# decorator1(print_hello)\n",
        "print()\n",
        "decorator1(print_another)"
      ],
      "metadata": {
        "colab": {
          "base_uri": "https://localhost:8080/"
        },
        "id": "z4Qxgc88TjlF",
        "outputId": "0321ab98-23ea-45c4-c91c-85497533d022"
      },
      "execution_count": 3,
      "outputs": [
        {
          "output_type": "stream",
          "name": "stdout",
          "text": [
            "\n",
            "BEFORE\n",
            "Another function, a =  1\n",
            "AFTER\n"
          ]
        }
      ]
    },
    {
      "cell_type": "code",
      "source": [
        "# example 1\n",
        "def decorator(func):\n",
        "    def wrapper():\n",
        "        print(\"Before function call\")\n",
        "        func()\n",
        "        print(\"After function call\")\n",
        "    return wrapper\n",
        "var = decorator(print_hello)\n",
        "type(var)"
      ],
      "metadata": {
        "colab": {
          "base_uri": "https://localhost:8080/"
        },
        "id": "xl1kpp6nTjWN",
        "outputId": "47aa50f2-95e1-473e-f72b-292600e685eb"
      },
      "execution_count": 4,
      "outputs": [
        {
          "output_type": "execute_result",
          "data": {
            "text/plain": [
              "function"
            ]
          },
          "metadata": {},
          "execution_count": 4
        }
      ]
    },
    {
      "cell_type": "code",
      "source": [],
      "metadata": {
        "id": "Y_o4CKLtTjES"
      },
      "execution_count": null,
      "outputs": []
    },
    {
      "cell_type": "code",
      "source": [
        "\n",
        "def repeat_3(func):\n",
        "    def wrapper(name):\n",
        "        for _ in range(3):\n",
        "            func(name)\n",
        "\n",
        "    wrapper.__name__ = func.__name__\n",
        "\n",
        "    return wrapper\n",
        "\n",
        "@repeat_3\n",
        "def greet(name):\n",
        "    print(f\"Hello, {name}!\")"
      ],
      "metadata": {
        "id": "GPXlHJdHdvBG"
      },
      "execution_count": 2,
      "outputs": []
    },
    {
      "cell_type": "code",
      "source": [],
      "metadata": {
        "id": "WOd7PVqsTMfr"
      },
      "execution_count": null,
      "outputs": []
    },
    {
      "cell_type": "markdown",
      "source": [
        "**Decorators**"
      ],
      "metadata": {
        "id": "T-Mk-o1QUdMr"
      }
    },
    {
      "cell_type": "markdown",
      "source": [
        "Creating decorators\n",
        "Applying Decorators"
      ],
      "metadata": {
        "id": "BDmlQG4mU3ck"
      }
    },
    {
      "cell_type": "code",
      "source": [
        "def hello():\n",
        "  print(\"hi\")\n",
        "\n",
        "a=hello\n",
        "\n",
        "a()\n",
        "a"
      ],
      "metadata": {
        "colab": {
          "base_uri": "https://localhost:8080/",
          "height": 121
        },
        "id": "WUO9kLGAUqtb",
        "outputId": "7fa0f0da-823a-4e18-c135-f33cce34de3d"
      },
      "execution_count": 6,
      "outputs": [
        {
          "output_type": "stream",
          "name": "stdout",
          "text": [
            "hi\n"
          ]
        },
        {
          "output_type": "execute_result",
          "data": {
            "text/plain": [
              "<function __main__.hello()>"
            ],
            "text/html": [
              "<div style=\"max-width:800px; border: 1px solid var(--colab-border-color);\"><style>\n",
              "      pre.function-repr-contents {\n",
              "        overflow-x: auto;\n",
              "        padding: 8px 12px;\n",
              "        max-height: 500px;\n",
              "      }\n",
              "\n",
              "      pre.function-repr-contents.function-repr-contents-collapsed {\n",
              "        cursor: pointer;\n",
              "        max-height: 100px;\n",
              "      }\n",
              "    </style>\n",
              "    <pre style=\"white-space: initial; background:\n",
              "         var(--colab-secondary-surface-color); padding: 8px 12px;\n",
              "         border-bottom: 1px solid var(--colab-border-color);\"><b>hello</b><br/>def hello()</pre><pre class=\"function-repr-contents function-repr-contents-collapsed\" style=\"\"><a class=\"filepath\" style=\"display:none\" href=\"#\">/content/&lt;ipython-input-6-ecfdb168219e&gt;</a>&lt;no docstring&gt;</pre></div>"
            ]
          },
          "metadata": {},
          "execution_count": 6
        }
      ]
    },
    {
      "cell_type": "code",
      "source": [
        "[1,2,3,2,3].sort(key=lambda x: x)"
      ],
      "metadata": {
        "id": "iWp5jXQwUjZe"
      },
      "execution_count": 7,
      "outputs": []
    },
    {
      "cell_type": "code",
      "source": [
        "def decorator(fun):\n",
        "  print(fun)\n",
        "  fun()\n",
        "\n",
        "decorator(hello)"
      ],
      "metadata": {
        "colab": {
          "base_uri": "https://localhost:8080/"
        },
        "id": "pvQQ4dDMUjMf",
        "outputId": "4b472fdb-1fc5-4bd9-871d-de52f2d13a40"
      },
      "execution_count": 10,
      "outputs": [
        {
          "output_type": "stream",
          "name": "stdout",
          "text": [
            "<function hello at 0x79fe01ff79c0>\n",
            "hi\n"
          ]
        }
      ]
    },
    {
      "cell_type": "code",
      "source": [
        "\"\"\"decorators\"\"\"\n",
        "\n",
        "hello.__name__"
      ],
      "metadata": {
        "colab": {
          "base_uri": "https://localhost:8080/",
          "height": 35
        },
        "id": "DyX2aUXOVvB1",
        "outputId": "de6a3237-90a2-4c5d-ad65-6566cec6ec33"
      },
      "execution_count": 12,
      "outputs": [
        {
          "output_type": "execute_result",
          "data": {
            "text/plain": [
              "'hello'"
            ],
            "application/vnd.google.colaboratory.intrinsic+json": {
              "type": "string"
            }
          },
          "metadata": {},
          "execution_count": 12
        }
      ]
    },
    {
      "cell_type": "code",
      "source": [
        "def bold(func):\n",
        "  def wrapper():\n",
        "    return f\"<b>{func()}</b>\"\n",
        "  return wrapper\n",
        "\n",
        "\n",
        "@bold\n",
        "def greeting():\n",
        "  return \"Hi from us\"\n",
        "\n",
        "print(greeting())\n",
        "\n",
        "\n",
        "# instead of\n",
        "\n",
        "greeting = bold(greeting)\n",
        "print(greeting())\n"
      ],
      "metadata": {
        "colab": {
          "base_uri": "https://localhost:8080/"
        },
        "id": "hCK5TuDbW3iK",
        "outputId": "0f138cc7-2f3c-44b5-cc65-ab62cf9f1881"
      },
      "execution_count": 15,
      "outputs": [
        {
          "output_type": "stream",
          "name": "stdout",
          "text": [
            "<b>Hi from us</b>\n",
            "<b><b>Hi from us</b></b>\n"
          ]
        }
      ]
    },
    {
      "cell_type": "code",
      "source": [
        "# example 3\n",
        "def repeat(n):\n",
        "    def decorator(func):\n",
        "        def wrapper(*args, **kwargs):\n",
        "            for _ in range(n):\n",
        "                func(*args, **kwargs)\n",
        "        return wrapper\n",
        "    return decorator\n",
        "\n",
        "@repeat(4)\n",
        "def greet(name):\n",
        "    print(f\"Hello, {name}!\")\n",
        "\n",
        "greet(\"Guli\")"
      ],
      "metadata": {
        "colab": {
          "base_uri": "https://localhost:8080/"
        },
        "id": "y2UQuzJ0YSij",
        "outputId": "c1851218-5a32-4c35-b819-5b306c222ec7"
      },
      "execution_count": 16,
      "outputs": [
        {
          "output_type": "stream",
          "name": "stdout",
          "text": [
            "Hello, Guli!\n",
            "Hello, Guli!\n",
            "Hello, Guli!\n",
            "Hello, Guli!\n"
          ]
        }
      ]
    },
    {
      "cell_type": "markdown",
      "source": [
        "Common exceptions\n",
        "Handling exceptions\n",
        "Raising exceptions\n",
        "Examining exception objects\n",
        "Using the finally statement\n",
        "Using the else statement"
      ],
      "metadata": {
        "id": "7nsrgFiLesRD"
      }
    },
    {
      "cell_type": "markdown",
      "source": [
        "Common Exceptions\n",
        "BaseException\n",
        " ├── KeyboardInterrupt\n",
        " ├── SystemExit\n",
        " └── Exception\n",
        "      ├── ArithmeticError\n",
        "      │    └── ZeroDivisionError\n",
        "      ├── AssertionError\n",
        "      ├── AttributeError\n",
        "      ├── ImportError\n",
        "      │    └── ModuleNotFoundError\n",
        "      ├── LookupError\n",
        "      │    ├── IndexError\n",
        "      │    └── KeyError\n",
        "      ├── MemoryError\n",
        "      ├── NameError\n",
        "      ├── OSError\n",
        "      │    ├── FileExistsError\n",
        "      │    ├── FileNotFoundError\n",
        "      │    ├── NotADirectoryError\n",
        "      │    ├── PermissionError\n",
        "      ├── RuntimeError\n",
        "      │    ├── NotImplementedError\n",
        "      │    └── RecursionError\n",
        "      ├── StopIteration\n",
        "      ├── SyntaxError\n",
        "      │    └── IndentationError\n",
        "      │         └── TabError\n",
        "      ├── TypeError\n",
        "      └── ValueError"
      ],
      "metadata": {
        "id": "vl3TOBNEe3Qx"
      }
    },
    {
      "cell_type": "code",
      "source": [
        "try:\n",
        "  1/0\n",
        "except ZeroDivisionError:\n",
        "  print(\"can't divide by zero\")"
      ],
      "metadata": {
        "colab": {
          "base_uri": "https://localhost:8080/"
        },
        "id": "YTo8biU7alox",
        "outputId": "1c77ad43-a388-4334-fca0-ea73124a0d90"
      },
      "execution_count": 17,
      "outputs": [
        {
          "output_type": "stream",
          "name": "stdout",
          "text": [
            "can't divide by zero\n"
          ]
        }
      ]
    },
    {
      "cell_type": "code",
      "source": [
        "try:\n",
        "  a=[1]\n",
        "  a[1]\n",
        "except IndexError:\n",
        "  print(\"Index Error\")\n",
        "except Exception:\n",
        "  print(\"Something went wrong\")"
      ],
      "metadata": {
        "colab": {
          "base_uri": "https://localhost:8080/"
        },
        "id": "7zukJkyofac9",
        "outputId": "0f41e9d4-a1f2-4c42-bbd2-1ace40ad1d22"
      },
      "execution_count": 18,
      "outputs": [
        {
          "output_type": "stream",
          "name": "stdout",
          "text": [
            "Index Error\n"
          ]
        }
      ]
    },
    {
      "cell_type": "code",
      "source": [
        "try:\n",
        "  a=[1]\n",
        "  a[1]\n",
        "except Exception:\n",
        "  print(\"Something went wrong\")\n",
        "except IndexError:\n",
        "  print(\"Index Error\")\n"
      ],
      "metadata": {
        "colab": {
          "base_uri": "https://localhost:8080/"
        },
        "id": "3dWReqHegHED",
        "outputId": "56f8f526-b166-40cf-ff01-13d7384609d0"
      },
      "execution_count": 19,
      "outputs": [
        {
          "output_type": "stream",
          "name": "stdout",
          "text": [
            "Something went wrong\n"
          ]
        }
      ]
    },
    {
      "cell_type": "code",
      "source": [
        "try:\n",
        "  import smth\n",
        "except ImportError as e:\n",
        "  print(e)\n",
        "except Exception:\n",
        "  print(\"Something went wrong\")"
      ],
      "metadata": {
        "colab": {
          "base_uri": "https://localhost:8080/"
        },
        "id": "85IVXyXsgQ2C",
        "outputId": "38093feb-6eea-4b2d-fafc-02e9fbdb8298"
      },
      "execution_count": 20,
      "outputs": [
        {
          "output_type": "stream",
          "name": "stdout",
          "text": [
            "No module named 'smth'\n"
          ]
        }
      ]
    },
    {
      "cell_type": "code",
      "source": [
        "try:\n",
        "    a = 1 / 0\n",
        "except ZeroDivisionError:\n",
        "    print('Can not divide')\n",
        "else:\n",
        "    print(a)\n",
        "finally:\n",
        "    print('finally executed')"
      ],
      "metadata": {
        "colab": {
          "base_uri": "https://localhost:8080/"
        },
        "id": "IFaLjmIyh2aQ",
        "outputId": "44f35126-d88b-406a-ae2c-e53b0f646a7d"
      },
      "execution_count": 21,
      "outputs": [
        {
          "output_type": "stream",
          "name": "stdout",
          "text": [
            "Can not divide\n",
            "finally executed\n"
          ]
        }
      ]
    },
    {
      "cell_type": "markdown",
      "source": [
        "Working with files"
      ],
      "metadata": {
        "id": "IrYv63Khi7k0"
      }
    },
    {
      "cell_type": "code",
      "source": [
        "file=open('sample.txt')"
      ],
      "metadata": {
        "id": "Wbk5J_VxiP3X"
      },
      "execution_count": 23,
      "outputs": []
    },
    {
      "cell_type": "code",
      "source": [
        "file"
      ],
      "metadata": {
        "colab": {
          "base_uri": "https://localhost:8080/"
        },
        "id": "K7qGK1i0j5jt",
        "outputId": "87085db8-2692-4e36-a469-ef73f46031c2"
      },
      "execution_count": 24,
      "outputs": [
        {
          "output_type": "execute_result",
          "data": {
            "text/plain": [
              "<_io.TextIOWrapper name='sample.txt' mode='r' encoding='utf-8'>"
            ]
          },
          "metadata": {},
          "execution_count": 24
        }
      ]
    },
    {
      "cell_type": "code",
      "source": [
        "file.read()"
      ],
      "metadata": {
        "colab": {
          "base_uri": "https://localhost:8080/",
          "height": 35
        },
        "id": "8_VUM3inkCPP",
        "outputId": "692cce4b-753c-42ec-c87d-64c95c892611"
      },
      "execution_count": 25,
      "outputs": [
        {
          "output_type": "execute_result",
          "data": {
            "text/plain": [
              "'This is our txt file '"
            ],
            "application/vnd.google.colaboratory.intrinsic+json": {
              "type": "string"
            }
          },
          "metadata": {},
          "execution_count": 25
        }
      ]
    },
    {
      "cell_type": "code",
      "source": [
        "file.write('smth')"
      ],
      "metadata": {
        "colab": {
          "base_uri": "https://localhost:8080/",
          "height": 141
        },
        "id": "CkkctmMPkKq6",
        "outputId": "520cc14c-5c8f-4eb7-b3bd-ad1a223ff236"
      },
      "execution_count": 26,
      "outputs": [
        {
          "output_type": "error",
          "ename": "UnsupportedOperation",
          "evalue": "not writable",
          "traceback": [
            "\u001b[0;31m---------------------------------------------------------------------------\u001b[0m",
            "\u001b[0;31mUnsupportedOperation\u001b[0m                      Traceback (most recent call last)",
            "\u001b[0;32m<ipython-input-26-1eca794dbbe0>\u001b[0m in \u001b[0;36m<cell line: 0>\u001b[0;34m()\u001b[0m\n\u001b[0;32m----> 1\u001b[0;31m \u001b[0mfile\u001b[0m\u001b[0;34m.\u001b[0m\u001b[0mwrite\u001b[0m\u001b[0;34m(\u001b[0m\u001b[0;34m'smth'\u001b[0m\u001b[0;34m)\u001b[0m\u001b[0;34m\u001b[0m\u001b[0;34m\u001b[0m\u001b[0m\n\u001b[0m",
            "\u001b[0;31mUnsupportedOperation\u001b[0m: not writable"
          ]
        }
      ]
    },
    {
      "cell_type": "code",
      "source": [
        "file.open('sample.txt', mode='w')\n",
        "file.write('blah blah')\n",
        "file.close()"
      ],
      "metadata": {
        "colab": {
          "base_uri": "https://localhost:8080/",
          "height": 176
        },
        "id": "hBNaHYz5kYGv",
        "outputId": "52879f72-37c5-419e-c7b3-c2c9ae4dc384"
      },
      "execution_count": 30,
      "outputs": [
        {
          "output_type": "error",
          "ename": "AttributeError",
          "evalue": "'_io.TextIOWrapper' object has no attribute 'open'",
          "traceback": [
            "\u001b[0;31m---------------------------------------------------------------------------\u001b[0m",
            "\u001b[0;31mAttributeError\u001b[0m                            Traceback (most recent call last)",
            "\u001b[0;32m<ipython-input-30-02ef104b3ba4>\u001b[0m in \u001b[0;36m<cell line: 0>\u001b[0;34m()\u001b[0m\n\u001b[0;32m----> 1\u001b[0;31m \u001b[0mfile\u001b[0m\u001b[0;34m.\u001b[0m\u001b[0mopen\u001b[0m\u001b[0;34m(\u001b[0m\u001b[0;34m'sample.txt'\u001b[0m\u001b[0;34m,\u001b[0m \u001b[0mmode\u001b[0m\u001b[0;34m=\u001b[0m\u001b[0;34m'w'\u001b[0m\u001b[0;34m)\u001b[0m\u001b[0;34m\u001b[0m\u001b[0;34m\u001b[0m\u001b[0m\n\u001b[0m\u001b[1;32m      2\u001b[0m \u001b[0mfile\u001b[0m\u001b[0;34m.\u001b[0m\u001b[0mwrite\u001b[0m\u001b[0;34m(\u001b[0m\u001b[0;34m'blah blah'\u001b[0m\u001b[0;34m)\u001b[0m\u001b[0;34m\u001b[0m\u001b[0;34m\u001b[0m\u001b[0m\n\u001b[1;32m      3\u001b[0m \u001b[0mfile\u001b[0m\u001b[0;34m.\u001b[0m\u001b[0mclose\u001b[0m\u001b[0;34m(\u001b[0m\u001b[0;34m)\u001b[0m\u001b[0;34m\u001b[0m\u001b[0;34m\u001b[0m\u001b[0m\n",
            "\u001b[0;31mAttributeError\u001b[0m: '_io.TextIOWrapper' object has no attribute 'open'"
          ]
        }
      ]
    },
    {
      "cell_type": "code",
      "source": [
        "with open('sample.txt', mode='w') as file:\n",
        "    file.write('blah blah')\n",
        "    print(file.read())\n",
        "\n"
      ],
      "metadata": {
        "colab": {
          "base_uri": "https://localhost:8080/",
          "height": 193
        },
        "id": "IrwW24a9ki63",
        "outputId": "fd58c8a9-0535-433a-a1ed-6071e751c6a7"
      },
      "execution_count": 38,
      "outputs": [
        {
          "output_type": "error",
          "ename": "UnsupportedOperation",
          "evalue": "not readable",
          "traceback": [
            "\u001b[0;31m---------------------------------------------------------------------------\u001b[0m",
            "\u001b[0;31mUnsupportedOperation\u001b[0m                      Traceback (most recent call last)",
            "\u001b[0;32m<ipython-input-38-8acfa84db866>\u001b[0m in \u001b[0;36m<cell line: 0>\u001b[0;34m()\u001b[0m\n\u001b[1;32m      1\u001b[0m \u001b[0;32mwith\u001b[0m \u001b[0mopen\u001b[0m\u001b[0;34m(\u001b[0m\u001b[0;34m'sample.txt'\u001b[0m\u001b[0;34m,\u001b[0m \u001b[0mmode\u001b[0m\u001b[0;34m=\u001b[0m\u001b[0;34m'w'\u001b[0m\u001b[0;34m)\u001b[0m \u001b[0;32mas\u001b[0m \u001b[0mfile\u001b[0m\u001b[0;34m:\u001b[0m\u001b[0;34m\u001b[0m\u001b[0;34m\u001b[0m\u001b[0m\n\u001b[1;32m      2\u001b[0m     \u001b[0mfile\u001b[0m\u001b[0;34m.\u001b[0m\u001b[0mwrite\u001b[0m\u001b[0;34m(\u001b[0m\u001b[0;34m'blah blah'\u001b[0m\u001b[0;34m)\u001b[0m\u001b[0;34m\u001b[0m\u001b[0;34m\u001b[0m\u001b[0m\n\u001b[0;32m----> 3\u001b[0;31m     \u001b[0mprint\u001b[0m\u001b[0;34m(\u001b[0m\u001b[0mfile\u001b[0m\u001b[0;34m.\u001b[0m\u001b[0mread\u001b[0m\u001b[0;34m(\u001b[0m\u001b[0;34m)\u001b[0m\u001b[0;34m)\u001b[0m\u001b[0;34m\u001b[0m\u001b[0;34m\u001b[0m\u001b[0m\n\u001b[0m\u001b[1;32m      4\u001b[0m \u001b[0;34m\u001b[0m\u001b[0m\n",
            "\u001b[0;31mUnsupportedOperation\u001b[0m: not readable"
          ]
        }
      ]
    },
    {
      "cell_type": "code",
      "source": [
        "f=open('demo.txt','wt')\n",
        "f.write('smth')\n",
        "f.close()"
      ],
      "metadata": {
        "id": "u2VLKnuolXUF"
      },
      "execution_count": 44,
      "outputs": []
    },
    {
      "cell_type": "code",
      "source": [],
      "metadata": {
        "id": "yOA9-k7Tn-VP"
      },
      "execution_count": 44,
      "outputs": []
    },
    {
      "cell_type": "code",
      "source": [],
      "metadata": {
        "id": "uEF8pNKmoEAQ"
      },
      "execution_count": null,
      "outputs": []
    }
  ]
}