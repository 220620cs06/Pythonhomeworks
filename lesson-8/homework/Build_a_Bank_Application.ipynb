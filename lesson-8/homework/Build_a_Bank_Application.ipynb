{
  "nbformat": 4,
  "nbformat_minor": 0,
  "metadata": {
    "colab": {
      "provenance": []
    },
    "kernelspec": {
      "name": "python3",
      "display_name": "Python 3"
    },
    "language_info": {
      "name": "python"
    }
  },
  "cells": [
    {
      "cell_type": "code",
      "source": [
        "import json\n",
        "import os\n",
        "\n",
        "class Account:\n",
        "    def __init__(self, account_number, name, balance=0):\n",
        "        self.account_number = account_number\n",
        "        self.name = name\n",
        "        self.balance = balance\n",
        "\n",
        "    def deposit(self, amount):\n",
        "        if amount > 0:\n",
        "            self.balance += amount\n",
        "            return True\n",
        "        return False\n",
        "\n",
        "    def withdraw(self, amount):\n",
        "        if 0 < amount <= self.balance:\n",
        "            self.balance -= amount\n",
        "            return True\n",
        "        return False\n",
        "\n",
        "    def __str__(self):\n",
        "        return f\"Account {self.account_number}: {self.name}, Balance: ${self.balance:.2f}\"\n",
        "\n",
        "class Bank:\n",
        "    def __init__(self):\n",
        "        self.accounts = {}\n",
        "        self.load_from_file()\n",
        "\n",
        "    def create_account(self, name, initial_deposit):\n",
        "        account_number = len(self.accounts) + 1000  # Simple account number generation\n",
        "        new_account = Account(account_number, name, initial_deposit)\n",
        "        self.accounts[account_number] = new_account\n",
        "        self.save_to_file()\n",
        "        return account_number\n",
        "\n",
        "    def view_account(self, account_number):\n",
        "        return self.accounts.get(account_number)\n",
        "\n",
        "    def deposit(self, account_number, amount):\n",
        "        account = self.view_account(account_number)\n",
        "        if account and account.deposit(amount):\n",
        "            self.save_to_file()\n",
        "            return True\n",
        "        return False\n",
        "\n",
        "    def withdraw(self, account_number, amount):\n",
        "        account = self.view_account(account_number)\n",
        "        if account and account.withdraw(amount):\n",
        "            self.save_to_file()\n",
        "            return True\n",
        "        return False\n",
        "\n",
        "    def save_to_file(self):\n",
        "        accounts_data = {\n",
        "            acc_num: {\"name\": acc.name, \"balance\": acc.balance}\n",
        "            for acc_num, acc in self.accounts.items()\n",
        "        }\n",
        "        with open(\"accounts.txt\", \"w\") as f:\n",
        "            json.dump(accounts_data, f)\n",
        "\n",
        "    def load_from_file(self):\n",
        "        if os.path.exists(\"accounts.txt\"):\n",
        "            with open(\"accounts.txt\", \"r\") as f:\n",
        "                accounts_data = json.load(f)\n",
        "                for acc_num, data in accounts_data.items():\n",
        "                    self.accounts[int(acc_num)] = Account(\n",
        "                        int(acc_num), data[\"name\"], data[\"balance\"]\n",
        "                    )\n",
        "\n"
      ],
      "metadata": {
        "id": "OxasV2czA8VC"
      },
      "execution_count": 1,
      "outputs": []
    },
    {
      "cell_type": "code",
      "source": [
        "def main():\n",
        "    bank = Bank()\n",
        "\n",
        "    while True:\n",
        "        print(\"\\nBank Application\")\n",
        "        print(\"1. Create Account\")\n",
        "        print(\"2. View Account\")\n",
        "        print(\"3. Deposit\")\n",
        "        print(\"4. Withdraw\")\n",
        "        print(\"5. Exit\")\n",
        "\n",
        "        choice = input(\"Enter your choice: \")\n",
        "\n",
        "        if choice == '1':\n",
        "            name = input(\"Enter your name: \")\n",
        "            deposit = float(input(\"Initial deposit amount: $\"))\n",
        "            acc_num = bank.create_account(name, deposit)\n",
        "            print(f\"Account created! Your account number is {acc_num}\")\n",
        "\n",
        "        elif choice == '2':\n",
        "            acc_num = int(input(\"Enter account number: \"))\n",
        "            account = bank.view_account(acc_num)\n",
        "            print(account if account else \"Account not found\")\n",
        "\n",
        "        elif choice == '3':\n",
        "            acc_num = int(input(\"Enter account number: \"))\n",
        "            amount = float(input(\"Deposit amount: $\"))\n",
        "            if bank.deposit(acc_num, amount):\n",
        "                print(\"Deposit successful!\")\n",
        "            else:\n",
        "                print(\"Deposit failed - invalid amount or account\")\n",
        "\n",
        "        elif choice == '4':\n",
        "            acc_num = int(input(\"Enter account number: \"))\n",
        "            amount = float(input(\"Withdrawal amount: $\"))\n",
        "            if bank.withdraw(acc_num, amount):\n",
        "                print(\"Withdrawal successful!\")\n",
        "            else:\n",
        "                print(\"Withdrawal failed - insufficient funds or invalid amount\")\n",
        "\n",
        "        elif choice == '5':\n",
        "            print(\"Thank you for banking with us!\")\n",
        "            break\n",
        "\n",
        "        else:\n",
        "            print(\"Invalid choice. Please try again.\")\n",
        "\n",
        "if __name__ == \"__main__\":\n",
        "    main()"
      ],
      "metadata": {
        "colab": {
          "base_uri": "https://localhost:8080/"
        },
        "id": "0v9puFOvDArM",
        "outputId": "46ee0e47-5440-4200-d05d-41f7743eddc2"
      },
      "execution_count": null,
      "outputs": [
        {
          "output_type": "stream",
          "name": "stdout",
          "text": [
            "\n",
            "Bank Application\n",
            "1. Create Account\n",
            "2. View Account\n",
            "3. Deposit\n",
            "4. Withdraw\n",
            "5. Exit\n"
          ]
        }
      ]
    },
    {
      "cell_type": "code",
      "source": [],
      "metadata": {
        "id": "KKALo8msDJPb"
      },
      "execution_count": null,
      "outputs": []
    }
  ]
}