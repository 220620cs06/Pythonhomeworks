{
  "nbformat": 4,
  "nbformat_minor": 0,
  "metadata": {
    "colab": {
      "provenance": []
    },
    "kernelspec": {
      "name": "python3",
      "display_name": "Python 3"
    },
    "language_info": {
      "name": "python"
    }
  },
  "cells": [
    {
      "cell_type": "markdown",
      "source": [
        "Container types\n",
        "\n",
        "list,(array)tuple,dictionary,set\n"
      ],
      "metadata": {
        "id": "7-8gt7Bydhxx"
      }
    },
    {
      "cell_type": "code",
      "source": [
        "# list(container,reference)\n",
        "\n",
        "numbers=[2,3,4,2]\n",
        "fruits=['olma','mango']\n",
        "mixed=[2,True,'dunkey']\n",
        "\n",
        "list('guli')\n",
        "\n",
        "fruits[::2]"
      ],
      "metadata": {
        "colab": {
          "base_uri": "https://localhost:8080/"
        },
        "id": "ak1iccj6d2Ao",
        "outputId": "ccbbf10d-4dae-4a0b-c05e-0f6bd3eed82f"
      },
      "execution_count": 4,
      "outputs": [
        {
          "output_type": "execute_result",
          "data": {
            "text/plain": [
              "['olma']"
            ]
          },
          "metadata": {},
          "execution_count": 4
        }
      ]
    },
    {
      "cell_type": "code",
      "source": [
        "a=[34,2,1]\n",
        "a.append(2)\n",
        "\n",
        "print(a)\n",
        "# dsf\n",
        "# sdf\n",
        "a=[34,2,1]\n",
        "b=a\n",
        "a.append(2)\n",
        "\n",
        "print(b)\n",
        "print(a)"
      ],
      "metadata": {
        "colab": {
          "base_uri": "https://localhost:8080/"
        },
        "id": "WB7CZ_k-ePSN",
        "outputId": "d4ec6519-162c-4f72-ee96-4fdaf6653b49"
      },
      "execution_count": 7,
      "outputs": [
        {
          "output_type": "stream",
          "name": "stdout",
          "text": [
            "[34, 2, 1, 2]\n",
            "[34, 2, 1, 2]\n",
            "[34, 2, 1, 2]\n"
          ]
        }
      ]
    },
    {
      "cell_type": "code",
      "source": [
        "a = 5\n",
        "b = a\n",
        "print(id(a))\n",
        "print(id(b))\n",
        "\n",
        "a += 1 # a = a + 1\n",
        "\n",
        "print(a)\n",
        "print(b)\n",
        "\n",
        "print(id(a))\n",
        "print(id(b))"
      ],
      "metadata": {
        "colab": {
          "base_uri": "https://localhost:8080/"
        },
        "id": "Dl6_dQhbg2cn",
        "outputId": "b5e11768-aed7-4f23-e197-40ecfc2e7709"
      },
      "execution_count": 8,
      "outputs": [
        {
          "output_type": "stream",
          "name": "stdout",
          "text": [
            "10750984\n",
            "10750984\n",
            "6\n",
            "5\n",
            "10751016\n",
            "10750984\n"
          ]
        }
      ]
    },
    {
      "cell_type": "code",
      "source": [
        "x=[[2,3],[2,1]]\n",
        "\n",
        "# x[1][0]\n",
        "\n",
        "y=x.copy()\n",
        "# y[1][0]=3\n",
        "\n",
        "y[0].append(7)\n",
        "\n",
        "print(x)\n",
        "print(y)"
      ],
      "metadata": {
        "colab": {
          "base_uri": "https://localhost:8080/"
        },
        "id": "vVHJNvMcgAcn",
        "outputId": "a6e16636-52fc-4397-cbbb-105e87ae9a2f"
      },
      "execution_count": 11,
      "outputs": [
        {
          "output_type": "stream",
          "name": "stdout",
          "text": [
            "[[2, 3, 7], [2, 1]]\n",
            "[[2, 3, 7], [2, 1]]\n"
          ]
        }
      ]
    },
    {
      "cell_type": "code",
      "source": [
        "from copy import deepcopy\n",
        "a = 1\n",
        "x = [[a, 2],[3, 4]]\n",
        "y = deepcopy(x)\n",
        "\n",
        "x[0].append(5)\n",
        "\n",
        "print(x)\n",
        "print(y)"
      ],
      "metadata": {
        "colab": {
          "base_uri": "https://localhost:8080/"
        },
        "id": "3dxVWADOh7Ml",
        "outputId": "b9feef1e-b828-4ab9-a6ad-3cca4d5f939d"
      },
      "execution_count": 12,
      "outputs": [
        {
          "output_type": "stream",
          "name": "stdout",
          "text": [
            "[[1, 2, 5], [3, 4]]\n",
            "[[1, 2], [3, 4]]\n"
          ]
        }
      ]
    },
    {
      "cell_type": "markdown",
      "source": [
        "**Текст, выделенный полужирным шрифтом**\n",
        "\n",
        "**append**()\n",
        "clear()\n",
        "copy()\n",
        "count()\n",
        "extend()\n",
        "index()\n",
        "insert()\n",
        "pop()\n",
        "remove()\n",
        "reverse()\n",
        "sort() **Текст, выделенный полужирным шрифтом**\n",
        "\n"
      ],
      "metadata": {
        "id": "wIAOTJ7eja7n"
      }
    },
    {
      "cell_type": "code",
      "source": [
        "staff=['door','chair','board','mell']\n",
        "staff.count('door')"
      ],
      "metadata": {
        "colab": {
          "base_uri": "https://localhost:8080/"
        },
        "id": "6njbNW-bjyx8",
        "outputId": "298d4e1c-324b-4288-8599-c0ccce387c7c"
      },
      "execution_count": 13,
      "outputs": [
        {
          "output_type": "execute_result",
          "data": {
            "text/plain": [
              "1"
            ]
          },
          "metadata": {},
          "execution_count": 13
        }
      ]
    },
    {
      "cell_type": "code",
      "source": [
        "staff.pop()"
      ],
      "metadata": {
        "colab": {
          "base_uri": "https://localhost:8080/",
          "height": 35
        },
        "id": "Kym4fz2ukRI7",
        "outputId": "25c34566-d89c-48f0-b904-ac7ac0f81e60"
      },
      "execution_count": 14,
      "outputs": [
        {
          "output_type": "execute_result",
          "data": {
            "text/plain": [
              "'mell'"
            ],
            "application/vnd.google.colaboratory.intrinsic+json": {
              "type": "string"
            }
          },
          "metadata": {},
          "execution_count": 14
        }
      ]
    },
    {
      "cell_type": "code",
      "source": [
        "staff"
      ],
      "metadata": {
        "colab": {
          "base_uri": "https://localhost:8080/"
        },
        "id": "JP01O2YylFol",
        "outputId": "aff3cd45-7feb-490d-c2ce-66be426f2174"
      },
      "execution_count": 15,
      "outputs": [
        {
          "output_type": "execute_result",
          "data": {
            "text/plain": [
              "['door', 'chair', 'board']"
            ]
          },
          "metadata": {},
          "execution_count": 15
        }
      ]
    },
    {
      "cell_type": "code",
      "source": [
        "fruits = ['banana', 'a', 'ananas', 'ab']\n",
        "sorted(fruits, key=lambda x: len(x))"
      ],
      "metadata": {
        "colab": {
          "base_uri": "https://localhost:8080/"
        },
        "id": "U0mjIUUhlJM3",
        "outputId": "38923d0b-df2a-485a-94e2-8958f5e1f688"
      },
      "execution_count": 16,
      "outputs": [
        {
          "output_type": "execute_result",
          "data": {
            "text/plain": [
              "['a', 'ab', 'banana', 'ananas']"
            ]
          },
          "metadata": {},
          "execution_count": 16
        }
      ]
    },
    {
      "cell_type": "code",
      "source": [
        "fruits = ['banana', 'a', 'ananas', 'ab']\n",
        "sorted(fruits,reverse=True)"
      ],
      "metadata": {
        "colab": {
          "base_uri": "https://localhost:8080/"
        },
        "id": "7wbLf7r2njyP",
        "outputId": "9c80aa3f-8eda-4203-d61b-631d1d94f48f"
      },
      "execution_count": 17,
      "outputs": [
        {
          "output_type": "execute_result",
          "data": {
            "text/plain": [
              "['banana', 'ananas', 'ab', 'a']"
            ]
          },
          "metadata": {},
          "execution_count": 17
        }
      ]
    },
    {
      "cell_type": "markdown",
      "source": [
        "# **Tuple**"
      ],
      "metadata": {
        "id": "CvU3rofKn-Ll"
      }
    },
    {
      "cell_type": "code",
      "source": [
        "# immutable(not changeable)\n",
        "\n",
        "a=(3,2,1)\n",
        "a\n",
        "b=(6,)\n",
        "# b=(6)type->int"
      ],
      "metadata": {
        "colab": {
          "base_uri": "https://localhost:8080/"
        },
        "id": "NPBIFfFqoJEu",
        "outputId": "23eb7955-d4fa-429a-98c8-23e750617683"
      },
      "execution_count": 19,
      "outputs": [
        {
          "output_type": "execute_result",
          "data": {
            "text/plain": [
              "(3, 2, 1)"
            ]
          },
          "metadata": {},
          "execution_count": 19
        }
      ]
    },
    {
      "cell_type": "markdown",
      "source": [
        "append, sort, pop, remove, extend, reverse, insert = mutate\n",
        "\n",
        "index, count\n",
        "\n",
        "copy,"
      ],
      "metadata": {
        "id": "BHSTv4oVo9N6"
      }
    },
    {
      "cell_type": "code",
      "source": [
        "person1 = ('John', 'Doe', 40)\n",
        "\n",
        "grades = [40, 50, 70]"
      ],
      "metadata": {
        "id": "dWgr5tJcoeKw"
      },
      "execution_count": 20,
      "outputs": []
    },
    {
      "cell_type": "code",
      "source": [
        "# Tuple unpacking\n",
        "\n",
        "id, title, artist_id = (1, 'For Those About To Rock We Salute You', 1)\n",
        "title"
      ],
      "metadata": {
        "colab": {
          "base_uri": "https://localhost:8080/",
          "height": 35
        },
        "id": "jclW2lujqgWX",
        "outputId": "e766adca-06d6-49c2-a67b-ed14823aa289"
      },
      "execution_count": 21,
      "outputs": [
        {
          "output_type": "execute_result",
          "data": {
            "text/plain": [
              "'For Those About To Rock We Salute You'"
            ],
            "application/vnd.google.colaboratory.intrinsic+json": {
              "type": "string"
            }
          },
          "metadata": {},
          "execution_count": 21
        }
      ]
    },
    {
      "cell_type": "markdown",
      "source": [
        "# **Dictionary**\n"
      ],
      "metadata": {
        "id": "NyoPIFVBv0aX"
      }
    },
    {
      "cell_type": "code",
      "source": [
        "person = {\n",
        "    'name':'Guljahon',\n",
        "    'id':'220620',\n",
        "    'grade':'A+'\n",
        "}\n",
        "person"
      ],
      "metadata": {
        "colab": {
          "base_uri": "https://localhost:8080/"
        },
        "id": "g-dh0L82vb-a",
        "outputId": "3b9885b6-2fff-41eb-f139-a779f2beb62c"
      },
      "execution_count": 23,
      "outputs": [
        {
          "output_type": "execute_result",
          "data": {
            "text/plain": [
              "{'name': 'Guljahon', 'id': '220620', 'grade': 'A+'}"
            ]
          },
          "metadata": {},
          "execution_count": 23
        }
      ]
    },
    {
      "cell_type": "code",
      "source": [
        "person['id']"
      ],
      "metadata": {
        "colab": {
          "base_uri": "https://localhost:8080/",
          "height": 35
        },
        "id": "1bPLU3BJwWCd",
        "outputId": "f76f42f8-7472-4408-832d-fdfeedfc9556"
      },
      "execution_count": 24,
      "outputs": [
        {
          "output_type": "execute_result",
          "data": {
            "text/plain": [
              "'220620'"
            ],
            "application/vnd.google.colaboratory.intrinsic+json": {
              "type": "string"
            }
          },
          "metadata": {},
          "execution_count": 24
        }
      ]
    },
    {
      "cell_type": "code",
      "source": [
        "dict([('name', 'John'), ('email', 'john@gmail.com'), ('age', 50)])"
      ],
      "metadata": {
        "colab": {
          "base_uri": "https://localhost:8080/"
        },
        "id": "epMK8EtTwnvY",
        "outputId": "642564aa-406d-43f9-dec4-4e5c6f722981"
      },
      "execution_count": 25,
      "outputs": [
        {
          "output_type": "execute_result",
          "data": {
            "text/plain": [
              "{'name': 'John', 'email': 'john@gmail.com', 'age': 50}"
            ]
          },
          "metadata": {},
          "execution_count": 25
        }
      ]
    },
    {
      "cell_type": "code",
      "source": [
        "{\n",
        "    1: \"dfs\",\n",
        "    True: 'adfg'\n",
        "}"
      ],
      "metadata": {
        "colab": {
          "base_uri": "https://localhost:8080/"
        },
        "id": "R9cLNL6MxKwQ",
        "outputId": "b92cd62b-5f23-4a11-c36f-63a061372e4d"
      },
      "execution_count": 26,
      "outputs": [
        {
          "output_type": "execute_result",
          "data": {
            "text/plain": [
              "{1: 'adfg'}"
            ]
          },
          "metadata": {},
          "execution_count": 26
        }
      ]
    },
    {
      "cell_type": "code",
      "source": [
        "k1 = 1\n",
        "k2 = False\n",
        "k3 = 'key3'\n",
        "k4 = (1, 2, 3)\n",
        "\n",
        "d1 = {\n",
        "    k1: 'a',\n",
        "    k2: 'ab',\n",
        "    k3: 'abc',\n",
        "    k4: 'abcd'\n",
        "}\n",
        "\n",
        "d1"
      ],
      "metadata": {
        "colab": {
          "base_uri": "https://localhost:8080/"
        },
        "id": "9zlFYDs_xS1g",
        "outputId": "0acf4f82-913e-4466-ecae-59c0269e7575"
      },
      "execution_count": 27,
      "outputs": [
        {
          "output_type": "execute_result",
          "data": {
            "text/plain": [
              "{1: 'a', False: 'ab', 'key3': 'abc', (1, 2, 3): 'abcd'}"
            ]
          },
          "metadata": {},
          "execution_count": 27
        }
      ]
    },
    {
      "cell_type": "code",
      "source": [
        "print(hash((1, 23, 65, 6, 7, 45, 4)))\n",
        "print(hash((1, 23, 65, 6, 4, 45, 4)))"
      ],
      "metadata": {
        "colab": {
          "base_uri": "https://localhost:8080/"
        },
        "id": "InPephyOxj9W",
        "outputId": "2aec81e2-c508-46d6-f944-aaaa177e0c77"
      },
      "execution_count": 28,
      "outputs": [
        {
          "output_type": "stream",
          "name": "stdout",
          "text": [
            "5119825692640102417\n",
            "7177309289018732339\n"
          ]
        }
      ]
    },
    {
      "cell_type": "code",
      "source": [
        "num={\n",
        "    'a':5,\n",
        "    'b':9\n",
        "}\n",
        "\n",
        "num.update({'a':10})\n",
        "num"
      ],
      "metadata": {
        "colab": {
          "base_uri": "https://localhost:8080/"
        },
        "id": "rtwMJzR-x0Oh",
        "outputId": "66b5b55b-d6fa-4ded-e57d-ef74f981288d"
      },
      "execution_count": 29,
      "outputs": [
        {
          "output_type": "execute_result",
          "data": {
            "text/plain": [
              "{'a': 10, 'b': 9}"
            ]
          },
          "metadata": {},
          "execution_count": 29
        }
      ]
    },
    {
      "cell_type": "markdown",
      "source": [
        "SET"
      ],
      "metadata": {
        "id": "xKuWaDwkyaJa"
      }
    },
    {
      "cell_type": "markdown",
      "source": [],
      "metadata": {
        "id": "VbhxAQf6yZyz"
      }
    },
    {
      "cell_type": "code",
      "source": [
        "# toplam\n",
        "\n",
        "nums={4,5,6,6,'rt'}\n",
        "type(nums)\n",
        "nums\n"
      ],
      "metadata": {
        "colab": {
          "base_uri": "https://localhost:8080/"
        },
        "id": "NeWCa5MjyMEi",
        "outputId": "53cef665-5272-419b-f396-e58918f23eb7"
      },
      "execution_count": 32,
      "outputs": [
        {
          "output_type": "execute_result",
          "data": {
            "text/plain": [
              "{4, 5, 6, 'rt'}"
            ]
          },
          "metadata": {},
          "execution_count": 32
        }
      ]
    },
    {
      "cell_type": "code",
      "source": [
        "s1 = {'a', 'b', 'c'}\n",
        "s2 = {'r', 'a', 'b'}\n",
        "\n",
        "s1.union(s2)"
      ],
      "metadata": {
        "colab": {
          "base_uri": "https://localhost:8080/"
        },
        "id": "7pztu1zcyuJa",
        "outputId": "f70c721f-0da6-4323-93c3-a2cb0c8f1544"
      },
      "execution_count": 33,
      "outputs": [
        {
          "output_type": "execute_result",
          "data": {
            "text/plain": [
              "{'a', 'b', 'c', 'r'}"
            ]
          },
          "metadata": {},
          "execution_count": 33
        }
      ]
    },
    {
      "cell_type": "code",
      "source": [
        "s1.difference()"
      ],
      "metadata": {
        "colab": {
          "base_uri": "https://localhost:8080/"
        },
        "id": "I6K0Ee8fy_-4",
        "outputId": "65bbf0e7-f529-4870-e47c-5b87c7f1579f"
      },
      "execution_count": 34,
      "outputs": [
        {
          "output_type": "execute_result",
          "data": {
            "text/plain": [
              "{'a', 'b', 'c'}"
            ]
          },
          "metadata": {},
          "execution_count": 34
        }
      ]
    },
    {
      "cell_type": "code",
      "source": [
        "'Apple' in ['apple', 'banana', 'cherry']"
      ],
      "metadata": {
        "colab": {
          "base_uri": "https://localhost:8080/"
        },
        "id": "bo0bXtnFzCzj",
        "outputId": "8d9f57ca-b1da-4389-e402-1b7b9c397b3c"
      },
      "execution_count": 35,
      "outputs": [
        {
          "output_type": "execute_result",
          "data": {
            "text/plain": [
              "False"
            ]
          },
          "metadata": {},
          "execution_count": 35
        }
      ]
    },
    {
      "cell_type": "markdown",
      "source": [
        "**Namedtuple**\n"
      ],
      "metadata": {
        "id": "ItqQsI_OzTbj"
      }
    },
    {
      "cell_type": "code",
      "source": [
        "from collections import namedtuple\n",
        "\n",
        "# RGB = (200, 100, 230)\n",
        "\n",
        "Color = namedtuple(\"Color\", ['red', 'green', 'blue'])\n",
        "\n",
        "white = Color(255, 255, 255)\n",
        "black = Color(0, 0, 0)\n",
        "green = (0, 255, 0)\n",
        "c = Color(200, 30, 10)\n",
        "\n",
        "c.blue"
      ],
      "metadata": {
        "colab": {
          "base_uri": "https://localhost:8080/"
        },
        "id": "iQTjWbirzLS5",
        "outputId": "c75a1aa3-c918-406a-a086-7a23b9bc1c18"
      },
      "execution_count": 36,
      "outputs": [
        {
          "output_type": "execute_result",
          "data": {
            "text/plain": [
              "10"
            ]
          },
          "metadata": {},
          "execution_count": 36
        }
      ]
    },
    {
      "cell_type": "code",
      "source": [],
      "metadata": {
        "id": "v3wBWt-nzbxJ"
      },
      "execution_count": null,
      "outputs": []
    }
  ]
}